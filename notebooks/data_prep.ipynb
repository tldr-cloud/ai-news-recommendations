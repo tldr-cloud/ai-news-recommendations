{
 "cells": [
  {
   "cell_type": "code",
   "execution_count": 2,
   "metadata": {},
   "outputs": [
    {
     "name": "stdout",
     "output_type": "stream",
     "text": [
      "Collecting firebase-admin\n",
      "  Downloading firebase_admin-4.5.0-py3-none-any.whl (111 kB)\n",
      "\u001b[K     |████████████████████████████████| 111 kB 9.4 MB/s eta 0:00:01\n",
      "\u001b[?25hCollecting cachecontrol>=0.12.6\n",
      "  Downloading CacheControl-0.12.6-py2.py3-none-any.whl (19 kB)\n",
      "Requirement already satisfied, skipping upgrade: google-api-core[grpc]<2.0.0dev,>=1.14.0; platform_python_implementation != \"PyPy\" in /opt/conda/lib/python3.7/site-packages (from firebase-admin) (1.17.0)\n",
      "Requirement already satisfied, skipping upgrade: google-cloud-firestore>=1.4.0; platform_python_implementation != \"PyPy\" in /opt/conda/lib/python3.7/site-packages (from firebase-admin) (1.6.2)\n",
      "Requirement already satisfied, skipping upgrade: google-api-python-client>=1.7.8 in /opt/conda/lib/python3.7/site-packages (from firebase-admin) (1.7.12)\n",
      "Requirement already satisfied, skipping upgrade: google-cloud-storage>=1.18.0 in /opt/conda/lib/python3.7/site-packages (from firebase-admin) (1.26.0)\n",
      "Requirement already satisfied, skipping upgrade: requests in /opt/conda/lib/python3.7/site-packages (from cachecontrol>=0.12.6->firebase-admin) (2.24.0)\n",
      "Requirement already satisfied, skipping upgrade: msgpack>=0.5.2 in /opt/conda/lib/python3.7/site-packages (from cachecontrol>=0.12.6->firebase-admin) (1.0.0)\n",
      "Requirement already satisfied, skipping upgrade: setuptools>=34.0.0 in /opt/conda/lib/python3.7/site-packages (from google-api-core[grpc]<2.0.0dev,>=1.14.0; platform_python_implementation != \"PyPy\"->firebase-admin) (49.1.0.post20200704)\n",
      "Requirement already satisfied, skipping upgrade: protobuf>=3.4.0 in /opt/conda/lib/python3.7/site-packages (from google-api-core[grpc]<2.0.0dev,>=1.14.0; platform_python_implementation != \"PyPy\"->firebase-admin) (3.12.3)\n",
      "Requirement already satisfied, skipping upgrade: googleapis-common-protos<2.0dev,>=1.6.0 in /opt/conda/lib/python3.7/site-packages (from google-api-core[grpc]<2.0.0dev,>=1.14.0; platform_python_implementation != \"PyPy\"->firebase-admin) (1.51.0)\n",
      "Requirement already satisfied, skipping upgrade: google-auth<2.0dev,>=1.14.0 in /opt/conda/lib/python3.7/site-packages (from google-api-core[grpc]<2.0.0dev,>=1.14.0; platform_python_implementation != \"PyPy\"->firebase-admin) (1.17.2)\n",
      "Requirement already satisfied, skipping upgrade: six>=1.10.0 in /opt/conda/lib/python3.7/site-packages (from google-api-core[grpc]<2.0.0dev,>=1.14.0; platform_python_implementation != \"PyPy\"->firebase-admin) (1.15.0)\n",
      "Requirement already satisfied, skipping upgrade: pytz in /opt/conda/lib/python3.7/site-packages (from google-api-core[grpc]<2.0.0dev,>=1.14.0; platform_python_implementation != \"PyPy\"->firebase-admin) (2020.1)\n",
      "Requirement already satisfied, skipping upgrade: grpcio<2.0dev,>=1.8.2; extra == \"grpc\" in /opt/conda/lib/python3.7/site-packages (from google-api-core[grpc]<2.0.0dev,>=1.14.0; platform_python_implementation != \"PyPy\"->firebase-admin) (1.27.2)\n",
      "Requirement already satisfied, skipping upgrade: google-cloud-core<2.0dev,>=1.0.3 in /opt/conda/lib/python3.7/site-packages (from google-cloud-firestore>=1.4.0; platform_python_implementation != \"PyPy\"->firebase-admin) (1.3.0)\n",
      "Requirement already satisfied, skipping upgrade: httplib2<1dev,>=0.17.0 in /opt/conda/lib/python3.7/site-packages (from google-api-python-client>=1.7.8->firebase-admin) (0.18.1)\n",
      "Requirement already satisfied, skipping upgrade: uritemplate<4dev,>=3.0.0 in /opt/conda/lib/python3.7/site-packages (from google-api-python-client>=1.7.8->firebase-admin) (3.0.1)\n",
      "Requirement already satisfied, skipping upgrade: google-auth-httplib2>=0.0.3 in /opt/conda/lib/python3.7/site-packages (from google-api-python-client>=1.7.8->firebase-admin) (0.0.3)\n",
      "Requirement already satisfied, skipping upgrade: google-resumable-media<0.6dev,>=0.5.0 in /opt/conda/lib/python3.7/site-packages (from google-cloud-storage>=1.18.0->firebase-admin) (0.5.0)\n",
      "Requirement already satisfied, skipping upgrade: idna<3,>=2.5 in /opt/conda/lib/python3.7/site-packages (from requests->cachecontrol>=0.12.6->firebase-admin) (2.10)\n",
      "Requirement already satisfied, skipping upgrade: chardet<4,>=3.0.2 in /opt/conda/lib/python3.7/site-packages (from requests->cachecontrol>=0.12.6->firebase-admin) (3.0.4)\n",
      "Requirement already satisfied, skipping upgrade: urllib3!=1.25.0,!=1.25.1,<1.26,>=1.21.1 in /opt/conda/lib/python3.7/site-packages (from requests->cachecontrol>=0.12.6->firebase-admin) (1.25.9)\n",
      "Requirement already satisfied, skipping upgrade: certifi>=2017.4.17 in /opt/conda/lib/python3.7/site-packages (from requests->cachecontrol>=0.12.6->firebase-admin) (2020.6.20)\n",
      "Requirement already satisfied, skipping upgrade: cachetools<5.0,>=2.0.0 in /opt/conda/lib/python3.7/site-packages (from google-auth<2.0dev,>=1.14.0->google-api-core[grpc]<2.0.0dev,>=1.14.0; platform_python_implementation != \"PyPy\"->firebase-admin) (4.1.1)\n",
      "Requirement already satisfied, skipping upgrade: pyasn1-modules>=0.2.1 in /opt/conda/lib/python3.7/site-packages (from google-auth<2.0dev,>=1.14.0->google-api-core[grpc]<2.0.0dev,>=1.14.0; platform_python_implementation != \"PyPy\"->firebase-admin) (0.2.7)\n",
      "Requirement already satisfied, skipping upgrade: rsa<5,>=3.1.4; python_version >= \"3\" in /opt/conda/lib/python3.7/site-packages (from google-auth<2.0dev,>=1.14.0->google-api-core[grpc]<2.0.0dev,>=1.14.0; platform_python_implementation != \"PyPy\"->firebase-admin) (4.6)\n",
      "Requirement already satisfied, skipping upgrade: pyasn1<0.5.0,>=0.4.6 in /opt/conda/lib/python3.7/site-packages (from pyasn1-modules>=0.2.1->google-auth<2.0dev,>=1.14.0->google-api-core[grpc]<2.0.0dev,>=1.14.0; platform_python_implementation != \"PyPy\"->firebase-admin) (0.4.8)\n",
      "Installing collected packages: cachecontrol, firebase-admin\n",
      "Successfully installed cachecontrol-0.12.6 firebase-admin-4.5.0\n",
      "Note: you may need to restart the kernel to use updated packages.\n"
     ]
    }
   ],
   "source": [
    "%pip install --upgrade firebase-admin"
   ]
  },
  {
   "cell_type": "code",
   "execution_count": 3,
   "metadata": {},
   "outputs": [],
   "source": [
    "import firebase_admin\n",
    "from firebase_admin import credentials\n",
    "from firebase_admin import firestore"
   ]
  },
  {
   "cell_type": "code",
   "execution_count": 4,
   "metadata": {},
   "outputs": [],
   "source": [
    "# Use the application default credentials\n",
    "cred = credentials.ApplicationDefault()\n",
    "firebase_admin.initialize_app(cred, {\n",
    "  'projectId': 'tldr-278619',\n",
    "})\n",
    "\n",
    "db = firestore.client()"
   ]
  },
  {
   "cell_type": "code",
   "execution_count": 5,
   "metadata": {},
   "outputs": [],
   "source": [
    "def is_good_tldr(doc_id, doc_dict):\n",
    "    if doc_dict.get('skip_reason') == 'p':\n",
    "        print(f'Document {doc_id} should be published')\n",
    "        return True\n",
    "    \n",
    "    doc_mark_for_publish = doc_dict.get('published', False)\n",
    "   \n",
    "    return doc_mark_for_publish\n",
    "\n",
    "def output_doc(writer, doc):\n",
    "    doc_id = doc.id\n",
    "    doc_dict = doc.to_dict()\n",
    "    if not doc_dict:\n",
    "        return\n",
    "\n",
    "    csv_row = {\n",
    "        'id': doc_id,\n",
    "        'title': doc_dict['title'],\n",
    "        'summary': doc_dict['summary'],\n",
    "        'good_tldr': is_good_tldr(doc_id, doc_dict)\n",
    "    }\n",
    "    writer.writerow(csv_row)"
   ]
  },
  {
   "cell_type": "code",
   "execution_count": 6,
   "metadata": {},
   "outputs": [],
   "source": [
    "docs = db.collection(u'urls').stream()"
   ]
  },
  {
   "cell_type": "code",
   "execution_count": 7,
   "metadata": {},
   "outputs": [
    {
     "name": "stdout",
     "output_type": "stream",
     "text": [
      "Document https___arstechnica.com_gaming_2020_09_microsoft-confirms-499-xbox-series-x-for-nov-10_ should be published\n",
      "Document https___arstechnica.com_gaming_2020_10_facebooks-cloud-gaming-offering-focuses-on-free-to-play-mobile-games_ should be published\n",
      "Document https___techcrunch.com_2020_07_07_nvidias-ampere-gpus-come-to-google-cloud_amp_ should be published\n",
      "Document https___techcrunch.com_2020_09_08_general-motors-takes-2-billion-stake-electric-truck-startup-nikola_ should be published\n",
      "Document https___techcrunch.com_2020_09_14_bytedance-wont-sell-tiktok-to-microsoft-or-oracle_ should be published\n",
      "Document https___techcrunch.com_2020_09_24_google-meet-and-other-google-services-go-down_ should be published\n",
      "Document https___thenextweb.com_apps_2020_09_14_oracle-beats-microsofts-bid-for-tiktok_ should be published\n",
      "Document https___thenextweb.com_plugged_2020_09_09_android-11-here-are-the-8-best-new-features_ should be published\n",
      "Document https___u.today_1000000-in-bitcoin-fails-to-help-russian-hacker-group-attack-tesla-gigafactory-as-fbi-nails-them should be published\n",
      "Document https___venturebeat.com_2020_08_28_neuralink-demonstrates-its-next-generation-brain-machine-interface_ should be published\n",
      "Document https___www.cnbc.com_2020_08_31_facebook-threatens-to-block-news-in-australia.html should be published\n",
      "Document https___www.engadget.com_amazon-one-palm-recognition-go-stores-seattle-100718649.html should be published\n",
      "Document https___www.engadget.com_apple-music-beats-1-renamed-130259193.html should be published\n",
      "Document https___www.engadget.com_california-voters-reaffirm-that-uber-drivers-are-indeed-employees-091216147.html should be published\n",
      "Document https___www.engadget.com_facebook-cloud-gaming-launch-web-android-asphalt-9-legends-120007686.html should be published\n",
      "Document https___www.engadget.com_firefox-for-android-update-080007893.html should be published\n",
      "Document https___www.engadget.com_google-nest-hub-max-zoom-video-calls-preview-170018538.html should be published\n",
      "Document https___www.engadget.com_google-workspace-rebrand-gmail-logo-105013517.html should be published\n",
      "Document https___www.engadget.com_nikola-trevor-milton-resigns-sec-investigation-080431364.html should be published\n",
      "Document https___www.engadget.com_reddit-linkedin-ios-14-clipboard-snooping-fix-152930127.html should be published\n",
      "Document https___www.engadget.com_the-simpsons-bug-squad-dreamcast-unreleased-rare-game-2000-fox-102445143.html should be published\n",
      "Document https___www.engadget.com_tiktok-banned-in-pakistan-for-immoral-indecent-content-162713943.html should be published\n",
      "Document https___www.engadget.com_uber-buys-postmates-124051166.html should be published\n",
      "Document https___www.engadget.com_virgin-hyperloop-cerfification-center-west-virginia-143822294.html should be published\n",
      "Document https___www.engadget.com_xbox-series-x-499-price-launch-date-131122201.html should be published\n",
      "Document https___www.engadget.com_xiaomis-under-display-camera-tech-is-coming-to-phones-next-year-130012911.html should be published\n",
      "Document https___www.marketwatch.com_amp_story_amazon-apple-facebook-and-google-ceos-get-grilled-by-house-members-in-historic-antitrust-hearing-2020-07-29 should be published\n",
      "Document https___www.nytimes.com_2020_09_13_technology_tiktok-microsoft-oracle-bytedance.html?action=click&module=Top%20Stories&pgtype=Homepage should be published\n",
      "Document https___www.pcmag.com_news_report-apple-to-launch-apple-one-subscription-bundles should be published\n",
      "Document https___www.reuters.com_article_us-china-bytedance-tiktok-oracle_bytedance-drops-tiktoks-u-s-sale-to-partner-with-oracle-sources-idUSKBN265000 should be published\n",
      "Document https___www.reuters.com_article_us-usa-tiktok-ban-exclusive_exclusive-trump-to-block-u-s-downloads-of-tiktok-wechat-on-sunday-officials-idUSKBN2691QO should be published\n",
      "Document https___www.techradar.com_in_news_android-11-open-beta-now-available-for-oneplus-8-series should be published\n",
      "Document https___www.techradar.com_in_news_xiaomi-shares-the-timeline-for-its-under-display-camera-phone should be published\n",
      "Document https___www.techradar.com_news_amazon-wants-you-to-pay-for-your-shopping-using-your-palm should be published\n",
      "Document https___www.techradar.com_news_facebook-is-threatening-a-massive-news-sharing-ban-on-its-platforms-in-australia should be published\n",
      "Document https___www.techradar.com_news_tiktok-has-rejected-microsoft-deal-in-favour-of-oracle-report should be published\n",
      "Document https___www.theguardian.com_technology_2020_aug_17_google-giving-user-data-authorities-documents-reveal should be published\n",
      "Document https___www.theverge.com_2020_10_6_21503649_google-workspace-g-suite-gmail-chat-meet-docs should be published\n",
      "Document https___www.theverge.com_2020_11_20_21579016_apple-m1-macbook-air-pro-ifixit-teardown should be published\n",
      "Document https___www.theverge.com_2020_11_23_21611927_twitter-show-warning-like-labeled-tweet should be published\n",
      "Document https___www.theverge.com_2020_11_4_21546037_prop-22-california-uber-lyft-ballot-measure-result should be published\n",
      "Document https___www.theverge.com_2020_12_11_22169773_twitter-acquires-squad-screen-sharing-video-chat should be published\n",
      "Document https___www.theverge.com_2020_12_14_22170522_google-zoom-nest-hub-max-device-video-optimization-wifi should be published\n",
      "Document https___www.theverge.com_2020_12_15_22175923_signal-video-calls-new-groups-five-people-max should be published\n",
      "Document https___www.theverge.com_2020_12_18_22189059_microsoft-cyberpunk-2077-refunds-xbox-microsoft-store should be published\n",
      "Document https___www.theverge.com_2020_7_10_21319784_ios-apps-crashing-spotify-tiktok-pinterest-tinder-facebook-sdk-certification-issue should be published\n",
      "Document https___www.theverge.com_2020_7_15_21325325_apple-eu-ireland-back-taxes-13-billion-overturned-appealed should be published\n",
      "Document https___www.theverge.com_2020_7_15_21326200_elon-musk-bill-gates-twitter-hack-bitcoin-scam-compromised should be published\n",
      "Document https___www.theverge.com_2020_8_27_21403698_tiktok-ceo-kevin-mayer-resigns-trump-administration-ban-microsoft-disney should be published\n",
      "Document https___www.theverge.com_2020_9_13_21434743_facebook-remove-oregon-fires-rumors-antifa-qanon-false should be published\n",
      "Document https___www.theverge.com_2020_9_16_21440721_sony-ps5-pre-orders-day-one-mess should be published\n",
      "Document https___www.wired.com_story_windows-xp-source-code-leak-ransomware-phishing_ should be published\n",
      "Document https___www.wsj.com_amp_articles_google-to-keep-employees-home-until-summer-2021-amid-coronavirus-pandemic-11595854201 should be published\n",
      "Document https___www.wsj.com_amp_articles_tech-ceos-defend-operations-ahead-of-congressional-hearing-11596027626 should be published\n",
      "Processed 4348 documents\n"
     ]
    }
   ],
   "source": [
    "import itertools\n",
    "\n",
    "import logging\n",
    "import os\n",
    "\n",
    "import csv\n",
    "\n",
    "\n",
    "docs_count = 0\n",
    "\n",
    "with open('local-summary-training-data.csv', 'w', newline='') as csvfile:\n",
    "    fieldnames = ['id', 'title', 'summary', 'good_tldr']\n",
    "    writer = csv.DictWriter(csvfile, fieldnames=fieldnames)\n",
    "    \n",
    "    writer.writeheader()\n",
    "\n",
    "    for doc in docs:\n",
    "        output_doc(writer, doc)\n",
    "        docs_count += 1\n",
    "        \n",
    "print(f'Processed {docs_count} documents')"
   ]
  },
  {
   "cell_type": "code",
   "execution_count": 9,
   "metadata": {},
   "outputs": [
    {
     "name": "stdout",
     "output_type": "stream",
     "text": [
      "id,title,summary,good_tldr\n",
      "\n",
      "http___techcrunch.com_2017_02_23_website-builder-wix-acquires-art-community-deviantart-for-36m_,Website builder Wix acquires art community DeviantArt for $36M – TechCrunch,\"Wix .com has made another acquisition to build out the tools that it provides to users to build and administer websites: it has acquired DeviantArt, an online community for artists, designers and art/design enthusiasts with some 325 million individual pieces of original art and more than 40 million registered members, for $36 million in cash, including $3 million of assumed liabilities. Updated detail related to DeviantArt’s valuation prior to its sale.\",False\n",
      "\n",
      "http___techcrunch.com_2020_07_02_festos-latest-biomimetic-robots-are-a-flying-feathered-bird-and-ball-bottomed-helper-arm_,Festo’s latest biomimetic robots are a flying feathered bird and ball-bottomed helper arm – TechCrunch,\"You could be excused for thinking that German robotics company Festo does nothing but put together fabulous prototype robots built to resemble kangaroos, jellyfish, and other living things. They do in fact actually make real industrial robots, but it’s hard not to marvel at their biomimetic experiments; Case in point, the feathered BionicSwift and absurd BionicMobileAssistant motile arm. Of course, it’s silly to criticize such a machine, which is aspirational rather than practical.\",False\n",
      "\n",
      "http___techcrunch.com_2020_07_02_growth-capital-investor-kennet-raises-250m-fund-backed-by-edmond-de-rothschild_,\"Growth capital investor Kennet raises $250M fund, backed by Edmond de Rothschild – TechCrunch\",\"Venture capital is “not the only fruit” for entrepreneurs, as the often quieter ‘Growth Capital’ can also see great returns for entrepreneurs who prefer to retain a lot of ownership and control but are also willing to bootstrap over a longer period in order to reach revenues and profits. With the COVID-19 pandemic pushing millions of people online, tech investors of all classes are now reaping the dividends in this accelerated, Coronavirus-powered transition to digital.\",False\n",
      "\n",
      "http___techcrunch.com_2020_07_02_lets-stop-covid-19-from-undoing-diversity-gains_,Let’s stop COVID-19 from undoing diversity gains – TechCrunch,\"Any disaster will have its harshest repercussions on people who were already marginalized. This may be the shock to the system that will make business leaders realize that diversity is not an accessory or PR stunt — it is an integral part of the daily lives of each and every member of your team. Today’s consumers and your co-workers demand socially conscious companies, which is why D&I is vital to making any startup a well-rounded business. An important note — helping everyone reach success means giving everyone the resources to do so. How can you change how your industry looks, even in times of crisis.\",False\n",
      "\n",
      "http___techcrunch.com_2020_07_02_ourpeople_,\"OurPeople, the team communication and engagement platform, raises $2M – TechCrunch\",\"OurPeople, the U.K. startup that’s built a team communication and engagement platform for deskless workers, has raised $2 million in Series A funding. The startup primarily works in industries with large numbers of deskless workers, such as fitness and leisure. Furthermore, the OurPeople founder says the platform is different because the startup is not attempting to create a workplace social network “where vital information can get lost in all the typical noise.” “\",False\n",
      "\n",
      "http___techcrunch.com_2020_07_02_reliance-jio-platforms-launches-jiomeet-video-conference-service_,India’s richest man takes on Zoom – TechCrunch,\"India’s Reliance Jio Platforms, which recently concluded a $15.2 billion fundraise run, is ready to enter a new business: Video conferencing. Like Zoom and Google Meet, JioMeet offers unlimited number of free calls in high definition (720p) to users and supports as many as 100 participants on a call. JioMeet is available for use through Chrome and Firefox browsers on desktop, as well as has standalone apps for macOS, Windows, iOS, and Android.\",False\n",
      "\n",
      "http___techcrunch.com_2020_07_02_tesla-delivered-90650-vehicles-in-second-quarter-a-4-9-decline_,\"Tesla delivered 90,650 vehicles in second quarter, a smaller-than-expected decline – TechCrunch\",\"Tesla said Thursday that it delivered 90,650 vehicles in the second quarter, a 4.8% decline from the same period last year prompted by challenges caused by the COVID-19 pandemic that included suspending production for weeks at its main U.S. factory.\",False\n",
      "\n",
      "http___techcrunch.com_2020_07_02_the-great-stink-in-software-pipelines_,The great stink in software pipelines – TechCrunch,\"The River Thames is overflowing with the smell of human and industrial waste. Failure to upkeep an aging sewer system and a growing population that used it contributed to a powder keg of effluent, bringing about cholera outbreaks and shrouding the city in a smell that would not go away.\",False\n",
      "\n",
      "http___techcrunch.com_2020_07_03_us-plans-to-rollback-special-status-may-erode-hong-kongs-startup-ecosystem_,US plans to rollback special status may erode Hong Kong’s startup ecosystem – TechCrunch,\"For two months, the people of Hong Kong waited in suspense after China’s legislature approved a new national security law. After announcing the new policies, the U.S. government said further restrictions are being considered.\",True\n",
      "\n",
      "http___techcrunch.com_2020_07_04_rocket-lab-launch-fails-during-rockets-second-stage-burn-causing-a-loss-of-vehicle-and-payloads_,\"Rocket Lab launch fails during rocket’s second stage burn, causing a loss of vehicle and payloads – TechCrunch\",\"Rocket Lab’s ‘Pic or it didn’t happen’ launch on Saturday ended in failure, with a total loss of the Electron launch vehicle and all seven payloads on board. The mission appeared to be progressing as intended, but the launch vehicle appeared to experience unexpected stress during the ‘Max Q’ phase of launch, or the period during which the Electron rocket experiences the most significant atmospheric pressure prior to entering space.\",False\n",
      "\n",
      "http___techcrunch.com_2020_07_05_lydia-expands-credit-offering-in-partnership-with-younited-credit_,Lydia expands credit offering in partnership with Younited Credit – TechCrunch,\"French startup Lydia is announcing a new partnership with Younited Credit, which lets you borrow anything between €500 and €3,000 and pay back within six to 36 months. But that feature was limited to short-term credit as you had to reimburse everything over three installments. Lydia will try to be as transparent as possible when it comes to interests. If you accept the offer, you have seven days to change your mind — it’s a regulatory requirement in France. By offering two different credit products, Lydia wants to cover more use cases.\",False\n",
      "\n",
      "http___techcrunch.com_2020_07_06_instagram-reels-arrives-in-india-following-tiktoks-ban_,Instagram Reels tested in India following TikTok’s ban – TechCrunch,\"In the wake of India’s decision to ban TikTok and dozens of other Chinese apps over privacy concerns, Instagram has expanded its TikTok rival, known as Reels, in the region. However, Instagram doesn’t have the same sort of two-tabbed, scrollable feed, like TikTok offers, just for watching Reels’ content. Following the launch of Reels last year in Brazil, Instagram updated the feature based on user feedback. Before, Reels had been only available to Instagram Stories, which limited their exposure.) Roposo even saw its user base jump by 22 million in the two days after India banned TikTok, the report noted.\",False\n",
      "\n",
      "http___techcrunch.com_2020_07_06_payfazz-gets-53-million-to-give-more-indonesians-access-to-financial-services_,Payfazz gets $53 million to give more Indonesians access to financial services – TechCrunch,\"Indonesia is not only Southeast Asia’s most populated country, but also one of the world’s fastest-growing economies. But many people, especially outside of major cities, still lack access to basic financial services like bank accounts. Previous investors, including Tiger Global, Y Combinator and ACE & Company, also returned for the round. Payfazz differentiates with a portfolio of mobile services that make it easier for Indonesians to handle routine financial tasks, including bill payments and loans, even if they live in rural areas without banks. The company says it currently serves 10 million monthly active users, and plans to expand its offerings to include more digital financial products. While Grab Financial and other Southeast Asian fintech companies may eventually become Payfazz’s competitors, Kwik said he currently sees them as potential partners. “ The reason is simply because most of these providers still focus their market and resources in the cities and urban areas, like many of the traditional banks.\",False\n",
      "\n",
      "http___techcrunch.com_2020_07_06_paytm-vijay-shekhar-sharma-to-acquire-raheja-qbe-for-76m_,\"Paytm, Vijay Shekhar Sharma to acquire insurance firm Raheja QBE for $76M – TechCrunch\",\"Paytm, India’s most valuable startup, and its co-founder and chief executive, Vijay Shekhar Sharma, announced on Monday they have reached an agreement to acquire insurance firm Raheja QBE for a sum of $76 million as the financial services startup looks to tap the nation’s booming insurance market. Raheja QBE’s “strong management team will help us accelerate our journey of taking insurance to the large population of India with the aim to create a tech-driven, multi-channel general insurance company with innovative and affordable insurance products,” said Amit Nayyar, president of Paytm, in a statement. According to rating agency ICRA, insurance products had reached less than 3% of the population as of 2017. In recent years, scores of startups and established banks have launched products to win this market.\",False\n",
      "\n",
      "http___techcrunch.com_2020_07_06_secretive-data-startup-palantir-has-confidentially-filed-for-an-ipo_,Secretive data startup Palantir has confidentially filed for an IPO – TechCrunch,\"Secretive big data and analytics startup Palantir, co-founded by Peter Thiel, said late Monday it has confidentially filed paperwork with the U.S. Securities and Exchange Commission to go public. As the coronavirus pandemic spread throughout the world, Palantir pitched its technology to bring big data to tracking efforts. Palantir’s filing is another example of how the IPO market is heating up yet again, despite the freeze COVID-19 put on so many companies. Accolade, a healthcare benefits company, similarly sold more shares than expected.\",True\n",
      "\n",
      "http___techcrunch.com_2020_07_06_tiktok-us-ban-hong-kong-exit_,TikTok faces ban in the US; pulls out of Hong Kong – TechCrunch,\"The world’s most popular short video app continues to be in the crosshairs of politicians globally. The potential ban would deal another blow to TikTok after it recently went down in its biggest market, India. The company declined further comment on the decision. TikTok said it had 150,000 users in Hong Kong as of last September, a nearly negligible share given the app had 2 billion downloads globally by April.\",False\n",
      "\n",
      "http___techcrunch.com_2020_07_06_uber-takes-out-postmates_,\"Uber confirms it is acquiring Postmates in an all-stock, $2.65B deal – TechCrunch\",\"Competition continues to heat up in the food delivery wars. The deal confirms reports that emerged last week, and got re-reported last night with more financial detail, that Postmates and Uber were in negotiations. As more people and more restaurants have come to use our services, Q2 bookings on Uber Eats are up more than 100% year on year. Over the past eight years we have been focused on a single mission: enable anyone to have anything delivered to them on-demand. The trend of those numbers is one reason why Uber has been looking to expand its food delivery business. It doesn’t eradicate it completely, though: DoorDash and Grubhub (now supercharged with Just Eat Takeaway profits and financial muscle) are still around and will represent strong alternatives both for consumers and restaurants looking for delivery partners.\",True\n",
      "\n",
      "http___techcrunch.com_2020_07_08_report-says-quibi-lost-92-of-its-earliest-users-after-free-trials-expired_,Report says Quibi lost 92% of its earliest users after free trials expired – TechCrunch,\"The Independence Day weekend was a big one for Quibi — it was time to see how many of their earliest subscribers would convert from free users to paid subscribers. Early reports indicate that the streaming service held onto some subscribers through that period, but perhaps at a lesser rate than recently launched rival services. TechCrunch has reached out to Quibi for comment. In response to Quibi’s statement, a Sensor Tower spokesperson indicated that the cause of the mismatch between total download numbers could be, in part, due to the fact that its data only counts installs as “the first download of an app by a single Apple ID or Google account.\",True\n",
      "\n",
      "http___techcrunch.com_2020_07_08_setsail-raises-raises-7m-to-change-how-sales-teams-are-compensated_,SetSail raises raises $7M to change how sales teams are compensated – TechCrunch,\"Most sales teams earn a commission after a sale closes, but nothing prior to that. Yet there are a variety of signals along the way that indicate the sales process is progressing, and SetSail, a startup from some former Google engineers, is using machine learning to figure out what those signals are, and how to compensate salespeople as they move along the path to a sale, not just after they close the deal. We use machine learning to create progress-based incentives,” Levi explained. The seeds for the idea behind SetSail were planted years ago when the three founders were working at Google tinkering with ways to motivate sales reps beyond pure commission. If I’m closing the deal, I’m getting my commission.\",False\n",
      "\n"
     ]
    }
   ],
   "source": [
    "with open('local-summary-training-data.csv', 'r') as lines:\n",
    "    for line in itertools.islice(lines, 20):\n",
    "        print(line)"
   ]
  },
  {
   "cell_type": "code",
   "execution_count": 26,
   "metadata": {},
   "outputs": [],
   "source": [
    "from google.cloud import storage\n",
    "    \n",
    "# https://console.cloud.google.com/storage/browser/[bucket-id]/\n",
    "client = storage.Client(project='tldr-news-discovery')\n",
    "bucket = client.get_bucket('tldr-training-dataset')\n",
    "blob = bucket.blob('summary-training-data.csv')\n",
    "blob.upload_from_filename('local-summary-training-data.csv')"
   ]
  }
 ],
 "metadata": {
  "environment": {
   "name": "common-cpu.m59",
   "type": "gcloud",
   "uri": "gcr.io/deeplearning-platform-release/base-cpu:m59"
  },
  "kernelspec": {
   "display_name": "Python 3",
   "language": "python",
   "name": "python3"
  },
  "language_info": {
   "codemirror_mode": {
    "name": "ipython",
    "version": 3
   },
   "file_extension": ".py",
   "mimetype": "text/x-python",
   "name": "python",
   "nbconvert_exporter": "python",
   "pygments_lexer": "ipython3",
   "version": "3.7.6"
  }
 },
 "nbformat": 4,
 "nbformat_minor": 4
}
