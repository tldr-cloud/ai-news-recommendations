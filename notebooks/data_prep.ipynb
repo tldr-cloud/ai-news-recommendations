{
 "cells": [
  {
   "cell_type": "code",
   "execution_count": 1,
   "metadata": {},
   "outputs": [
    {
     "name": "stdout",
     "output_type": "stream",
     "text": [
      "Requirement already up-to-date: firebase-admin in /opt/conda/lib/python3.7/site-packages (4.3.0)\n",
      "Requirement already satisfied, skipping upgrade: google-cloud-storage>=1.18.0 in /opt/conda/lib/python3.7/site-packages (from firebase-admin) (1.30.0)\n",
      "Requirement already satisfied, skipping upgrade: google-api-core[grpc]<2.0.0dev,>=1.14.0; platform_python_implementation != \"PyPy\" in /opt/conda/lib/python3.7/site-packages (from firebase-admin) (1.16.0)\n",
      "Requirement already satisfied, skipping upgrade: cachecontrol>=0.12.6 in /opt/conda/lib/python3.7/site-packages (from firebase-admin) (0.12.6)\n",
      "Requirement already satisfied, skipping upgrade: google-api-python-client>=1.7.8 in /opt/conda/lib/python3.7/site-packages (from firebase-admin) (1.9.1)\n",
      "Requirement already satisfied, skipping upgrade: google-cloud-firestore>=1.4.0; platform_python_implementation != \"PyPy\" in /opt/conda/lib/python3.7/site-packages (from firebase-admin) (1.8.1)\n",
      "Requirement already satisfied, skipping upgrade: google-auth<2.0dev,>=1.11.0 in /opt/conda/lib/python3.7/site-packages (from google-cloud-storage>=1.18.0->firebase-admin) (1.20.0)\n",
      "Requirement already satisfied, skipping upgrade: google-resumable-media<2.0dev,>=0.6.0 in /opt/conda/lib/python3.7/site-packages (from google-cloud-storage>=1.18.0->firebase-admin) (0.7.0)\n",
      "Requirement already satisfied, skipping upgrade: google-cloud-core<2.0dev,>=1.2.0 in /opt/conda/lib/python3.7/site-packages (from google-cloud-storage>=1.18.0->firebase-admin) (1.3.0)\n",
      "Requirement already satisfied, skipping upgrade: requests<3.0.0dev,>=2.18.0 in /opt/conda/lib/python3.7/site-packages (from google-api-core[grpc]<2.0.0dev,>=1.14.0; platform_python_implementation != \"PyPy\"->firebase-admin) (2.24.0)\n",
      "Requirement already satisfied, skipping upgrade: pytz in /opt/conda/lib/python3.7/site-packages (from google-api-core[grpc]<2.0.0dev,>=1.14.0; platform_python_implementation != \"PyPy\"->firebase-admin) (2020.1)\n",
      "Requirement already satisfied, skipping upgrade: setuptools>=34.0.0 in /opt/conda/lib/python3.7/site-packages (from google-api-core[grpc]<2.0.0dev,>=1.14.0; platform_python_implementation != \"PyPy\"->firebase-admin) (49.2.0.post20200712)\n",
      "Requirement already satisfied, skipping upgrade: googleapis-common-protos<2.0dev,>=1.6.0 in /opt/conda/lib/python3.7/site-packages (from google-api-core[grpc]<2.0.0dev,>=1.14.0; platform_python_implementation != \"PyPy\"->firebase-admin) (1.51.0)\n",
      "Requirement already satisfied, skipping upgrade: six>=1.10.0 in /opt/conda/lib/python3.7/site-packages (from google-api-core[grpc]<2.0.0dev,>=1.14.0; platform_python_implementation != \"PyPy\"->firebase-admin) (1.15.0)\n",
      "Requirement already satisfied, skipping upgrade: protobuf>=3.4.0 in /opt/conda/lib/python3.7/site-packages (from google-api-core[grpc]<2.0.0dev,>=1.14.0; platform_python_implementation != \"PyPy\"->firebase-admin) (3.12.3)\n",
      "Requirement already satisfied, skipping upgrade: grpcio<2.0dev,>=1.8.2; extra == \"grpc\" in /opt/conda/lib/python3.7/site-packages (from google-api-core[grpc]<2.0.0dev,>=1.14.0; platform_python_implementation != \"PyPy\"->firebase-admin) (1.30.0)\n",
      "Requirement already satisfied, skipping upgrade: msgpack>=0.5.2 in /opt/conda/lib/python3.7/site-packages (from cachecontrol>=0.12.6->firebase-admin) (1.0.0)\n",
      "Requirement already satisfied, skipping upgrade: httplib2<1dev,>=0.9.2 in /opt/conda/lib/python3.7/site-packages (from google-api-python-client>=1.7.8->firebase-admin) (0.18.1)\n",
      "Requirement already satisfied, skipping upgrade: google-auth-httplib2>=0.0.3 in /opt/conda/lib/python3.7/site-packages (from google-api-python-client>=1.7.8->firebase-admin) (0.0.3)\n",
      "Requirement already satisfied, skipping upgrade: uritemplate<4dev,>=3.0.0 in /opt/conda/lib/python3.7/site-packages (from google-api-python-client>=1.7.8->firebase-admin) (3.0.1)\n",
      "Requirement already satisfied, skipping upgrade: cachetools<5.0,>=2.0.0 in /opt/conda/lib/python3.7/site-packages (from google-auth<2.0dev,>=1.11.0->google-cloud-storage>=1.18.0->firebase-admin) (4.1.1)\n",
      "Requirement already satisfied, skipping upgrade: pyasn1-modules>=0.2.1 in /opt/conda/lib/python3.7/site-packages (from google-auth<2.0dev,>=1.11.0->google-cloud-storage>=1.18.0->firebase-admin) (0.2.7)\n",
      "Requirement already satisfied, skipping upgrade: rsa<5,>=3.1.4; python_version >= \"3.5\" in /opt/conda/lib/python3.7/site-packages (from google-auth<2.0dev,>=1.11.0->google-cloud-storage>=1.18.0->firebase-admin) (4.6)\n",
      "Requirement already satisfied, skipping upgrade: google-crc32c>=0.1.0; python_version >= \"3.5\" in /opt/conda/lib/python3.7/site-packages (from google-resumable-media<2.0dev,>=0.6.0->google-cloud-storage>=1.18.0->firebase-admin) (0.1.0)\n",
      "Requirement already satisfied, skipping upgrade: certifi>=2017.4.17 in /opt/conda/lib/python3.7/site-packages (from requests<3.0.0dev,>=2.18.0->google-api-core[grpc]<2.0.0dev,>=1.14.0; platform_python_implementation != \"PyPy\"->firebase-admin) (2020.6.20)\n",
      "Requirement already satisfied, skipping upgrade: urllib3!=1.25.0,!=1.25.1,<1.26,>=1.21.1 in /opt/conda/lib/python3.7/site-packages (from requests<3.0.0dev,>=2.18.0->google-api-core[grpc]<2.0.0dev,>=1.14.0; platform_python_implementation != \"PyPy\"->firebase-admin) (1.25.10)\n",
      "Requirement already satisfied, skipping upgrade: idna<3,>=2.5 in /opt/conda/lib/python3.7/site-packages (from requests<3.0.0dev,>=2.18.0->google-api-core[grpc]<2.0.0dev,>=1.14.0; platform_python_implementation != \"PyPy\"->firebase-admin) (2.10)\n",
      "Requirement already satisfied, skipping upgrade: chardet<4,>=3.0.2 in /opt/conda/lib/python3.7/site-packages (from requests<3.0.0dev,>=2.18.0->google-api-core[grpc]<2.0.0dev,>=1.14.0; platform_python_implementation != \"PyPy\"->firebase-admin) (3.0.4)\n",
      "Requirement already satisfied, skipping upgrade: pyasn1<0.5.0,>=0.4.6 in /opt/conda/lib/python3.7/site-packages (from pyasn1-modules>=0.2.1->google-auth<2.0dev,>=1.11.0->google-cloud-storage>=1.18.0->firebase-admin) (0.4.8)\n",
      "Requirement already satisfied, skipping upgrade: cffi>=1.0.0 in /opt/conda/lib/python3.7/site-packages (from google-crc32c>=0.1.0; python_version >= \"3.5\"->google-resumable-media<2.0dev,>=0.6.0->google-cloud-storage>=1.18.0->firebase-admin) (1.14.1)\n",
      "Requirement already satisfied, skipping upgrade: pycparser in /opt/conda/lib/python3.7/site-packages (from cffi>=1.0.0->google-crc32c>=0.1.0; python_version >= \"3.5\"->google-resumable-media<2.0dev,>=0.6.0->google-cloud-storage>=1.18.0->firebase-admin) (2.20)\n",
      "Note: you may need to restart the kernel to use updated packages.\n"
     ]
    }
   ],
   "source": [
    "\n",
    "%pip install --upgrade firebase-admin\n"
   ]
  },
  {
   "cell_type": "code",
   "execution_count": 2,
   "metadata": {},
   "outputs": [],
   "source": [
    "\n",
    "import firebase_admin\n",
    "from firebase_admin import credentials\n",
    "from firebase_admin import firestore\n",
    "\n"
   ]
  },
  {
   "cell_type": "code",
   "execution_count": 3,
   "metadata": {},
   "outputs": [],
   "source": [
    "# Use the application default credentials\n",
    "cred = credentials.ApplicationDefault()\n",
    "firebase_admin.initialize_app(cred, {\n",
    "  'projectId': 'tldr-278619',\n",
    "})\n",
    "\n",
    "db = firestore.client()\n",
    "\n"
   ]
  },
  {
   "cell_type": "code",
   "execution_count": 4,
   "metadata": {},
   "outputs": [],
   "source": []
  },
  {
   "cell_type": "code",
   "execution_count": 22,
   "metadata": {},
   "outputs": [],
   "source": [
    "def is_good_tldr(doc_id, doc_dict):\n",
    "    if doc_dict.get('skip_reason') == 'p':\n",
    "        print(f'Document {doc_id} should be published')\n",
    "        return True\n",
    "    \n",
    "    doc_mark_for_publish = doc_dict.get('published', False)\n",
    "   \n",
    "    return doc_mark_for_publish\n",
    "\n",
    "def output_doc(writer, doc):\n",
    "    doc_id = doc.id\n",
    "    doc_dict = doc.to_dict()\n",
    "#     print(f'{doc_id} => {doc_dict}')\n",
    "    if not doc_dict:\n",
    "        return\n",
    "\n",
    "    csv_row = {\n",
    "        'id': doc_id,\n",
    "        'title': doc_dict['title'],\n",
    "        'summary': doc_dict['summary'],\n",
    "        'good_tldr': is_good_tldr(doc_id, doc_dict)\n",
    "    }\n",
    "#     print(csv_row)\n",
    "    writer.writerow(csv_row)"
   ]
  },
  {
   "cell_type": "code",
   "execution_count": 23,
   "metadata": {},
   "outputs": [],
   "source": [
    "docs = db.collection(u'urls').stream()"
   ]
  },
  {
   "cell_type": "code",
   "execution_count": 24,
   "metadata": {},
   "outputs": [
    {
     "name": "stdout",
     "output_type": "stream",
     "text": [
      "Document https___techcrunch.com_2020_07_07_nvidias-ampere-gpus-come-to-google-cloud_amp_ should be published\n",
      "Document https___www.engadget.com_apple-music-beats-1-renamed-130259193.html should be published\n",
      "Document https___www.engadget.com_reddit-linkedin-ios-14-clipboard-snooping-fix-152930127.html should be published\n",
      "Document https___www.engadget.com_uber-buys-postmates-124051166.html should be published\n",
      "Document https___www.marketwatch.com_amp_story_amazon-apple-facebook-and-google-ceos-get-grilled-by-house-members-in-historic-antitrust-hearing-2020-07-29 should be published\n",
      "Document https___www.pcmag.com_news_report-apple-to-launch-apple-one-subscription-bundles should be published\n",
      "Document https___www.theguardian.com_technology_2020_aug_17_google-giving-user-data-authorities-documents-reveal should be published\n",
      "Document https___www.theverge.com_2020_7_10_21319784_ios-apps-crashing-spotify-tiktok-pinterest-tinder-facebook-sdk-certification-issue should be published\n",
      "Document https___www.theverge.com_2020_7_15_21325325_apple-eu-ireland-back-taxes-13-billion-overturned-appealed should be published\n",
      "Document https___www.theverge.com_2020_7_15_21326200_elon-musk-bill-gates-twitter-hack-bitcoin-scam-compromised should be published\n",
      "Document https___www.wsj.com_amp_articles_google-to-keep-employees-home-until-summer-2021-amid-coronavirus-pandemic-11595854201 should be published\n",
      "Document https___www.wsj.com_amp_articles_tech-ceos-defend-operations-ahead-of-congressional-hearing-11596027626 should be published\n",
      "Processed 1630 documents\n"
     ]
    }
   ],
   "source": [
    "import itertools\n",
    "# first10 = itertools.islice(docs, 300)\n",
    "\n",
    "import logging\n",
    "import os\n",
    "\n",
    "import csv\n",
    "\n",
    "\n",
    "docs_count = 0\n",
    "\n",
    "with open('local-summary-training-data.csv', 'w', newline='') as csvfile:\n",
    "    fieldnames = ['id', 'title', 'summary', 'good_tldr']\n",
    "    writer = csv.DictWriter(csvfile, fieldnames=fieldnames)\n",
    "    \n",
    "    writer.writeheader()\n",
    "\n",
    "    for doc in docs:\n",
    "        output_doc(writer, doc)\n",
    "        docs_count += 1\n",
    "        \n",
    "print(f'Processed {docs_count} documents')\n",
    "        \n",
    "        \n"
   ]
  },
  {
   "cell_type": "code",
   "execution_count": 69,
   "metadata": {},
   "outputs": [
    {
     "name": "stdout",
     "output_type": "stream",
     "text": [
      "id,title,summary,should_publish\n",
      "\n",
      "http___techcrunch.com_2020_07_02_festos-latest-biomimetic-robots-are-a-flying-feathered-bird-and-ball-bottomed-helper-arm_,Festo’s latest biomimetic robots are a flying feathered bird and ball-bottomed helper arm – TechCrunch,\"You could be excused for thinking that German robotics company Festo does nothing but put together fabulous prototype robots built to resemble kangaroos, jellyfish, and other living things. They do in fact actually make real industrial robots, but it’s hard not to marvel at their biomimetic experiments; Case in point, the feathered BionicSwift and absurd BionicMobileAssistant motile arm. Of course, it’s silly to criticize such a machine, which is aspirational rather than practical.\",False\n",
      "\n",
      "http___techcrunch.com_2020_07_02_growth-capital-investor-kennet-raises-250m-fund-backed-by-edmond-de-rothschild_,\"Growth capital investor Kennet raises $250M fund, backed by Edmond de Rothschild – TechCrunch\",\"Venture capital is “not the only fruit” for entrepreneurs, as the often quieter ‘Growth Capital’ can also see great returns for entrepreneurs who prefer to retain a lot of ownership and control but are also willing to bootstrap over a longer period in order to reach revenues and profits. With the COVID-19 pandemic pushing millions of people online, tech investors of all classes are now reaping the dividends in this accelerated, Coronavirus-powered transition to digital.\",False\n",
      "\n",
      "http___techcrunch.com_2020_07_02_lets-stop-covid-19-from-undoing-diversity-gains_,Let’s stop COVID-19 from undoing diversity gains – TechCrunch,\"Any disaster will have its harshest repercussions on people who were already marginalized. This may be the shock to the system that will make business leaders realize that diversity is not an accessory or PR stunt — it is an integral part of the daily lives of each and every member of your team. Today’s consumers and your co-workers demand socially conscious companies, which is why D&I is vital to making any startup a well-rounded business. An important note — helping everyone reach success means giving everyone the resources to do so. How can you change how your industry looks, even in times of crisis.\",False\n",
      "\n",
      "http___techcrunch.com_2020_07_02_ourpeople_,\"OurPeople, the team communication and engagement platform, raises $2M – TechCrunch\",\"OurPeople, the U.K. startup that’s built a team communication and engagement platform for deskless workers, has raised $2 million in Series A funding. The startup primarily works in industries with large numbers of deskless workers, such as fitness and leisure. Furthermore, the OurPeople founder says the platform is different because the startup is not attempting to create a workplace social network “where vital information can get lost in all the typical noise.” “\",False\n",
      "\n",
      "http___techcrunch.com_2020_07_02_reliance-jio-platforms-launches-jiomeet-video-conference-service_,India’s richest man takes on Zoom – TechCrunch,\"India’s Reliance Jio Platforms, which recently concluded a $15.2 billion fundraise run, is ready to enter a new business: Video conferencing. Like Zoom and Google Meet, JioMeet offers unlimited number of free calls in high definition (720p) to users and supports as many as 100 participants on a call. JioMeet is available for use through Chrome and Firefox browsers on desktop, as well as has standalone apps for macOS, Windows, iOS, and Android.\",False\n",
      "\n"
     ]
    }
   ],
   "source": [
    "with open('documents.csv', 'r') as lines:\n",
    "    for line in itertools.islice(lines, 20):\n",
    "        print(line)\n"
   ]
  },
  {
   "cell_type": "code",
   "execution_count": 74,
   "metadata": {},
   "outputs": [],
   "source": [
    "from google.cloud import storage\n",
    "    \n",
    "# https://console.cloud.google.com/storage/browser/[bucket-id]/\n",
    "client = storage.Client(project='tldr-news-discovery')\n",
    "bucket = client.get_bucket('tldr-training-dataset')\n",
    "blob = bucket.blob('summary-training-data.csv')\n",
    "blob.upload_from_filename('local-summary-training-data.csv')"
   ]
  },
  {
   "cell_type": "code",
   "execution_count": null,
   "metadata": {},
   "outputs": [],
   "source": []
  }
 ],
 "metadata": {
  "environment": {
   "name": "common-cpu.m54",
   "type": "gcloud",
   "uri": "gcr.io/deeplearning-platform-release/base-cpu:m54"
  },
  "kernelspec": {
   "display_name": "Python 3",
   "language": "python",
   "name": "python3"
  },
  "language_info": {
   "codemirror_mode": {
    "name": "ipython",
    "version": 3
   },
   "file_extension": ".py",
   "mimetype": "text/x-python",
   "name": "python",
   "nbconvert_exporter": "python",
   "pygments_lexer": "ipython3",
   "version": "3.7.6"
  }
 },
 "nbformat": 4,
 "nbformat_minor": 4
}
