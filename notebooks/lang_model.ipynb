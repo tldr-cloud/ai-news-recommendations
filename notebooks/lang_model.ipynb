{
 "cells": [
  {
   "cell_type": "code",
   "execution_count": 4,
   "metadata": {},
   "outputs": [
    {
     "name": "stdout",
     "output_type": "stream",
     "text": [
      "Requirement already satisfied: fastai in /opt/conda/lib/python3.7/site-packages (2.0.0)\n",
      "Requirement already satisfied: torchvision>=0.7 in /opt/conda/lib/python3.7/site-packages (from fastai) (0.7.0)\n",
      "Requirement already satisfied: scipy in /opt/conda/lib/python3.7/site-packages (from fastai) (1.5.2)\n",
      "Requirement already satisfied: spacy in /opt/conda/lib/python3.7/site-packages (from fastai) (2.3.2)\n",
      "Requirement already satisfied: fastcore>=1.0.0 in /opt/conda/lib/python3.7/site-packages (from fastai) (1.0.0)\n",
      "Requirement already satisfied: scikit-learn in /opt/conda/lib/python3.7/site-packages (from fastai) (0.23.1)\n",
      "Requirement already satisfied: requests in /opt/conda/lib/python3.7/site-packages (from fastai) (2.24.0)\n",
      "Requirement already satisfied: pandas in /opt/conda/lib/python3.7/site-packages (from fastai) (1.1.0)\n",
      "Requirement already satisfied: torch>=1.6.0 in /opt/conda/lib/python3.7/site-packages (from fastai) (1.6.0)\n",
      "Requirement already satisfied: pyyaml in /opt/conda/lib/python3.7/site-packages (from fastai) (5.3.1)\n",
      "Requirement already satisfied: pip in /opt/conda/lib/python3.7/site-packages (from fastai) (20.2)\n",
      "Requirement already satisfied: matplotlib in /opt/conda/lib/python3.7/site-packages (from fastai) (3.3.0)\n",
      "Requirement already satisfied: fastprogress>=0.2.4 in /opt/conda/lib/python3.7/site-packages (from fastai) (1.0.0)\n",
      "Requirement already satisfied: pillow in /opt/conda/lib/python3.7/site-packages (from fastai) (7.2.0)\n",
      "Requirement already satisfied: packaging in /opt/conda/lib/python3.7/site-packages (from fastai) (20.4)\n",
      "Requirement already satisfied: numpy in /opt/conda/lib/python3.7/site-packages (from torchvision>=0.7->fastai) (1.18.5)\n",
      "Requirement already satisfied: preshed<3.1.0,>=3.0.2 in /opt/conda/lib/python3.7/site-packages (from spacy->fastai) (3.0.2)\n",
      "Requirement already satisfied: tqdm<5.0.0,>=4.38.0 in /opt/conda/lib/python3.7/site-packages (from spacy->fastai) (4.48.0)\n",
      "Requirement already satisfied: blis<0.5.0,>=0.4.0 in /opt/conda/lib/python3.7/site-packages (from spacy->fastai) (0.4.1)\n",
      "Requirement already satisfied: wasabi<1.1.0,>=0.4.0 in /opt/conda/lib/python3.7/site-packages (from spacy->fastai) (0.8.0)\n",
      "Requirement already satisfied: plac<1.2.0,>=0.9.6 in /opt/conda/lib/python3.7/site-packages (from spacy->fastai) (1.1.3)\n",
      "Requirement already satisfied: murmurhash<1.1.0,>=0.28.0 in /opt/conda/lib/python3.7/site-packages (from spacy->fastai) (1.0.2)\n",
      "Requirement already satisfied: catalogue<1.1.0,>=0.0.7 in /opt/conda/lib/python3.7/site-packages (from spacy->fastai) (1.0.0)\n",
      "Requirement already satisfied: setuptools in /opt/conda/lib/python3.7/site-packages (from spacy->fastai) (49.2.0.post20200712)\n",
      "Requirement already satisfied: srsly<1.1.0,>=1.0.2 in /opt/conda/lib/python3.7/site-packages (from spacy->fastai) (1.0.2)\n",
      "Requirement already satisfied: thinc==7.4.1 in /opt/conda/lib/python3.7/site-packages (from spacy->fastai) (7.4.1)\n",
      "Requirement already satisfied: cymem<2.1.0,>=2.0.2 in /opt/conda/lib/python3.7/site-packages (from spacy->fastai) (2.0.3)\n",
      "Requirement already satisfied: dataclasses in /opt/conda/lib/python3.7/site-packages (from fastcore>=1.0.0->fastai) (0.6)\n",
      "Requirement already satisfied: wheel in /opt/conda/lib/python3.7/site-packages (from fastcore>=1.0.0->fastai) (0.34.2)\n",
      "Requirement already satisfied: joblib>=0.11 in /opt/conda/lib/python3.7/site-packages (from scikit-learn->fastai) (0.16.0)\n",
      "Requirement already satisfied: threadpoolctl>=2.0.0 in /opt/conda/lib/python3.7/site-packages (from scikit-learn->fastai) (2.1.0)\n",
      "Requirement already satisfied: certifi>=2017.4.17 in /opt/conda/lib/python3.7/site-packages (from requests->fastai) (2020.6.20)\n",
      "Requirement already satisfied: idna<3,>=2.5 in /opt/conda/lib/python3.7/site-packages (from requests->fastai) (2.10)\n",
      "Requirement already satisfied: urllib3!=1.25.0,!=1.25.1,<1.26,>=1.21.1 in /opt/conda/lib/python3.7/site-packages (from requests->fastai) (1.25.10)\n",
      "Requirement already satisfied: chardet<4,>=3.0.2 in /opt/conda/lib/python3.7/site-packages (from requests->fastai) (3.0.4)\n",
      "Requirement already satisfied: python-dateutil>=2.7.3 in /opt/conda/lib/python3.7/site-packages (from pandas->fastai) (2.8.1)\n",
      "Requirement already satisfied: pytz>=2017.2 in /opt/conda/lib/python3.7/site-packages (from pandas->fastai) (2020.1)\n",
      "Requirement already satisfied: future in /opt/conda/lib/python3.7/site-packages (from torch>=1.6.0->fastai) (0.18.2)\n",
      "Requirement already satisfied: kiwisolver>=1.0.1 in /opt/conda/lib/python3.7/site-packages (from matplotlib->fastai) (1.2.0)\n",
      "Requirement already satisfied: pyparsing!=2.0.4,!=2.1.2,!=2.1.6,>=2.0.3 in /opt/conda/lib/python3.7/site-packages (from matplotlib->fastai) (2.4.7)\n",
      "Requirement already satisfied: cycler>=0.10 in /opt/conda/lib/python3.7/site-packages (from matplotlib->fastai) (0.10.0)\n",
      "Requirement already satisfied: six in /opt/conda/lib/python3.7/site-packages (from packaging->fastai) (1.15.0)\n",
      "Requirement already satisfied: importlib-metadata>=0.20; python_version < \"3.8\" in /opt/conda/lib/python3.7/site-packages (from catalogue<1.1.0,>=0.0.7->spacy->fastai) (1.7.0)\n",
      "Requirement already satisfied: zipp>=0.5 in /opt/conda/lib/python3.7/site-packages (from importlib-metadata>=0.20; python_version < \"3.8\"->catalogue<1.1.0,>=0.0.7->spacy->fastai) (3.1.0)\n",
      "Note: you may need to restart the kernel to use updated packages.\n"
     ]
    }
   ],
   "source": [
    "%pip install fastai"
   ]
  },
  {
   "cell_type": "code",
   "execution_count": 5,
   "metadata": {},
   "outputs": [],
   "source": [
    "from fastai.text.all import *"
   ]
  },
  {
   "cell_type": "code",
   "execution_count": 6,
   "metadata": {},
   "outputs": [
    {
     "data": {
      "text/html": [
       "<div>\n",
       "<style scoped>\n",
       "    .dataframe tbody tr th:only-of-type {\n",
       "        vertical-align: middle;\n",
       "    }\n",
       "\n",
       "    .dataframe tbody tr th {\n",
       "        vertical-align: top;\n",
       "    }\n",
       "\n",
       "    .dataframe thead th {\n",
       "        text-align: right;\n",
       "    }\n",
       "</style>\n",
       "<table border=\"1\" class=\"dataframe\">\n",
       "  <thead>\n",
       "    <tr style=\"text-align: right;\">\n",
       "      <th></th>\n",
       "      <th>id</th>\n",
       "      <th>title</th>\n",
       "      <th>summary</th>\n",
       "      <th>good_tldr</th>\n",
       "    </tr>\n",
       "  </thead>\n",
       "  <tbody>\n",
       "    <tr>\n",
       "      <th>0</th>\n",
       "      <td>http___techcrunch.com_2020_07_02_festos-latest-biomimetic-robots-are-a-flying-feathered-bird-and-ball-bottomed-helper-arm_</td>\n",
       "      <td>Festo’s latest biomimetic robots are a flying feathered bird and ball-bottomed helper arm – TechCrunch</td>\n",
       "      <td>You could be excused for thinking that German robotics company Festo does nothing but put together fabulous prototype robots built to resemble kangaroos, jellyfish, and other living things. They do in fact actually make real industrial robots, but it’s hard not to marvel at their biomimetic experiments; Case in point, the feathered BionicSwift and absurd BionicMobileAssistant motile arm. Of course, it’s silly to criticize such a machine, which is aspirational rather than practical.</td>\n",
       "      <td>False</td>\n",
       "    </tr>\n",
       "    <tr>\n",
       "      <th>1</th>\n",
       "      <td>http___techcrunch.com_2020_07_02_growth-capital-investor-kennet-raises-250m-fund-backed-by-edmond-de-rothschild_</td>\n",
       "      <td>Growth capital investor Kennet raises $250M fund, backed by Edmond de Rothschild – TechCrunch</td>\n",
       "      <td>Venture capital is “not the only fruit” for entrepreneurs, as the often quieter ‘Growth Capital’ can also see great returns for entrepreneurs who prefer to retain a lot of ownership and control but are also willing to bootstrap over a longer period in order to reach revenues and profits. With the COVID-19 pandemic pushing millions of people online, tech investors of all classes are now reaping the dividends in this accelerated, Coronavirus-powered transition to digital.</td>\n",
       "      <td>False</td>\n",
       "    </tr>\n",
       "    <tr>\n",
       "      <th>2</th>\n",
       "      <td>http___techcrunch.com_2020_07_02_lets-stop-covid-19-from-undoing-diversity-gains_</td>\n",
       "      <td>Let’s stop COVID-19 from undoing diversity gains – TechCrunch</td>\n",
       "      <td>Any disaster will have its harshest repercussions on people who were already marginalized. This may be the shock to the system that will make business leaders realize that diversity is not an accessory or PR stunt — it is an integral part of the daily lives of each and every member of your team. Today’s consumers and your co-workers demand socially conscious companies, which is why D&amp;I is vital to making any startup a well-rounded business. An important note — helping everyone reach success means giving everyone the resources to do so. How can you change how your industry looks, even in ti...</td>\n",
       "      <td>False</td>\n",
       "    </tr>\n",
       "    <tr>\n",
       "      <th>3</th>\n",
       "      <td>http___techcrunch.com_2020_07_02_ourpeople_</td>\n",
       "      <td>OurPeople, the team communication and engagement platform, raises $2M – TechCrunch</td>\n",
       "      <td>OurPeople, the U.K. startup that’s built a team communication and engagement platform for deskless workers, has raised $2 million in Series A funding. The startup primarily works in industries with large numbers of deskless workers, such as fitness and leisure. Furthermore, the OurPeople founder says the platform is different because the startup is not attempting to create a workplace social network “where vital information can get lost in all the typical noise.” “</td>\n",
       "      <td>False</td>\n",
       "    </tr>\n",
       "    <tr>\n",
       "      <th>4</th>\n",
       "      <td>http___techcrunch.com_2020_07_02_reliance-jio-platforms-launches-jiomeet-video-conference-service_</td>\n",
       "      <td>India’s richest man takes on Zoom – TechCrunch</td>\n",
       "      <td>India’s Reliance Jio Platforms, which recently concluded a $15.2 billion fundraise run, is ready to enter a new business: Video conferencing. Like Zoom and Google Meet, JioMeet offers unlimited number of free calls in high definition (720p) to users and supports as many as 100 participants on a call. JioMeet is available for use through Chrome and Firefox browsers on desktop, as well as has standalone apps for macOS, Windows, iOS, and Android.</td>\n",
       "      <td>False</td>\n",
       "    </tr>\n",
       "  </tbody>\n",
       "</table>\n",
       "</div>"
      ],
      "text/plain": [
       "                                                                                                                           id  \\\n",
       "0  http___techcrunch.com_2020_07_02_festos-latest-biomimetic-robots-are-a-flying-feathered-bird-and-ball-bottomed-helper-arm_   \n",
       "1            http___techcrunch.com_2020_07_02_growth-capital-investor-kennet-raises-250m-fund-backed-by-edmond-de-rothschild_   \n",
       "2                                           http___techcrunch.com_2020_07_02_lets-stop-covid-19-from-undoing-diversity-gains_   \n",
       "3                                                                                 http___techcrunch.com_2020_07_02_ourpeople_   \n",
       "4                          http___techcrunch.com_2020_07_02_reliance-jio-platforms-launches-jiomeet-video-conference-service_   \n",
       "\n",
       "                                                                                                    title  \\\n",
       "0  Festo’s latest biomimetic robots are a flying feathered bird and ball-bottomed helper arm – TechCrunch   \n",
       "1           Growth capital investor Kennet raises $250M fund, backed by Edmond de Rothschild – TechCrunch   \n",
       "2                                           Let’s stop COVID-19 from undoing diversity gains – TechCrunch   \n",
       "3                      OurPeople, the team communication and engagement platform, raises $2M – TechCrunch   \n",
       "4                                                          India’s richest man takes on Zoom – TechCrunch   \n",
       "\n",
       "                                                                                                                                                                                                                                                                                                                                                                                                                                                                                                                                                                                                                   summary  \\\n",
       "0                                                                                                                   You could be excused for thinking that German robotics company Festo does nothing but put together fabulous prototype robots built to resemble kangaroos, jellyfish, and other living things. They do in fact actually make real industrial robots, but it’s hard not to marvel at their biomimetic experiments; Case in point, the feathered BionicSwift and absurd BionicMobileAssistant motile arm. Of course, it’s silly to criticize such a machine, which is aspirational rather than practical.   \n",
       "1                                                                                                                               Venture capital is “not the only fruit” for entrepreneurs, as the often quieter ‘Growth Capital’ can also see great returns for entrepreneurs who prefer to retain a lot of ownership and control but are also willing to bootstrap over a longer period in order to reach revenues and profits. With the COVID-19 pandemic pushing millions of people online, tech investors of all classes are now reaping the dividends in this accelerated, Coronavirus-powered transition to digital.   \n",
       "2  Any disaster will have its harshest repercussions on people who were already marginalized. This may be the shock to the system that will make business leaders realize that diversity is not an accessory or PR stunt — it is an integral part of the daily lives of each and every member of your team. Today’s consumers and your co-workers demand socially conscious companies, which is why D&I is vital to making any startup a well-rounded business. An important note — helping everyone reach success means giving everyone the resources to do so. How can you change how your industry looks, even in ti...   \n",
       "3                                                                                                                                    OurPeople, the U.K. startup that’s built a team communication and engagement platform for deskless workers, has raised $2 million in Series A funding. The startup primarily works in industries with large numbers of deskless workers, such as fitness and leisure. Furthermore, the OurPeople founder says the platform is different because the startup is not attempting to create a workplace social network “where vital information can get lost in all the typical noise.” “   \n",
       "4                                                                                                                                                          India’s Reliance Jio Platforms, which recently concluded a $15.2 billion fundraise run, is ready to enter a new business: Video conferencing. Like Zoom and Google Meet, JioMeet offers unlimited number of free calls in high definition (720p) to users and supports as many as 100 participants on a call. JioMeet is available for use through Chrome and Firefox browsers on desktop, as well as has standalone apps for macOS, Windows, iOS, and Android.   \n",
       "\n",
       "   good_tldr  \n",
       "0      False  \n",
       "1      False  \n",
       "2      False  \n",
       "3      False  \n",
       "4      False  "
      ]
     },
     "execution_count": 6,
     "metadata": {},
     "output_type": "execute_result"
    }
   ],
   "source": [
    "\n",
    "\n",
    "import pandas as pd \n",
    "# Read data from file 'filename.csv' \n",
    "# (in the same directory that your python process is based)\n",
    "# Control delimiters, rows, column names with read_csv (see later) \n",
    "data = pd.read_csv('local-summary-training-data.csv') \n",
    "# Preview the first 5 lines of the loaded data \n",
    "data.head()"
   ]
  },
  {
   "cell_type": "code",
   "execution_count": 7,
   "metadata": {},
   "outputs": [
    {
     "data": {
      "text/html": [
       "<div>\n",
       "<style scoped>\n",
       "    .dataframe tbody tr th:only-of-type {\n",
       "        vertical-align: middle;\n",
       "    }\n",
       "\n",
       "    .dataframe tbody tr th {\n",
       "        vertical-align: top;\n",
       "    }\n",
       "\n",
       "    .dataframe thead th {\n",
       "        text-align: right;\n",
       "    }\n",
       "</style>\n",
       "<table border=\"1\" class=\"dataframe\">\n",
       "  <thead>\n",
       "    <tr style=\"text-align: right;\">\n",
       "      <th></th>\n",
       "      <th>id</th>\n",
       "      <th>title</th>\n",
       "      <th>summary</th>\n",
       "      <th>good_tldr</th>\n",
       "      <th>all_text</th>\n",
       "    </tr>\n",
       "  </thead>\n",
       "  <tbody>\n",
       "    <tr>\n",
       "      <th>0</th>\n",
       "      <td>http___techcrunch.com_2020_07_02_festos-latest-biomimetic-robots-are-a-flying-feathered-bird-and-ball-bottomed-helper-arm_</td>\n",
       "      <td>Festo’s latest biomimetic robots are a flying feathered bird and ball-bottomed helper arm – TechCrunch</td>\n",
       "      <td>You could be excused for thinking that German robotics company Festo does nothing but put together fabulous prototype robots built to resemble kangaroos, jellyfish, and other living things. They do in fact actually make real industrial robots, but it’s hard not to marvel at their biomimetic experiments; Case in point, the feathered BionicSwift and absurd BionicMobileAssistant motile arm. Of course, it’s silly to criticize such a machine, which is aspirational rather than practical.</td>\n",
       "      <td>False</td>\n",
       "      <td>Festo’s latest biomimetic robots are a flying feathered bird and ball-bottomed helper arm – TechCrunch You could be excused for thinking that German robotics company Festo does nothing but put together fabulous prototype robots built to resemble kangaroos, jellyfish, and other living things. They do in fact actually make real industrial robots, but it’s hard not to marvel at their biomimetic experiments; Case in point, the feathered BionicSwift and absurd BionicMobileAssistant motile arm. Of course, it’s silly to criticize such a machine, which is aspirational rather than practical.</td>\n",
       "    </tr>\n",
       "    <tr>\n",
       "      <th>1</th>\n",
       "      <td>http___techcrunch.com_2020_07_02_growth-capital-investor-kennet-raises-250m-fund-backed-by-edmond-de-rothschild_</td>\n",
       "      <td>Growth capital investor Kennet raises $250M fund, backed by Edmond de Rothschild – TechCrunch</td>\n",
       "      <td>Venture capital is “not the only fruit” for entrepreneurs, as the often quieter ‘Growth Capital’ can also see great returns for entrepreneurs who prefer to retain a lot of ownership and control but are also willing to bootstrap over a longer period in order to reach revenues and profits. With the COVID-19 pandemic pushing millions of people online, tech investors of all classes are now reaping the dividends in this accelerated, Coronavirus-powered transition to digital.</td>\n",
       "      <td>False</td>\n",
       "      <td>Growth capital investor Kennet raises $250M fund, backed by Edmond de Rothschild – TechCrunch Venture capital is “not the only fruit” for entrepreneurs, as the often quieter ‘Growth Capital’ can also see great returns for entrepreneurs who prefer to retain a lot of ownership and control but are also willing to bootstrap over a longer period in order to reach revenues and profits. With the COVID-19 pandemic pushing millions of people online, tech investors of all classes are now reaping the dividends in this accelerated, Coronavirus-powered transition to digital.</td>\n",
       "    </tr>\n",
       "    <tr>\n",
       "      <th>2</th>\n",
       "      <td>http___techcrunch.com_2020_07_02_lets-stop-covid-19-from-undoing-diversity-gains_</td>\n",
       "      <td>Let’s stop COVID-19 from undoing diversity gains – TechCrunch</td>\n",
       "      <td>Any disaster will have its harshest repercussions on people who were already marginalized. This may be the shock to the system that will make business leaders realize that diversity is not an accessory or PR stunt — it is an integral part of the daily lives of each and every member of your team. Today’s consumers and your co-workers demand socially conscious companies, which is why D&amp;I is vital to making any startup a well-rounded business. An important note — helping everyone reach success means giving everyone the resources to do so. How can you change how your industry looks, even in ti...</td>\n",
       "      <td>False</td>\n",
       "      <td>Let’s stop COVID-19 from undoing diversity gains – TechCrunch Any disaster will have its harshest repercussions on people who were already marginalized. This may be the shock to the system that will make business leaders realize that diversity is not an accessory or PR stunt — it is an integral part of the daily lives of each and every member of your team. Today’s consumers and your co-workers demand socially conscious companies, which is why D&amp;I is vital to making any startup a well-rounded business. An important note — helping everyone reach success means giving everyone the resources to...</td>\n",
       "    </tr>\n",
       "    <tr>\n",
       "      <th>3</th>\n",
       "      <td>http___techcrunch.com_2020_07_02_ourpeople_</td>\n",
       "      <td>OurPeople, the team communication and engagement platform, raises $2M – TechCrunch</td>\n",
       "      <td>OurPeople, the U.K. startup that’s built a team communication and engagement platform for deskless workers, has raised $2 million in Series A funding. The startup primarily works in industries with large numbers of deskless workers, such as fitness and leisure. Furthermore, the OurPeople founder says the platform is different because the startup is not attempting to create a workplace social network “where vital information can get lost in all the typical noise.” “</td>\n",
       "      <td>False</td>\n",
       "      <td>OurPeople, the team communication and engagement platform, raises $2M – TechCrunch OurPeople, the U.K. startup that’s built a team communication and engagement platform for deskless workers, has raised $2 million in Series A funding. The startup primarily works in industries with large numbers of deskless workers, such as fitness and leisure. Furthermore, the OurPeople founder says the platform is different because the startup is not attempting to create a workplace social network “where vital information can get lost in all the typical noise.” “</td>\n",
       "    </tr>\n",
       "    <tr>\n",
       "      <th>4</th>\n",
       "      <td>http___techcrunch.com_2020_07_02_reliance-jio-platforms-launches-jiomeet-video-conference-service_</td>\n",
       "      <td>India’s richest man takes on Zoom – TechCrunch</td>\n",
       "      <td>India’s Reliance Jio Platforms, which recently concluded a $15.2 billion fundraise run, is ready to enter a new business: Video conferencing. Like Zoom and Google Meet, JioMeet offers unlimited number of free calls in high definition (720p) to users and supports as many as 100 participants on a call. JioMeet is available for use through Chrome and Firefox browsers on desktop, as well as has standalone apps for macOS, Windows, iOS, and Android.</td>\n",
       "      <td>False</td>\n",
       "      <td>India’s richest man takes on Zoom – TechCrunch India’s Reliance Jio Platforms, which recently concluded a $15.2 billion fundraise run, is ready to enter a new business: Video conferencing. Like Zoom and Google Meet, JioMeet offers unlimited number of free calls in high definition (720p) to users and supports as many as 100 participants on a call. JioMeet is available for use through Chrome and Firefox browsers on desktop, as well as has standalone apps for macOS, Windows, iOS, and Android.</td>\n",
       "    </tr>\n",
       "  </tbody>\n",
       "</table>\n",
       "</div>"
      ],
      "text/plain": [
       "                                                                                                                           id  \\\n",
       "0  http___techcrunch.com_2020_07_02_festos-latest-biomimetic-robots-are-a-flying-feathered-bird-and-ball-bottomed-helper-arm_   \n",
       "1            http___techcrunch.com_2020_07_02_growth-capital-investor-kennet-raises-250m-fund-backed-by-edmond-de-rothschild_   \n",
       "2                                           http___techcrunch.com_2020_07_02_lets-stop-covid-19-from-undoing-diversity-gains_   \n",
       "3                                                                                 http___techcrunch.com_2020_07_02_ourpeople_   \n",
       "4                          http___techcrunch.com_2020_07_02_reliance-jio-platforms-launches-jiomeet-video-conference-service_   \n",
       "\n",
       "                                                                                                    title  \\\n",
       "0  Festo’s latest biomimetic robots are a flying feathered bird and ball-bottomed helper arm – TechCrunch   \n",
       "1           Growth capital investor Kennet raises $250M fund, backed by Edmond de Rothschild – TechCrunch   \n",
       "2                                           Let’s stop COVID-19 from undoing diversity gains – TechCrunch   \n",
       "3                      OurPeople, the team communication and engagement platform, raises $2M – TechCrunch   \n",
       "4                                                          India’s richest man takes on Zoom – TechCrunch   \n",
       "\n",
       "                                                                                                                                                                                                                                                                                                                                                                                                                                                                                                                                                                                                                   summary  \\\n",
       "0                                                                                                                   You could be excused for thinking that German robotics company Festo does nothing but put together fabulous prototype robots built to resemble kangaroos, jellyfish, and other living things. They do in fact actually make real industrial robots, but it’s hard not to marvel at their biomimetic experiments; Case in point, the feathered BionicSwift and absurd BionicMobileAssistant motile arm. Of course, it’s silly to criticize such a machine, which is aspirational rather than practical.   \n",
       "1                                                                                                                               Venture capital is “not the only fruit” for entrepreneurs, as the often quieter ‘Growth Capital’ can also see great returns for entrepreneurs who prefer to retain a lot of ownership and control but are also willing to bootstrap over a longer period in order to reach revenues and profits. With the COVID-19 pandemic pushing millions of people online, tech investors of all classes are now reaping the dividends in this accelerated, Coronavirus-powered transition to digital.   \n",
       "2  Any disaster will have its harshest repercussions on people who were already marginalized. This may be the shock to the system that will make business leaders realize that diversity is not an accessory or PR stunt — it is an integral part of the daily lives of each and every member of your team. Today’s consumers and your co-workers demand socially conscious companies, which is why D&I is vital to making any startup a well-rounded business. An important note — helping everyone reach success means giving everyone the resources to do so. How can you change how your industry looks, even in ti...   \n",
       "3                                                                                                                                    OurPeople, the U.K. startup that’s built a team communication and engagement platform for deskless workers, has raised $2 million in Series A funding. The startup primarily works in industries with large numbers of deskless workers, such as fitness and leisure. Furthermore, the OurPeople founder says the platform is different because the startup is not attempting to create a workplace social network “where vital information can get lost in all the typical noise.” “   \n",
       "4                                                                                                                                                          India’s Reliance Jio Platforms, which recently concluded a $15.2 billion fundraise run, is ready to enter a new business: Video conferencing. Like Zoom and Google Meet, JioMeet offers unlimited number of free calls in high definition (720p) to users and supports as many as 100 participants on a call. JioMeet is available for use through Chrome and Firefox browsers on desktop, as well as has standalone apps for macOS, Windows, iOS, and Android.   \n",
       "\n",
       "   good_tldr  \\\n",
       "0      False   \n",
       "1      False   \n",
       "2      False   \n",
       "3      False   \n",
       "4      False   \n",
       "\n",
       "                                                                                                                                                                                                                                                                                                                                                                                                                                                                                                                                                                                                                  all_text  \n",
       "0            Festo’s latest biomimetic robots are a flying feathered bird and ball-bottomed helper arm – TechCrunch You could be excused for thinking that German robotics company Festo does nothing but put together fabulous prototype robots built to resemble kangaroos, jellyfish, and other living things. They do in fact actually make real industrial robots, but it’s hard not to marvel at their biomimetic experiments; Case in point, the feathered BionicSwift and absurd BionicMobileAssistant motile arm. Of course, it’s silly to criticize such a machine, which is aspirational rather than practical.  \n",
       "1                                 Growth capital investor Kennet raises $250M fund, backed by Edmond de Rothschild – TechCrunch Venture capital is “not the only fruit” for entrepreneurs, as the often quieter ‘Growth Capital’ can also see great returns for entrepreneurs who prefer to retain a lot of ownership and control but are also willing to bootstrap over a longer period in order to reach revenues and profits. With the COVID-19 pandemic pushing millions of people online, tech investors of all classes are now reaping the dividends in this accelerated, Coronavirus-powered transition to digital.  \n",
       "2  Let’s stop COVID-19 from undoing diversity gains – TechCrunch Any disaster will have its harshest repercussions on people who were already marginalized. This may be the shock to the system that will make business leaders realize that diversity is not an accessory or PR stunt — it is an integral part of the daily lives of each and every member of your team. Today’s consumers and your co-workers demand socially conscious companies, which is why D&I is vital to making any startup a well-rounded business. An important note — helping everyone reach success means giving everyone the resources to...  \n",
       "3                                                 OurPeople, the team communication and engagement platform, raises $2M – TechCrunch OurPeople, the U.K. startup that’s built a team communication and engagement platform for deskless workers, has raised $2 million in Series A funding. The startup primarily works in industries with large numbers of deskless workers, such as fitness and leisure. Furthermore, the OurPeople founder says the platform is different because the startup is not attempting to create a workplace social network “where vital information can get lost in all the typical noise.” “  \n",
       "4                                                                                                           India’s richest man takes on Zoom – TechCrunch India’s Reliance Jio Platforms, which recently concluded a $15.2 billion fundraise run, is ready to enter a new business: Video conferencing. Like Zoom and Google Meet, JioMeet offers unlimited number of free calls in high definition (720p) to users and supports as many as 100 participants on a call. JioMeet is available for use through Chrome and Firefox browsers on desktop, as well as has standalone apps for macOS, Windows, iOS, and Android.  "
      ]
     },
     "execution_count": 7,
     "metadata": {},
     "output_type": "execute_result"
    }
   ],
   "source": [
    "data['all_text'] = data.title.astype(str).str.cat(data.summary.astype(str), sep=' ')\n",
    "data.head()"
   ]
  },
  {
   "cell_type": "code",
   "execution_count": 33,
   "metadata": {},
   "outputs": [
    {
     "data": {
      "text/html": [
       "<div>\n",
       "<style scoped>\n",
       "    .dataframe tbody tr th:only-of-type {\n",
       "        vertical-align: middle;\n",
       "    }\n",
       "\n",
       "    .dataframe tbody tr th {\n",
       "        vertical-align: top;\n",
       "    }\n",
       "\n",
       "    .dataframe thead th {\n",
       "        text-align: right;\n",
       "    }\n",
       "</style>\n",
       "<table border=\"1\" class=\"dataframe\">\n",
       "  <thead>\n",
       "    <tr style=\"text-align: right;\">\n",
       "      <th></th>\n",
       "      <th>all_text</th>\n",
       "      <th>good_tldr</th>\n",
       "    </tr>\n",
       "  </thead>\n",
       "  <tbody>\n",
       "    <tr>\n",
       "      <th>0</th>\n",
       "      <td>Festo’s latest biomimetic robots are a flying feathered bird and ball-bottomed helper arm – TechCrunch You could be excused for thinking that German robotics company Festo does nothing but put together fabulous prototype robots built to resemble kangaroos, jellyfish, and other living things. They do in fact actually make real industrial robots, but it’s hard not to marvel at their biomimetic experiments; Case in point, the feathered BionicSwift and absurd BionicMobileAssistant motile arm. Of course, it’s silly to criticize such a machine, which is aspirational rather than practical.</td>\n",
       "      <td>False</td>\n",
       "    </tr>\n",
       "    <tr>\n",
       "      <th>1</th>\n",
       "      <td>Growth capital investor Kennet raises $250M fund, backed by Edmond de Rothschild – TechCrunch Venture capital is “not the only fruit” for entrepreneurs, as the often quieter ‘Growth Capital’ can also see great returns for entrepreneurs who prefer to retain a lot of ownership and control but are also willing to bootstrap over a longer period in order to reach revenues and profits. With the COVID-19 pandemic pushing millions of people online, tech investors of all classes are now reaping the dividends in this accelerated, Coronavirus-powered transition to digital.</td>\n",
       "      <td>False</td>\n",
       "    </tr>\n",
       "    <tr>\n",
       "      <th>2</th>\n",
       "      <td>Let’s stop COVID-19 from undoing diversity gains – TechCrunch Any disaster will have its harshest repercussions on people who were already marginalized. This may be the shock to the system that will make business leaders realize that diversity is not an accessory or PR stunt — it is an integral part of the daily lives of each and every member of your team. Today’s consumers and your co-workers demand socially conscious companies, which is why D&amp;I is vital to making any startup a well-rounded business. An important note — helping everyone reach success means giving everyone the resources to...</td>\n",
       "      <td>False</td>\n",
       "    </tr>\n",
       "    <tr>\n",
       "      <th>3</th>\n",
       "      <td>OurPeople, the team communication and engagement platform, raises $2M – TechCrunch OurPeople, the U.K. startup that’s built a team communication and engagement platform for deskless workers, has raised $2 million in Series A funding. The startup primarily works in industries with large numbers of deskless workers, such as fitness and leisure. Furthermore, the OurPeople founder says the platform is different because the startup is not attempting to create a workplace social network “where vital information can get lost in all the typical noise.” “</td>\n",
       "      <td>False</td>\n",
       "    </tr>\n",
       "    <tr>\n",
       "      <th>4</th>\n",
       "      <td>India’s richest man takes on Zoom – TechCrunch India’s Reliance Jio Platforms, which recently concluded a $15.2 billion fundraise run, is ready to enter a new business: Video conferencing. Like Zoom and Google Meet, JioMeet offers unlimited number of free calls in high definition (720p) to users and supports as many as 100 participants on a call. JioMeet is available for use through Chrome and Firefox browsers on desktop, as well as has standalone apps for macOS, Windows, iOS, and Android.</td>\n",
       "      <td>False</td>\n",
       "    </tr>\n",
       "  </tbody>\n",
       "</table>\n",
       "</div>"
      ],
      "text/plain": [
       "                                                                                                                                                                                                                                                                                                                                                                                                                                                                                                                                                                                                                  all_text  \\\n",
       "0            Festo’s latest biomimetic robots are a flying feathered bird and ball-bottomed helper arm – TechCrunch You could be excused for thinking that German robotics company Festo does nothing but put together fabulous prototype robots built to resemble kangaroos, jellyfish, and other living things. They do in fact actually make real industrial robots, but it’s hard not to marvel at their biomimetic experiments; Case in point, the feathered BionicSwift and absurd BionicMobileAssistant motile arm. Of course, it’s silly to criticize such a machine, which is aspirational rather than practical.   \n",
       "1                                 Growth capital investor Kennet raises $250M fund, backed by Edmond de Rothschild – TechCrunch Venture capital is “not the only fruit” for entrepreneurs, as the often quieter ‘Growth Capital’ can also see great returns for entrepreneurs who prefer to retain a lot of ownership and control but are also willing to bootstrap over a longer period in order to reach revenues and profits. With the COVID-19 pandemic pushing millions of people online, tech investors of all classes are now reaping the dividends in this accelerated, Coronavirus-powered transition to digital.   \n",
       "2  Let’s stop COVID-19 from undoing diversity gains – TechCrunch Any disaster will have its harshest repercussions on people who were already marginalized. This may be the shock to the system that will make business leaders realize that diversity is not an accessory or PR stunt — it is an integral part of the daily lives of each and every member of your team. Today’s consumers and your co-workers demand socially conscious companies, which is why D&I is vital to making any startup a well-rounded business. An important note — helping everyone reach success means giving everyone the resources to...   \n",
       "3                                                 OurPeople, the team communication and engagement platform, raises $2M – TechCrunch OurPeople, the U.K. startup that’s built a team communication and engagement platform for deskless workers, has raised $2 million in Series A funding. The startup primarily works in industries with large numbers of deskless workers, such as fitness and leisure. Furthermore, the OurPeople founder says the platform is different because the startup is not attempting to create a workplace social network “where vital information can get lost in all the typical noise.” “   \n",
       "4                                                                                                           India’s richest man takes on Zoom – TechCrunch India’s Reliance Jio Platforms, which recently concluded a $15.2 billion fundraise run, is ready to enter a new business: Video conferencing. Like Zoom and Google Meet, JioMeet offers unlimited number of free calls in high definition (720p) to users and supports as many as 100 participants on a call. JioMeet is available for use through Chrome and Firefox browsers on desktop, as well as has standalone apps for macOS, Windows, iOS, and Android.   \n",
       "\n",
       "   good_tldr  \n",
       "0      False  \n",
       "1      False  \n",
       "2      False  \n",
       "3      False  \n",
       "4      False  "
      ]
     },
     "execution_count": 33,
     "metadata": {},
     "output_type": "execute_result"
    }
   ],
   "source": [
    "combined_text_data = data[['all_text', 'good_tldr']]\n",
    "combined_text_data.head()"
   ]
  },
  {
   "cell_type": "code",
   "execution_count": 35,
   "metadata": {},
   "outputs": [
    {
     "data": {
      "text/html": [
       "<div>\n",
       "<style scoped>\n",
       "    .dataframe tbody tr th:only-of-type {\n",
       "        vertical-align: middle;\n",
       "    }\n",
       "\n",
       "    .dataframe tbody tr th {\n",
       "        vertical-align: top;\n",
       "    }\n",
       "\n",
       "    .dataframe thead th {\n",
       "        text-align: right;\n",
       "    }\n",
       "</style>\n",
       "<table border=\"1\" class=\"dataframe\">\n",
       "  <thead>\n",
       "    <tr style=\"text-align: right;\">\n",
       "      <th></th>\n",
       "      <th>title</th>\n",
       "      <th>good_tldr</th>\n",
       "    </tr>\n",
       "  </thead>\n",
       "  <tbody>\n",
       "    <tr>\n",
       "      <th>0</th>\n",
       "      <td>Festo’s latest biomimetic robots are a flying feathered bird and ball-bottomed helper arm – TechCrunch</td>\n",
       "      <td>False</td>\n",
       "    </tr>\n",
       "    <tr>\n",
       "      <th>1</th>\n",
       "      <td>Growth capital investor Kennet raises $250M fund, backed by Edmond de Rothschild – TechCrunch</td>\n",
       "      <td>False</td>\n",
       "    </tr>\n",
       "    <tr>\n",
       "      <th>2</th>\n",
       "      <td>Let’s stop COVID-19 from undoing diversity gains – TechCrunch</td>\n",
       "      <td>False</td>\n",
       "    </tr>\n",
       "    <tr>\n",
       "      <th>3</th>\n",
       "      <td>OurPeople, the team communication and engagement platform, raises $2M – TechCrunch</td>\n",
       "      <td>False</td>\n",
       "    </tr>\n",
       "    <tr>\n",
       "      <th>4</th>\n",
       "      <td>India’s richest man takes on Zoom – TechCrunch</td>\n",
       "      <td>False</td>\n",
       "    </tr>\n",
       "  </tbody>\n",
       "</table>\n",
       "</div>"
      ],
      "text/plain": [
       "                                                                                                    title  \\\n",
       "0  Festo’s latest biomimetic robots are a flying feathered bird and ball-bottomed helper arm – TechCrunch   \n",
       "1           Growth capital investor Kennet raises $250M fund, backed by Edmond de Rothschild – TechCrunch   \n",
       "2                                           Let’s stop COVID-19 from undoing diversity gains – TechCrunch   \n",
       "3                      OurPeople, the team communication and engagement platform, raises $2M – TechCrunch   \n",
       "4                                                          India’s richest man takes on Zoom – TechCrunch   \n",
       "\n",
       "   good_tldr  \n",
       "0      False  \n",
       "1      False  \n",
       "2      False  \n",
       "3      False  \n",
       "4      False  "
      ]
     },
     "execution_count": 35,
     "metadata": {},
     "output_type": "execute_result"
    }
   ],
   "source": [
    "title_text_data = data[['title', 'good_tldr']]\n",
    "title_text_data.head()"
   ]
  },
  {
   "cell_type": "code",
   "execution_count": 36,
   "metadata": {},
   "outputs": [
    {
     "data": {
      "text/html": [
       "<div>\n",
       "<style scoped>\n",
       "    .dataframe tbody tr th:only-of-type {\n",
       "        vertical-align: middle;\n",
       "    }\n",
       "\n",
       "    .dataframe tbody tr th {\n",
       "        vertical-align: top;\n",
       "    }\n",
       "\n",
       "    .dataframe thead th {\n",
       "        text-align: right;\n",
       "    }\n",
       "</style>\n",
       "<table border=\"1\" class=\"dataframe\">\n",
       "  <thead>\n",
       "    <tr style=\"text-align: right;\">\n",
       "      <th></th>\n",
       "      <th>summary</th>\n",
       "      <th>good_tldr</th>\n",
       "    </tr>\n",
       "  </thead>\n",
       "  <tbody>\n",
       "    <tr>\n",
       "      <th>0</th>\n",
       "      <td>You could be excused for thinking that German robotics company Festo does nothing but put together fabulous prototype robots built to resemble kangaroos, jellyfish, and other living things. They do in fact actually make real industrial robots, but it’s hard not to marvel at their biomimetic experiments; Case in point, the feathered BionicSwift and absurd BionicMobileAssistant motile arm. Of course, it’s silly to criticize such a machine, which is aspirational rather than practical.</td>\n",
       "      <td>False</td>\n",
       "    </tr>\n",
       "    <tr>\n",
       "      <th>1</th>\n",
       "      <td>Venture capital is “not the only fruit” for entrepreneurs, as the often quieter ‘Growth Capital’ can also see great returns for entrepreneurs who prefer to retain a lot of ownership and control but are also willing to bootstrap over a longer period in order to reach revenues and profits. With the COVID-19 pandemic pushing millions of people online, tech investors of all classes are now reaping the dividends in this accelerated, Coronavirus-powered transition to digital.</td>\n",
       "      <td>False</td>\n",
       "    </tr>\n",
       "    <tr>\n",
       "      <th>2</th>\n",
       "      <td>Any disaster will have its harshest repercussions on people who were already marginalized. This may be the shock to the system that will make business leaders realize that diversity is not an accessory or PR stunt — it is an integral part of the daily lives of each and every member of your team. Today’s consumers and your co-workers demand socially conscious companies, which is why D&amp;I is vital to making any startup a well-rounded business. An important note — helping everyone reach success means giving everyone the resources to do so. How can you change how your industry looks, even in ti...</td>\n",
       "      <td>False</td>\n",
       "    </tr>\n",
       "    <tr>\n",
       "      <th>3</th>\n",
       "      <td>OurPeople, the U.K. startup that’s built a team communication and engagement platform for deskless workers, has raised $2 million in Series A funding. The startup primarily works in industries with large numbers of deskless workers, such as fitness and leisure. Furthermore, the OurPeople founder says the platform is different because the startup is not attempting to create a workplace social network “where vital information can get lost in all the typical noise.” “</td>\n",
       "      <td>False</td>\n",
       "    </tr>\n",
       "    <tr>\n",
       "      <th>4</th>\n",
       "      <td>India’s Reliance Jio Platforms, which recently concluded a $15.2 billion fundraise run, is ready to enter a new business: Video conferencing. Like Zoom and Google Meet, JioMeet offers unlimited number of free calls in high definition (720p) to users and supports as many as 100 participants on a call. JioMeet is available for use through Chrome and Firefox browsers on desktop, as well as has standalone apps for macOS, Windows, iOS, and Android.</td>\n",
       "      <td>False</td>\n",
       "    </tr>\n",
       "  </tbody>\n",
       "</table>\n",
       "</div>"
      ],
      "text/plain": [
       "                                                                                                                                                                                                                                                                                                                                                                                                                                                                                                                                                                                                                   summary  \\\n",
       "0                                                                                                                   You could be excused for thinking that German robotics company Festo does nothing but put together fabulous prototype robots built to resemble kangaroos, jellyfish, and other living things. They do in fact actually make real industrial robots, but it’s hard not to marvel at their biomimetic experiments; Case in point, the feathered BionicSwift and absurd BionicMobileAssistant motile arm. Of course, it’s silly to criticize such a machine, which is aspirational rather than practical.   \n",
       "1                                                                                                                               Venture capital is “not the only fruit” for entrepreneurs, as the often quieter ‘Growth Capital’ can also see great returns for entrepreneurs who prefer to retain a lot of ownership and control but are also willing to bootstrap over a longer period in order to reach revenues and profits. With the COVID-19 pandemic pushing millions of people online, tech investors of all classes are now reaping the dividends in this accelerated, Coronavirus-powered transition to digital.   \n",
       "2  Any disaster will have its harshest repercussions on people who were already marginalized. This may be the shock to the system that will make business leaders realize that diversity is not an accessory or PR stunt — it is an integral part of the daily lives of each and every member of your team. Today’s consumers and your co-workers demand socially conscious companies, which is why D&I is vital to making any startup a well-rounded business. An important note — helping everyone reach success means giving everyone the resources to do so. How can you change how your industry looks, even in ti...   \n",
       "3                                                                                                                                    OurPeople, the U.K. startup that’s built a team communication and engagement platform for deskless workers, has raised $2 million in Series A funding. The startup primarily works in industries with large numbers of deskless workers, such as fitness and leisure. Furthermore, the OurPeople founder says the platform is different because the startup is not attempting to create a workplace social network “where vital information can get lost in all the typical noise.” “   \n",
       "4                                                                                                                                                          India’s Reliance Jio Platforms, which recently concluded a $15.2 billion fundraise run, is ready to enter a new business: Video conferencing. Like Zoom and Google Meet, JioMeet offers unlimited number of free calls in high definition (720p) to users and supports as many as 100 participants on a call. JioMeet is available for use through Chrome and Firefox browsers on desktop, as well as has standalone apps for macOS, Windows, iOS, and Android.   \n",
       "\n",
       "   good_tldr  \n",
       "0      False  \n",
       "1      False  \n",
       "2      False  \n",
       "3      False  \n",
       "4      False  "
      ]
     },
     "execution_count": 36,
     "metadata": {},
     "output_type": "execute_result"
    }
   ],
   "source": [
    "summary_text_data = data[['summary', 'good_tldr']]\n",
    "summary_text_data.head()"
   ]
  },
  {
   "cell_type": "code",
   "execution_count": null,
   "metadata": {},
   "outputs": [],
   "source": []
  },
  {
   "cell_type": "code",
   "execution_count": 32,
   "metadata": {},
   "outputs": [],
   "source": [
    "# Building a language model for summary and title combined"
   ]
  },
  {
   "cell_type": "code",
   "execution_count": 13,
   "metadata": {},
   "outputs": [
    {
     "data": {
      "text/html": [],
      "text/plain": [
       "<IPython.core.display.HTML object>"
      ]
     },
     "metadata": {},
     "output_type": "display_data"
    }
   ],
   "source": [
    "dls_lm = TextDataLoaders.from_df(combined_text_data, is_lm=True, valid_pct=0.1)"
   ]
  },
  {
   "cell_type": "code",
   "execution_count": 14,
   "metadata": {},
   "outputs": [
    {
     "data": {
      "text/html": [
       "<table border=\"1\" class=\"dataframe\">\n",
       "  <thead>\n",
       "    <tr style=\"text-align: right;\">\n",
       "      <th></th>\n",
       "      <th>text</th>\n",
       "      <th>text_</th>\n",
       "    </tr>\n",
       "  </thead>\n",
       "  <tbody>\n",
       "    <tr>\n",
       "      <th>0</th>\n",
       "      <td>xxbos xxmaj payfazz gets $ xxunk million to give more xxmaj xxunk access to financial services – techcrunch xxmaj indonesia is not only xxmaj southeast xxmaj xxunk ’s most populated country , but also one of the world ’s fastest - growing xxunk . xxmaj but many people , especially outside of major cities , still lack access to basic financial services like bank accounts . xxmaj previous investors , including xxmaj</td>\n",
       "      <td>xxmaj payfazz gets $ xxunk million to give more xxmaj xxunk access to financial services – techcrunch xxmaj indonesia is not only xxmaj southeast xxmaj xxunk ’s most populated country , but also one of the world ’s fastest - growing xxunk . xxmaj but many people , especially outside of major cities , still lack access to basic financial services like bank accounts . xxmaj previous investors , including xxmaj tiger</td>\n",
       "    </tr>\n",
       "    <tr>\n",
       "      <th>1</th>\n",
       "      <td>million and $ xxunk million , xxunk a growth rate of 38 % at the top end of the range . \\n xxmaj investors had heightened expectations going into the quarter , and may have expected growth to be higher than reported , said xxup xxunk . \\n xxmaj slack 's revenue of $ xxunk million came in above analysts ' average xxunk of $ xxunk million , according to xxup xxunk</td>\n",
       "      <td>and $ xxunk million , xxunk a growth rate of 38 % at the top end of the range . \\n xxmaj investors had heightened expectations going into the quarter , and may have expected growth to be higher than reported , said xxup xxunk . \\n xxmaj slack 's revenue of $ xxunk million came in above analysts ' average xxunk of $ xxunk million , according to xxup xxunk data</td>\n",
       "    </tr>\n",
       "    <tr>\n",
       "      <th>2</th>\n",
       "      <td>leader . xxbos xxup bmw xxmaj actually xxmaj xxunk xxmaj us xxmaj with xxmaj the xxup m3 xxmaj and xxup m4 xxmaj teasers xxmaj at the beginning of this month , xxup bmw teased the world with images of the upcoming xxup m3 and xxup m4 xxunk in the dark . xxmaj these xxmaj easter xxmaj xxunk do n't change the fact that these cars have already been revealed before , though</td>\n",
       "      <td>. xxbos xxup bmw xxmaj actually xxmaj xxunk xxmaj us xxmaj with xxmaj the xxup m3 xxmaj and xxup m4 xxmaj teasers xxmaj at the beginning of this month , xxup bmw teased the world with images of the upcoming xxup m3 and xxup m4 xxunk in the dark . xxmaj these xxmaj easter xxmaj xxunk do n't change the fact that these cars have already been revealed before , though ,</td>\n",
       "    </tr>\n",
       "    <tr>\n",
       "      <th>3</th>\n",
       "      <td>when you are on the winning side . xxmaj according to xxmaj zuckerberg , giving in to the demands of xxunk and xxunk will be a sign of xxunk that others could xxunk . xxmaj if they value their time , they should find other ways to get the change they are seeking would be the better option . xxbos xxmaj here ’s what a ‘ startup nation ’ is — and</td>\n",
       "      <td>you are on the winning side . xxmaj according to xxmaj zuckerberg , giving in to the demands of xxunk and xxunk will be a sign of xxunk that others could xxunk . xxmaj if they value their time , they should find other ways to get the change they are seeking would be the better option . xxbos xxmaj here ’s what a ‘ startup nation ’ is — and why</td>\n",
       "    </tr>\n",
       "    <tr>\n",
       "      <th>4</th>\n",
       "      <td>xxunk or just plain xxunk , within hours of xxmaj xxunk ’s video hitting youtube , # xxunk started xxunk on xxmaj twitter . xxbos i hate how much i love the xxunk on xxmaj apple ’s xxmaj privacy page xxmaj xxunk , xxmaj i ’m making myself feel xxunk before xxmaj i ’ve even started writing . xxmaj here ’s another of my xxunk : xxmaj now , i do n’t</td>\n",
       "      <td>or just plain xxunk , within hours of xxmaj xxunk ’s video hitting youtube , # xxunk started xxunk on xxmaj twitter . xxbos i hate how much i love the xxunk on xxmaj apple ’s xxmaj privacy page xxmaj xxunk , xxmaj i ’m making myself feel xxunk before xxmaj i ’ve even started writing . xxmaj here ’s another of my xxunk : xxmaj now , i do n’t have</td>\n",
       "    </tr>\n",
       "    <tr>\n",
       "      <th>5</th>\n",
       "      <td>takes on xxmaj twitter with xxmaj venue , a ‘ second screen ’ companion for live events – techcrunch xxmaj facebook ’s xxup r&amp;d group , xxup xxunk xxmaj team , is launching xxmaj venue , a new app for engaging fellow fans around live events . \\n xxmaj with xxmaj venue , the company aims to offer a digital companion for live events , starting with this xxmaj sunday ’s xxup</td>\n",
       "      <td>on xxmaj twitter with xxmaj venue , a ‘ second screen ’ companion for live events – techcrunch xxmaj facebook ’s xxup r&amp;d group , xxup xxunk xxmaj team , is launching xxmaj venue , a new app for engaging fellow fans around live events . \\n xxmaj with xxmaj venue , the company aims to offer a digital companion for live events , starting with this xxmaj sunday ’s xxup xxunk</td>\n",
       "    </tr>\n",
       "    <tr>\n",
       "      <th>6</th>\n",
       "      <td>in xxunk , no such similar laws exist . xxmaj in recent years , the private sector has found itself the continued target of cyber - enabled xxunk efforts . xxmaj cybercriminals are copying state - xxunk customized zero - day attacks and xxunk xxunk - phishing xxunk . xxmaj effects of a nation - state attack xxmaj governments and businesses around the world need to prepare for cyberattacks to come as</td>\n",
       "      <td>xxunk , no such similar laws exist . xxmaj in recent years , the private sector has found itself the continued target of cyber - enabled xxunk efforts . xxmaj cybercriminals are copying state - xxunk customized zero - day attacks and xxunk xxunk - phishing xxunk . xxmaj effects of a nation - state attack xxmaj governments and businesses around the world need to prepare for cyberattacks to come as if</td>\n",
       "    </tr>\n",
       "    <tr>\n",
       "      <th>7</th>\n",
       "      <td>finally put its four - xxunk robot xxmaj spot on general sale . xxmaj it ’s a xxunk price tag , xxunk to the base price for a luxury xxmaj tesla xxmaj model xxup s. xxmaj but xxmaj boston xxmaj dynamics says , for that money , you ’re getting the most advanced mobile robot in the world , able to go pretty much anywhere a human can ( as long as</td>\n",
       "      <td>put its four - xxunk robot xxmaj spot on general sale . xxmaj it ’s a xxunk price tag , xxunk to the base price for a luxury xxmaj tesla xxmaj model xxup s. xxmaj but xxmaj boston xxmaj dynamics says , for that money , you ’re getting the most advanced mobile robot in the world , able to go pretty much anywhere a human can ( as long as there</td>\n",
       "    </tr>\n",
       "    <tr>\n",
       "      <th>8</th>\n",
       "      <td>xxmaj announcement at xxmaj ubisoft xxmaj forward xxmaj appears xxmaj increasingly xxmaj likely xxmaj if you 're planning on xxunk in to the xxmaj ubisoft xxmaj forward digital showcase on xxmaj sunday 12th xxmaj july , xxunk are you 'll get to see the first glimpse of xxmaj far xxmaj xxunk 6 . xxmaj the game has been heavily xxunk ever since xxmaj bloomberg 's xxmaj jason xxmaj xxunk let the cat</td>\n",
       "      <td>announcement at xxmaj ubisoft xxmaj forward xxmaj appears xxmaj increasingly xxmaj likely xxmaj if you 're planning on xxunk in to the xxmaj ubisoft xxmaj forward digital showcase on xxmaj sunday 12th xxmaj july , xxunk are you 'll get to see the first glimpse of xxmaj far xxmaj xxunk 6 . xxmaj the game has been heavily xxunk ever since xxmaj bloomberg 's xxmaj jason xxmaj xxunk let the cat out</td>\n",
       "    </tr>\n",
       "  </tbody>\n",
       "</table>"
      ],
      "text/plain": [
       "<IPython.core.display.HTML object>"
      ]
     },
     "metadata": {},
     "output_type": "display_data"
    }
   ],
   "source": [
    "dls_lm.show_batch()"
   ]
  },
  {
   "cell_type": "code",
   "execution_count": 18,
   "metadata": {},
   "outputs": [],
   "source": [
    "learn = language_model_learner(dls_lm, AWD_LSTM, metrics=[accuracy, Perplexity()], wd=0.1).to_fp16()"
   ]
  },
  {
   "cell_type": "code",
   "execution_count": 19,
   "metadata": {},
   "outputs": [
    {
     "data": {
      "text/html": [
       "<table border=\"1\" class=\"dataframe\">\n",
       "  <thead>\n",
       "    <tr style=\"text-align: left;\">\n",
       "      <th>epoch</th>\n",
       "      <th>train_loss</th>\n",
       "      <th>valid_loss</th>\n",
       "      <th>accuracy</th>\n",
       "      <th>perplexity</th>\n",
       "      <th>time</th>\n",
       "    </tr>\n",
       "  </thead>\n",
       "  <tbody>\n",
       "    <tr>\n",
       "      <td>0</td>\n",
       "      <td>4.876138</td>\n",
       "      <td>4.186074</td>\n",
       "      <td>0.276338</td>\n",
       "      <td>65.764114</td>\n",
       "      <td>04:28</td>\n",
       "    </tr>\n",
       "  </tbody>\n",
       "</table>"
      ],
      "text/plain": [
       "<IPython.core.display.HTML object>"
      ]
     },
     "metadata": {},
     "output_type": "display_data"
    }
   ],
   "source": [
    "learn.fit_one_cycle(1, 1e-2)"
   ]
  },
  {
   "cell_type": "code",
   "execution_count": 20,
   "metadata": {},
   "outputs": [
    {
     "data": {
      "text/html": [
       "<table border=\"1\" class=\"dataframe\">\n",
       "  <thead>\n",
       "    <tr style=\"text-align: left;\">\n",
       "      <th>epoch</th>\n",
       "      <th>train_loss</th>\n",
       "      <th>valid_loss</th>\n",
       "      <th>accuracy</th>\n",
       "      <th>perplexity</th>\n",
       "      <th>time</th>\n",
       "    </tr>\n",
       "  </thead>\n",
       "  <tbody>\n",
       "    <tr>\n",
       "      <td>0</td>\n",
       "      <td>4.501245</td>\n",
       "      <td>4.067742</td>\n",
       "      <td>0.285294</td>\n",
       "      <td>58.424911</td>\n",
       "      <td>06:23</td>\n",
       "    </tr>\n",
       "    <tr>\n",
       "      <td>1</td>\n",
       "      <td>4.398688</td>\n",
       "      <td>3.969083</td>\n",
       "      <td>0.292097</td>\n",
       "      <td>52.935959</td>\n",
       "      <td>06:21</td>\n",
       "    </tr>\n",
       "    <tr>\n",
       "      <td>2</td>\n",
       "      <td>4.251209</td>\n",
       "      <td>3.889001</td>\n",
       "      <td>0.306182</td>\n",
       "      <td>48.862045</td>\n",
       "      <td>06:18</td>\n",
       "    </tr>\n",
       "    <tr>\n",
       "      <td>3</td>\n",
       "      <td>4.108696</td>\n",
       "      <td>3.829956</td>\n",
       "      <td>0.309449</td>\n",
       "      <td>46.060513</td>\n",
       "      <td>06:18</td>\n",
       "    </tr>\n",
       "    <tr>\n",
       "      <td>4</td>\n",
       "      <td>3.964401</td>\n",
       "      <td>3.795316</td>\n",
       "      <td>0.310989</td>\n",
       "      <td>44.492302</td>\n",
       "      <td>06:18</td>\n",
       "    </tr>\n",
       "    <tr>\n",
       "      <td>5</td>\n",
       "      <td>3.832183</td>\n",
       "      <td>3.772482</td>\n",
       "      <td>0.313280</td>\n",
       "      <td>43.487854</td>\n",
       "      <td>06:20</td>\n",
       "    </tr>\n",
       "    <tr>\n",
       "      <td>6</td>\n",
       "      <td>3.723222</td>\n",
       "      <td>3.761506</td>\n",
       "      <td>0.315668</td>\n",
       "      <td>43.013157</td>\n",
       "      <td>06:19</td>\n",
       "    </tr>\n",
       "    <tr>\n",
       "      <td>7</td>\n",
       "      <td>3.635143</td>\n",
       "      <td>3.757074</td>\n",
       "      <td>0.315213</td>\n",
       "      <td>42.822956</td>\n",
       "      <td>06:21</td>\n",
       "    </tr>\n",
       "    <tr>\n",
       "      <td>8</td>\n",
       "      <td>3.561035</td>\n",
       "      <td>3.754390</td>\n",
       "      <td>0.314478</td>\n",
       "      <td>42.708172</td>\n",
       "      <td>06:20</td>\n",
       "    </tr>\n",
       "    <tr>\n",
       "      <td>9</td>\n",
       "      <td>3.517943</td>\n",
       "      <td>3.753855</td>\n",
       "      <td>0.314557</td>\n",
       "      <td>42.685318</td>\n",
       "      <td>06:20</td>\n",
       "    </tr>\n",
       "  </tbody>\n",
       "</table>"
      ],
      "text/plain": [
       "<IPython.core.display.HTML object>"
      ]
     },
     "metadata": {},
     "output_type": "display_data"
    }
   ],
   "source": [
    "learn.unfreeze()\n",
    "learn.fit_one_cycle(10, 1e-3)\n",
    "    "
   ]
  },
  {
   "cell_type": "code",
   "execution_count": 26,
   "metadata": {},
   "outputs": [],
   "source": [
    "learn.save_encoder('finetuned')"
   ]
  },
  {
   "cell_type": "code",
   "execution_count": 21,
   "metadata": {},
   "outputs": [
    {
     "data": {
      "text/html": [],
      "text/plain": [
       "<IPython.core.display.HTML object>"
      ]
     },
     "metadata": {},
     "output_type": "display_data"
    },
    {
     "data": {
      "text/html": [],
      "text/plain": [
       "<IPython.core.display.HTML object>"
      ]
     },
     "metadata": {},
     "output_type": "display_data"
    }
   ],
   "source": [
    "TEXT = \"AWS have announced on the recent conference\"\n",
    "N_WORDS = 40\n",
    "N_SENTENCES = 2\n",
    "preds = [learn.predict(TEXT, N_WORDS, temperature=0.75) \n",
    "         for _ in range(N_SENTENCES)]"
   ]
  },
  {
   "cell_type": "code",
   "execution_count": 37,
   "metadata": {},
   "outputs": [
    {
     "name": "stdout",
     "output_type": "stream",
     "text": [
      "AWS have announced on the recent conference that Intel will provide data for internal and internal security issues In the wake of the pandemic , we have been looking for a new way to build a mouse center . The company ’s Remote\n",
      "AWS have announced on the recent conference that it is launching a new PS4 to make its PS4 version available for the PS4 and Xbox Series X. The PS5 has been a challenge for PS4 players , and\n"
     ]
    }
   ],
   "source": [
    "print(\"\\n\".join(preds))"
   ]
  },
  {
   "cell_type": "code",
   "execution_count": 38,
   "metadata": {},
   "outputs": [],
   "source": [
    "# Building title language model"
   ]
  },
  {
   "cell_type": "code",
   "execution_count": 41,
   "metadata": {},
   "outputs": [
    {
     "data": {
      "text/html": [],
      "text/plain": [
       "<IPython.core.display.HTML object>"
      ]
     },
     "metadata": {},
     "output_type": "display_data"
    }
   ],
   "source": [
    "dls_title_lm = TextDataLoaders.from_df(title_text_data, is_lm=True, valid_pct=0.1)"
   ]
  },
  {
   "cell_type": "code",
   "execution_count": 42,
   "metadata": {},
   "outputs": [
    {
     "data": {
      "text/html": [
       "<table border=\"1\" class=\"dataframe\">\n",
       "  <thead>\n",
       "    <tr style=\"text-align: right;\">\n",
       "      <th></th>\n",
       "      <th>text</th>\n",
       "      <th>text_</th>\n",
       "    </tr>\n",
       "  </thead>\n",
       "  <tbody>\n",
       "    <tr>\n",
       "      <th>0</th>\n",
       "      <td>xxbos xxmaj ads for xxunk apps are xxunk xxmaj google xxunk xxbos xxmaj five changes we xxunk make to the oneplus xxmaj nord xxbos xxmaj xxunk rover starts its ' summer xxunk ' to next xxmaj xxunk xxunk xxbos xxmaj show xxup hn : xxmaj home xxmaj made xxmaj air xxmaj xxunk xxbos xxmaj sony 's xxunk xxup xxunk xxunk full - xxunk might be getting a xxunk xxunk xxbos xxup us</td>\n",
       "      <td>xxmaj ads for xxunk apps are xxunk xxmaj google xxunk xxbos xxmaj five changes we xxunk make to the oneplus xxmaj nord xxbos xxmaj xxunk rover starts its ' summer xxunk ' to next xxmaj xxunk xxunk xxbos xxmaj show xxup hn : xxmaj home xxmaj made xxmaj air xxmaj xxunk xxbos xxmaj sony 's xxunk xxup xxunk xxunk full - xxunk might be getting a xxunk xxunk xxbos xxup us xxmaj</td>\n",
       "    </tr>\n",
       "    <tr>\n",
       "      <th>1</th>\n",
       "      <td>data xxunk deal over xxunk xxunk xxbos xxmaj xxunk the xxunk xxmaj cloud xxmaj platform xxbos xxmaj xxunk , a startup focused on privacy , xxunk $ xxunk million xxunk xxunk led by xxmaj xxunk xxbos xxmaj xxunk xxmaj mode xxmaj may xxmaj not xxmaj work the xxmaj way xxmaj you xxmaj think xxmaj it xxmaj does xxbos xxmaj exclusive : oneplus xxmaj buds to charge faster than xxmaj apple airpods via</td>\n",
       "      <td>xxunk deal over xxunk xxunk xxbos xxmaj xxunk the xxunk xxmaj cloud xxmaj platform xxbos xxmaj xxunk , a startup focused on privacy , xxunk $ xxunk million xxunk xxunk led by xxmaj xxunk xxbos xxmaj xxunk xxmaj mode xxmaj may xxmaj not xxmaj work the xxmaj way xxmaj you xxmaj think xxmaj it xxmaj does xxbos xxmaj exclusive : oneplus xxmaj buds to charge faster than xxmaj apple airpods via xxmaj</td>\n",
       "    </tr>\n",
       "    <tr>\n",
       "      <th>2</th>\n",
       "      <td>xxmaj photos , xxmaj chats , and xxmaj more xxbos xxmaj twitter confirms ' bitcoin ' hackers xxunk the data of xxunk accounts xxbos xxmaj google xxmaj pixel 5 g teaser leaks , xxunk at two models xxbos xxmaj here 's your xxunk to win the new xxmaj samsung xxmaj galaxy xxmaj buds xxmaj live xxbos xxmaj fortnite xxunk xxmaj xxunk xxunk xxmaj xxunk xxmaj xxunk with her own in - game</td>\n",
       "      <td>photos , xxmaj chats , and xxmaj more xxbos xxmaj twitter confirms ' bitcoin ' hackers xxunk the data of xxunk accounts xxbos xxmaj google xxmaj pixel 5 g teaser leaks , xxunk at two models xxbos xxmaj here 's your xxunk to win the new xxmaj samsung xxmaj galaxy xxmaj buds xxmaj live xxbos xxmaj fortnite xxunk xxmaj xxunk xxunk xxmaj xxunk xxmaj xxunk with her own in - game xxunk</td>\n",
       "    </tr>\n",
       "    <tr>\n",
       "      <th>3</th>\n",
       "      <td>windows 10 can run apps from your xxmaj samsung phone xxbos xxmaj here 's another xxunk that the iphone 12 wo n't come with a charger xxbos xxmaj xxunk xxunk : xxunk , xxunk ransomware - xxmaj xxunk xxmaj xxunk xxbos xxmaj xxunk games xxunk xxmaj xxunk will stop xxunk xxunk on xxmaj july xxunk xxbos whatsapp officially announces xxup xxunk xxunk and xxunk xxunk xxbos xxmaj first picture of xxmaj tesla</td>\n",
       "      <td>10 can run apps from your xxmaj samsung phone xxbos xxmaj here 's another xxunk that the iphone 12 wo n't come with a charger xxbos xxmaj xxunk xxunk : xxunk , xxunk ransomware - xxmaj xxunk xxmaj xxunk xxbos xxmaj xxunk games xxunk xxmaj xxunk will stop xxunk xxunk on xxmaj july xxunk xxbos whatsapp officially announces xxup xxunk xxunk and xxunk xxunk xxbos xxmaj first picture of xxmaj tesla xxmaj</td>\n",
       "    </tr>\n",
       "    <tr>\n",
       "      <th>4</th>\n",
       "      <td>xxbos xxmaj verizon xxunk xxmaj google xxmaj cloud for xxmaj contact xxmaj xxunk xxup ai xxbos xxmaj google xxunk up to xxup aws and xxunk a xxunk on xxmaj xxunk with xxunk of xxunk xxmaj xxunk xxmaj xxunk xxmaj service xxbos xxmaj xxunk , a life and career xxunk xxunk for everyone , launches today – techcrunch xxbos xxunk has a new technology to improve xxunk for xxunk xxunk – techcrunch xxbos</td>\n",
       "      <td>xxmaj verizon xxunk xxmaj google xxmaj cloud for xxmaj contact xxmaj xxunk xxup ai xxbos xxmaj google xxunk up to xxup aws and xxunk a xxunk on xxmaj xxunk with xxunk of xxunk xxmaj xxunk xxmaj xxunk xxmaj service xxbos xxmaj xxunk , a life and career xxunk xxunk for everyone , launches today – techcrunch xxbos xxunk has a new technology to improve xxunk for xxunk xxunk – techcrunch xxbos xxmaj</td>\n",
       "    </tr>\n",
       "    <tr>\n",
       "      <th>5</th>\n",
       "      <td>— it xxmaj can xxmaj save xxmaj xxunk xxmaj too xxbos xxmaj xxunk : xxmaj have xxmaj super xxmaj smash xxmaj bros . xxmaj boxes xxmaj been xxmaj xxunk xxmaj future xxmaj games xxmaj all xxmaj xxunk ? xxbos xxup xxunk xxmaj hack xxmaj xxunk xxmaj games xxmaj on xxmaj xxunk xxup xxunk xxmaj xxunk , xxmaj no xxmaj xxunk xxmaj chip xxmaj xxunk xxbos xxmaj xxunk xxunk xxmaj jump xxunk back</td>\n",
       "      <td>it xxmaj can xxmaj save xxmaj xxunk xxmaj too xxbos xxmaj xxunk : xxmaj have xxmaj super xxmaj smash xxmaj bros . xxmaj boxes xxmaj been xxmaj xxunk xxmaj future xxmaj games xxmaj all xxmaj xxunk ? xxbos xxup xxunk xxmaj hack xxmaj xxunk xxmaj games xxmaj on xxmaj xxunk xxup xxunk xxmaj xxunk , xxmaj no xxmaj xxunk xxmaj chip xxmaj xxunk xxbos xxmaj xxunk xxunk xxmaj jump xxunk back on</td>\n",
       "    </tr>\n",
       "    <tr>\n",
       "      <th>6</th>\n",
       "      <td>of new games xxbos xxmaj how to xxmaj keep xxmaj your xxmaj phone xxmaj working xxmaj when xxmaj there ’s xxmaj no xxmaj service xxbos xxmaj how to use xxmaj microsoft ’s new app to xxunk xxunk your kids ’ screen time xxbos oneplus xxunk xxunk 11 for xxunk xxbos xxmaj xxunk : xxmaj the xxup lego xxup nes xxmaj has a xxmaj xxunk xxmaj super xxmaj mario xxmaj bros . xxmaj</td>\n",
       "      <td>new games xxbos xxmaj how to xxmaj keep xxmaj your xxmaj phone xxmaj working xxmaj when xxmaj there ’s xxmaj no xxmaj service xxbos xxmaj how to use xxmaj microsoft ’s new app to xxunk xxunk your kids ’ screen time xxbos oneplus xxunk xxunk 11 for xxunk xxbos xxmaj xxunk : xxmaj the xxup lego xxup nes xxmaj has a xxmaj xxunk xxmaj super xxmaj mario xxmaj bros . xxmaj xxunk</td>\n",
       "    </tr>\n",
       "    <tr>\n",
       "      <th>7</th>\n",
       "      <td>a better zoom than the xxmaj samsung xxmaj galaxy xxup s20 xxmaj ultra xxbos xxmaj hey xxmaj google , can you xxunk out the xxmaj xxunk ipad app xxunk ? xxbos ' xxunk xxunk ' xxunk its wall - xxunk xxunk xxbos xxmaj elon xxmaj musk xxmaj xxunk xxmaj it on xxmaj twitter xxmaj again . xxmaj another xxmaj xxunk to xxmaj sell xxup xxunk xxmaj stock xxbos xxmaj xxunk rewards xxunk</td>\n",
       "      <td>better zoom than the xxmaj samsung xxmaj galaxy xxup s20 xxmaj ultra xxbos xxmaj hey xxmaj google , can you xxunk out the xxmaj xxunk ipad app xxunk ? xxbos ' xxunk xxunk ' xxunk its wall - xxunk xxunk xxbos xxmaj elon xxmaj musk xxmaj xxunk xxmaj it on xxmaj twitter xxmaj again . xxmaj another xxmaj xxunk to xxmaj sell xxup xxunk xxmaj stock xxbos xxmaj xxunk rewards xxunk app</td>\n",
       "    </tr>\n",
       "    <tr>\n",
       "      <th>8</th>\n",
       "      <td>xxmaj xxunk xxmaj xxunk xxbos xxmaj xbox xxmaj games xxmaj showcase : xxmaj what to expect from the xxmaj july event xxbos 2020 xxunk xxmaj xxunk live stream : how to watch xxmaj xxunk 's next xxmaj grand xxmaj prix from anywhere xxbos xxmaj uber xxup ceo says service faces xxunk shutdown in xxmaj california over xxunk xxunk xxunk – techcrunch xxbos tiktok says xxmaj trump ’s ban xxunk shows ‘ no</td>\n",
       "      <td>xxunk xxmaj xxunk xxbos xxmaj xbox xxmaj games xxmaj showcase : xxmaj what to expect from the xxmaj july event xxbos 2020 xxunk xxmaj xxunk live stream : how to watch xxmaj xxunk 's next xxmaj grand xxmaj prix from anywhere xxbos xxmaj uber xxup ceo says service faces xxunk shutdown in xxmaj california over xxunk xxunk xxunk – techcrunch xxbos tiktok says xxmaj trump ’s ban xxunk shows ‘ no xxunk</td>\n",
       "    </tr>\n",
       "  </tbody>\n",
       "</table>"
      ],
      "text/plain": [
       "<IPython.core.display.HTML object>"
      ]
     },
     "metadata": {},
     "output_type": "display_data"
    }
   ],
   "source": [
    "dls_title_lm.show_batch()"
   ]
  },
  {
   "cell_type": "code",
   "execution_count": 46,
   "metadata": {},
   "outputs": [],
   "source": [
    "learn_title = language_model_learner(dls_title_lm, AWD_LSTM, metrics=[accuracy, Perplexity()], wd=0.1)"
   ]
  },
  {
   "cell_type": "code",
   "execution_count": 47,
   "metadata": {},
   "outputs": [
    {
     "data": {
      "text/html": [
       "<table border=\"1\" class=\"dataframe\">\n",
       "  <thead>\n",
       "    <tr style=\"text-align: left;\">\n",
       "      <th>epoch</th>\n",
       "      <th>train_loss</th>\n",
       "      <th>valid_loss</th>\n",
       "      <th>accuracy</th>\n",
       "      <th>perplexity</th>\n",
       "      <th>time</th>\n",
       "    </tr>\n",
       "  </thead>\n",
       "  <tbody>\n",
       "    <tr>\n",
       "      <td>0</td>\n",
       "      <td>5.224308</td>\n",
       "      <td>4.761129</td>\n",
       "      <td>0.283266</td>\n",
       "      <td>116.877853</td>\n",
       "      <td>00:36</td>\n",
       "    </tr>\n",
       "  </tbody>\n",
       "</table>"
      ],
      "text/plain": [
       "<IPython.core.display.HTML object>"
      ]
     },
     "metadata": {},
     "output_type": "display_data"
    }
   ],
   "source": [
    "learn_title.fit_one_cycle(1, 1e-2)"
   ]
  },
  {
   "cell_type": "code",
   "execution_count": 48,
   "metadata": {},
   "outputs": [
    {
     "data": {
      "text/html": [
       "<table border=\"1\" class=\"dataframe\">\n",
       "  <thead>\n",
       "    <tr style=\"text-align: left;\">\n",
       "      <th>epoch</th>\n",
       "      <th>train_loss</th>\n",
       "      <th>valid_loss</th>\n",
       "      <th>accuracy</th>\n",
       "      <th>perplexity</th>\n",
       "      <th>time</th>\n",
       "    </tr>\n",
       "  </thead>\n",
       "  <tbody>\n",
       "    <tr>\n",
       "      <td>0</td>\n",
       "      <td>4.771192</td>\n",
       "      <td>4.346286</td>\n",
       "      <td>0.303427</td>\n",
       "      <td>77.191261</td>\n",
       "      <td>00:52</td>\n",
       "    </tr>\n",
       "    <tr>\n",
       "      <td>1</td>\n",
       "      <td>4.502396</td>\n",
       "      <td>3.985361</td>\n",
       "      <td>0.320565</td>\n",
       "      <td>53.804703</td>\n",
       "      <td>00:52</td>\n",
       "    </tr>\n",
       "    <tr>\n",
       "      <td>2</td>\n",
       "      <td>4.284337</td>\n",
       "      <td>3.761253</td>\n",
       "      <td>0.339214</td>\n",
       "      <td>43.002277</td>\n",
       "      <td>00:52</td>\n",
       "    </tr>\n",
       "    <tr>\n",
       "      <td>3</td>\n",
       "      <td>4.118364</td>\n",
       "      <td>3.647167</td>\n",
       "      <td>0.358367</td>\n",
       "      <td>38.365822</td>\n",
       "      <td>00:52</td>\n",
       "    </tr>\n",
       "    <tr>\n",
       "      <td>4</td>\n",
       "      <td>4.005947</td>\n",
       "      <td>3.572754</td>\n",
       "      <td>0.365423</td>\n",
       "      <td>35.614529</td>\n",
       "      <td>00:52</td>\n",
       "    </tr>\n",
       "    <tr>\n",
       "      <td>5</td>\n",
       "      <td>3.897459</td>\n",
       "      <td>3.538577</td>\n",
       "      <td>0.364919</td>\n",
       "      <td>34.417919</td>\n",
       "      <td>00:52</td>\n",
       "    </tr>\n",
       "    <tr>\n",
       "      <td>6</td>\n",
       "      <td>3.807450</td>\n",
       "      <td>3.507044</td>\n",
       "      <td>0.369456</td>\n",
       "      <td>33.349537</td>\n",
       "      <td>00:51</td>\n",
       "    </tr>\n",
       "    <tr>\n",
       "      <td>7</td>\n",
       "      <td>3.735770</td>\n",
       "      <td>3.490448</td>\n",
       "      <td>0.370968</td>\n",
       "      <td>32.800632</td>\n",
       "      <td>00:51</td>\n",
       "    </tr>\n",
       "    <tr>\n",
       "      <td>8</td>\n",
       "      <td>3.685293</td>\n",
       "      <td>3.487323</td>\n",
       "      <td>0.371472</td>\n",
       "      <td>32.698292</td>\n",
       "      <td>00:52</td>\n",
       "    </tr>\n",
       "    <tr>\n",
       "      <td>9</td>\n",
       "      <td>3.635176</td>\n",
       "      <td>3.487996</td>\n",
       "      <td>0.372480</td>\n",
       "      <td>32.720322</td>\n",
       "      <td>00:52</td>\n",
       "    </tr>\n",
       "  </tbody>\n",
       "</table>"
      ],
      "text/plain": [
       "<IPython.core.display.HTML object>"
      ]
     },
     "metadata": {},
     "output_type": "display_data"
    }
   ],
   "source": [
    "learn_title.unfreeze()\n",
    "learn_title.fit_one_cycle(10, 1e-3)"
   ]
  },
  {
   "cell_type": "code",
   "execution_count": 24,
   "metadata": {},
   "outputs": [
    {
     "data": {
      "text/html": [],
      "text/plain": [
       "<IPython.core.display.HTML object>"
      ]
     },
     "metadata": {},
     "output_type": "display_data"
    }
   ],
   "source": [
    "dls_clas = TextDataLoaders.from_df(combined_text_data, text_vocab=dls_lm.vocab)"
   ]
  },
  {
   "cell_type": "code",
   "execution_count": null,
   "metadata": {},
   "outputs": [],
   "source": []
  },
  {
   "cell_type": "code",
   "execution_count": 25,
   "metadata": {},
   "outputs": [],
   "source": [
    "learn = text_classifier_learner(dls_clas, AWD_LSTM, drop_mult=0.5, metrics=accuracy)"
   ]
  },
  {
   "cell_type": "code",
   "execution_count": 27,
   "metadata": {},
   "outputs": [],
   "source": [
    "learn = learn.load_encoder('finetuned')"
   ]
  },
  {
   "cell_type": "code",
   "execution_count": 28,
   "metadata": {},
   "outputs": [
    {
     "data": {
      "text/html": [
       "<table border=\"1\" class=\"dataframe\">\n",
       "  <thead>\n",
       "    <tr style=\"text-align: left;\">\n",
       "      <th>epoch</th>\n",
       "      <th>train_loss</th>\n",
       "      <th>valid_loss</th>\n",
       "      <th>accuracy</th>\n",
       "      <th>time</th>\n",
       "    </tr>\n",
       "  </thead>\n",
       "  <tbody>\n",
       "    <tr>\n",
       "      <td>0</td>\n",
       "      <td>0.802505</td>\n",
       "      <td>0.571296</td>\n",
       "      <td>0.829457</td>\n",
       "      <td>02:13</td>\n",
       "    </tr>\n",
       "  </tbody>\n",
       "</table>"
      ],
      "text/plain": [
       "<IPython.core.display.HTML object>"
      ]
     },
     "metadata": {},
     "output_type": "display_data"
    }
   ],
   "source": [
    "learn.fit_one_cycle(1, 2e-2)"
   ]
  },
  {
   "cell_type": "code",
   "execution_count": 29,
   "metadata": {},
   "outputs": [
    {
     "data": {
      "text/html": [
       "<table border=\"1\" class=\"dataframe\">\n",
       "  <thead>\n",
       "    <tr style=\"text-align: left;\">\n",
       "      <th>epoch</th>\n",
       "      <th>train_loss</th>\n",
       "      <th>valid_loss</th>\n",
       "      <th>accuracy</th>\n",
       "      <th>time</th>\n",
       "    </tr>\n",
       "  </thead>\n",
       "  <tbody>\n",
       "    <tr>\n",
       "      <td>0</td>\n",
       "      <td>0.680509</td>\n",
       "      <td>0.470343</td>\n",
       "      <td>0.833333</td>\n",
       "      <td>02:47</td>\n",
       "    </tr>\n",
       "  </tbody>\n",
       "</table>"
      ],
      "text/plain": [
       "<IPython.core.display.HTML object>"
      ]
     },
     "metadata": {},
     "output_type": "display_data"
    }
   ],
   "source": [
    "learn.freeze_to(-2)\n",
    "learn.fit_one_cycle(1, slice(1e-2/(2.6**4),1e-2))"
   ]
  },
  {
   "cell_type": "code",
   "execution_count": 30,
   "metadata": {},
   "outputs": [
    {
     "data": {
      "text/html": [
       "<table border=\"1\" class=\"dataframe\">\n",
       "  <thead>\n",
       "    <tr style=\"text-align: left;\">\n",
       "      <th>epoch</th>\n",
       "      <th>train_loss</th>\n",
       "      <th>valid_loss</th>\n",
       "      <th>accuracy</th>\n",
       "      <th>time</th>\n",
       "    </tr>\n",
       "  </thead>\n",
       "  <tbody>\n",
       "    <tr>\n",
       "      <td>0</td>\n",
       "      <td>0.527963</td>\n",
       "      <td>0.416327</td>\n",
       "      <td>0.837209</td>\n",
       "      <td>03:53</td>\n",
       "    </tr>\n",
       "  </tbody>\n",
       "</table>"
      ],
      "text/plain": [
       "<IPython.core.display.HTML object>"
      ]
     },
     "metadata": {},
     "output_type": "display_data"
    }
   ],
   "source": [
    "learn.freeze_to(-3)\n",
    "learn.fit_one_cycle(1, slice(5e-3/(2.6**4),5e-3))"
   ]
  },
  {
   "cell_type": "code",
   "execution_count": 31,
   "metadata": {},
   "outputs": [
    {
     "data": {
      "text/html": [
       "<table border=\"1\" class=\"dataframe\">\n",
       "  <thead>\n",
       "    <tr style=\"text-align: left;\">\n",
       "      <th>epoch</th>\n",
       "      <th>train_loss</th>\n",
       "      <th>valid_loss</th>\n",
       "      <th>accuracy</th>\n",
       "      <th>time</th>\n",
       "    </tr>\n",
       "  </thead>\n",
       "  <tbody>\n",
       "    <tr>\n",
       "      <td>0</td>\n",
       "      <td>0.435694</td>\n",
       "      <td>0.429515</td>\n",
       "      <td>0.829457</td>\n",
       "      <td>05:59</td>\n",
       "    </tr>\n",
       "    <tr>\n",
       "      <td>1</td>\n",
       "      <td>0.403656</td>\n",
       "      <td>0.415410</td>\n",
       "      <td>0.844961</td>\n",
       "      <td>05:53</td>\n",
       "    </tr>\n",
       "  </tbody>\n",
       "</table>"
      ],
      "text/plain": [
       "<IPython.core.display.HTML object>"
      ]
     },
     "metadata": {},
     "output_type": "display_data"
    }
   ],
   "source": [
    "learn.unfreeze()\n",
    "learn.fit_one_cycle(2, slice(1e-3/(2.6**4),1e-3))"
   ]
  },
  {
   "cell_type": "code",
   "execution_count": null,
   "metadata": {},
   "outputs": [],
   "source": []
  }
 ],
 "metadata": {
  "environment": {
   "name": "common-cpu.m54",
   "type": "gcloud",
   "uri": "gcr.io/deeplearning-platform-release/base-cpu:m54"
  },
  "kernelspec": {
   "display_name": "Python 3",
   "language": "python",
   "name": "python3"
  },
  "language_info": {
   "codemirror_mode": {
    "name": "ipython",
    "version": 3
   },
   "file_extension": ".py",
   "mimetype": "text/x-python",
   "name": "python",
   "nbconvert_exporter": "python",
   "pygments_lexer": "ipython3",
   "version": "3.7.8"
  }
 },
 "nbformat": 4,
 "nbformat_minor": 4
}
