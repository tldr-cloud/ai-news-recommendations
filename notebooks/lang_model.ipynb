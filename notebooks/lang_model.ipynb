{
 "cells": [
  {
   "cell_type": "code",
   "execution_count": 1,
   "metadata": {},
   "outputs": [
    {
     "name": "stderr",
     "output_type": "stream",
     "text": [
      "/opt/conda/lib/python3.7/site-packages/torch/cuda/__init__.py:52: UserWarning: CUDA initialization: The NVIDIA driver on your system is too old (found version 10010). Please update your GPU driver by downloading and installing a new version from the URL: http://www.nvidia.com/Download/index.aspx Alternatively, go to: https://pytorch.org to install a PyTorch version that has been compiled with your version of the CUDA driver. (Triggered internally at  /pytorch/c10/cuda/CUDAFunctions.cpp:100.)\n",
      "  return torch._C._cuda_getDeviceCount() > 0\n"
     ]
    }
   ],
   "source": [
    "from fastai.text.all import *"
   ]
  },
  {
   "cell_type": "code",
   "execution_count": 2,
   "metadata": {},
   "outputs": [
    {
     "data": {
      "text/html": [
       "<div>\n",
       "<style scoped>\n",
       "    .dataframe tbody tr th:only-of-type {\n",
       "        vertical-align: middle;\n",
       "    }\n",
       "\n",
       "    .dataframe tbody tr th {\n",
       "        vertical-align: top;\n",
       "    }\n",
       "\n",
       "    .dataframe thead th {\n",
       "        text-align: right;\n",
       "    }\n",
       "</style>\n",
       "<table border=\"1\" class=\"dataframe\">\n",
       "  <thead>\n",
       "    <tr style=\"text-align: right;\">\n",
       "      <th></th>\n",
       "      <th>id</th>\n",
       "      <th>title</th>\n",
       "      <th>summary</th>\n",
       "      <th>good_tldr</th>\n",
       "    </tr>\n",
       "  </thead>\n",
       "  <tbody>\n",
       "    <tr>\n",
       "      <th>0</th>\n",
       "      <td>http___techcrunch.com_2017_02_23_website-builder-wix-acquires-art-community-deviantart-for-36m_</td>\n",
       "      <td>Website builder Wix acquires art community DeviantArt for $36M – TechCrunch</td>\n",
       "      <td>Wix .com has made another acquisition to build out the tools that it provides to users to build and administer websites: it has acquired DeviantArt, an online community for artists, designers and art/design enthusiasts with some 325 million individual pieces of original art and more than 40 million registered members, for $36 million in cash, including $3 million of assumed liabilities. Updated detail related to DeviantArt’s valuation prior to its sale.</td>\n",
       "      <td>False</td>\n",
       "    </tr>\n",
       "    <tr>\n",
       "      <th>1</th>\n",
       "      <td>http___techcrunch.com_2020_07_02_festos-latest-biomimetic-robots-are-a-flying-feathered-bird-and-ball-bottomed-helper-arm_</td>\n",
       "      <td>Festo’s latest biomimetic robots are a flying feathered bird and ball-bottomed helper arm – TechCrunch</td>\n",
       "      <td>You could be excused for thinking that German robotics company Festo does nothing but put together fabulous prototype robots built to resemble kangaroos, jellyfish, and other living things. They do in fact actually make real industrial robots, but it’s hard not to marvel at their biomimetic experiments; Case in point, the feathered BionicSwift and absurd BionicMobileAssistant motile arm. Of course, it’s silly to criticize such a machine, which is aspirational rather than practical.</td>\n",
       "      <td>False</td>\n",
       "    </tr>\n",
       "    <tr>\n",
       "      <th>2</th>\n",
       "      <td>http___techcrunch.com_2020_07_02_growth-capital-investor-kennet-raises-250m-fund-backed-by-edmond-de-rothschild_</td>\n",
       "      <td>Growth capital investor Kennet raises $250M fund, backed by Edmond de Rothschild – TechCrunch</td>\n",
       "      <td>Venture capital is “not the only fruit” for entrepreneurs, as the often quieter ‘Growth Capital’ can also see great returns for entrepreneurs who prefer to retain a lot of ownership and control but are also willing to bootstrap over a longer period in order to reach revenues and profits. With the COVID-19 pandemic pushing millions of people online, tech investors of all classes are now reaping the dividends in this accelerated, Coronavirus-powered transition to digital.</td>\n",
       "      <td>False</td>\n",
       "    </tr>\n",
       "    <tr>\n",
       "      <th>3</th>\n",
       "      <td>http___techcrunch.com_2020_07_02_lets-stop-covid-19-from-undoing-diversity-gains_</td>\n",
       "      <td>Let’s stop COVID-19 from undoing diversity gains – TechCrunch</td>\n",
       "      <td>Any disaster will have its harshest repercussions on people who were already marginalized. This may be the shock to the system that will make business leaders realize that diversity is not an accessory or PR stunt — it is an integral part of the daily lives of each and every member of your team. Today’s consumers and your co-workers demand socially conscious companies, which is why D&amp;I is vital to making any startup a well-rounded business. An important note — helping everyone reach success means giving everyone the resources to do so. How can you change how your industry looks, even in ti...</td>\n",
       "      <td>False</td>\n",
       "    </tr>\n",
       "    <tr>\n",
       "      <th>4</th>\n",
       "      <td>http___techcrunch.com_2020_07_02_ourpeople_</td>\n",
       "      <td>OurPeople, the team communication and engagement platform, raises $2M – TechCrunch</td>\n",
       "      <td>OurPeople, the U.K. startup that’s built a team communication and engagement platform for deskless workers, has raised $2 million in Series A funding. The startup primarily works in industries with large numbers of deskless workers, such as fitness and leisure. Furthermore, the OurPeople founder says the platform is different because the startup is not attempting to create a workplace social network “where vital information can get lost in all the typical noise.” “</td>\n",
       "      <td>False</td>\n",
       "    </tr>\n",
       "  </tbody>\n",
       "</table>\n",
       "</div>"
      ],
      "text/plain": [
       "                                                                                                                           id  \\\n",
       "0                             http___techcrunch.com_2017_02_23_website-builder-wix-acquires-art-community-deviantart-for-36m_   \n",
       "1  http___techcrunch.com_2020_07_02_festos-latest-biomimetic-robots-are-a-flying-feathered-bird-and-ball-bottomed-helper-arm_   \n",
       "2            http___techcrunch.com_2020_07_02_growth-capital-investor-kennet-raises-250m-fund-backed-by-edmond-de-rothschild_   \n",
       "3                                           http___techcrunch.com_2020_07_02_lets-stop-covid-19-from-undoing-diversity-gains_   \n",
       "4                                                                                 http___techcrunch.com_2020_07_02_ourpeople_   \n",
       "\n",
       "                                                                                                    title  \\\n",
       "0                             Website builder Wix acquires art community DeviantArt for $36M – TechCrunch   \n",
       "1  Festo’s latest biomimetic robots are a flying feathered bird and ball-bottomed helper arm – TechCrunch   \n",
       "2           Growth capital investor Kennet raises $250M fund, backed by Edmond de Rothschild – TechCrunch   \n",
       "3                                           Let’s stop COVID-19 from undoing diversity gains – TechCrunch   \n",
       "4                      OurPeople, the team communication and engagement platform, raises $2M – TechCrunch   \n",
       "\n",
       "                                                                                                                                                                                                                                                                                                                                                                                                                                                                                                                                                                                                                   summary  \\\n",
       "0                                                                                                                                                Wix .com has made another acquisition to build out the tools that it provides to users to build and administer websites: it has acquired DeviantArt, an online community for artists, designers and art/design enthusiasts with some 325 million individual pieces of original art and more than 40 million registered members, for $36 million in cash, including $3 million of assumed liabilities. Updated detail related to DeviantArt’s valuation prior to its sale.   \n",
       "1                                                                                                                   You could be excused for thinking that German robotics company Festo does nothing but put together fabulous prototype robots built to resemble kangaroos, jellyfish, and other living things. They do in fact actually make real industrial robots, but it’s hard not to marvel at their biomimetic experiments; Case in point, the feathered BionicSwift and absurd BionicMobileAssistant motile arm. Of course, it’s silly to criticize such a machine, which is aspirational rather than practical.   \n",
       "2                                                                                                                               Venture capital is “not the only fruit” for entrepreneurs, as the often quieter ‘Growth Capital’ can also see great returns for entrepreneurs who prefer to retain a lot of ownership and control but are also willing to bootstrap over a longer period in order to reach revenues and profits. With the COVID-19 pandemic pushing millions of people online, tech investors of all classes are now reaping the dividends in this accelerated, Coronavirus-powered transition to digital.   \n",
       "3  Any disaster will have its harshest repercussions on people who were already marginalized. This may be the shock to the system that will make business leaders realize that diversity is not an accessory or PR stunt — it is an integral part of the daily lives of each and every member of your team. Today’s consumers and your co-workers demand socially conscious companies, which is why D&I is vital to making any startup a well-rounded business. An important note — helping everyone reach success means giving everyone the resources to do so. How can you change how your industry looks, even in ti...   \n",
       "4                                                                                                                                    OurPeople, the U.K. startup that’s built a team communication and engagement platform for deskless workers, has raised $2 million in Series A funding. The startup primarily works in industries with large numbers of deskless workers, such as fitness and leisure. Furthermore, the OurPeople founder says the platform is different because the startup is not attempting to create a workplace social network “where vital information can get lost in all the typical noise.” “   \n",
       "\n",
       "   good_tldr  \n",
       "0      False  \n",
       "1      False  \n",
       "2      False  \n",
       "3      False  \n",
       "4      False  "
      ]
     },
     "execution_count": 2,
     "metadata": {},
     "output_type": "execute_result"
    }
   ],
   "source": [
    "import pandas as pd \n",
    "data = pd.read_csv('gs://tldr-training-dataset/summary-training-data.csv') \n",
    "data.head()"
   ]
  },
  {
   "cell_type": "code",
   "execution_count": 3,
   "metadata": {},
   "outputs": [
    {
     "data": {
      "text/html": [
       "<div>\n",
       "<style scoped>\n",
       "    .dataframe tbody tr th:only-of-type {\n",
       "        vertical-align: middle;\n",
       "    }\n",
       "\n",
       "    .dataframe tbody tr th {\n",
       "        vertical-align: top;\n",
       "    }\n",
       "\n",
       "    .dataframe thead th {\n",
       "        text-align: right;\n",
       "    }\n",
       "</style>\n",
       "<table border=\"1\" class=\"dataframe\">\n",
       "  <thead>\n",
       "    <tr style=\"text-align: right;\">\n",
       "      <th></th>\n",
       "      <th>id</th>\n",
       "      <th>title</th>\n",
       "      <th>summary</th>\n",
       "      <th>good_tldr</th>\n",
       "      <th>all_text</th>\n",
       "    </tr>\n",
       "  </thead>\n",
       "  <tbody>\n",
       "    <tr>\n",
       "      <th>0</th>\n",
       "      <td>http___techcrunch.com_2017_02_23_website-builder-wix-acquires-art-community-deviantart-for-36m_</td>\n",
       "      <td>Website builder Wix acquires art community DeviantArt for $36M – TechCrunch</td>\n",
       "      <td>Wix .com has made another acquisition to build out the tools that it provides to users to build and administer websites: it has acquired DeviantArt, an online community for artists, designers and art/design enthusiasts with some 325 million individual pieces of original art and more than 40 million registered members, for $36 million in cash, including $3 million of assumed liabilities. Updated detail related to DeviantArt’s valuation prior to its sale.</td>\n",
       "      <td>False</td>\n",
       "      <td>Website builder Wix acquires art community DeviantArt for $36M – TechCrunch Wix .com has made another acquisition to build out the tools that it provides to users to build and administer websites: it has acquired DeviantArt, an online community for artists, designers and art/design enthusiasts with some 325 million individual pieces of original art and more than 40 million registered members, for $36 million in cash, including $3 million of assumed liabilities. Updated detail related to DeviantArt’s valuation prior to its sale.</td>\n",
       "    </tr>\n",
       "    <tr>\n",
       "      <th>1</th>\n",
       "      <td>http___techcrunch.com_2020_07_02_festos-latest-biomimetic-robots-are-a-flying-feathered-bird-and-ball-bottomed-helper-arm_</td>\n",
       "      <td>Festo’s latest biomimetic robots are a flying feathered bird and ball-bottomed helper arm – TechCrunch</td>\n",
       "      <td>You could be excused for thinking that German robotics company Festo does nothing but put together fabulous prototype robots built to resemble kangaroos, jellyfish, and other living things. They do in fact actually make real industrial robots, but it’s hard not to marvel at their biomimetic experiments; Case in point, the feathered BionicSwift and absurd BionicMobileAssistant motile arm. Of course, it’s silly to criticize such a machine, which is aspirational rather than practical.</td>\n",
       "      <td>False</td>\n",
       "      <td>Festo’s latest biomimetic robots are a flying feathered bird and ball-bottomed helper arm – TechCrunch You could be excused for thinking that German robotics company Festo does nothing but put together fabulous prototype robots built to resemble kangaroos, jellyfish, and other living things. They do in fact actually make real industrial robots, but it’s hard not to marvel at their biomimetic experiments; Case in point, the feathered BionicSwift and absurd BionicMobileAssistant motile arm. Of course, it’s silly to criticize such a machine, which is aspirational rather than practical.</td>\n",
       "    </tr>\n",
       "    <tr>\n",
       "      <th>2</th>\n",
       "      <td>http___techcrunch.com_2020_07_02_growth-capital-investor-kennet-raises-250m-fund-backed-by-edmond-de-rothschild_</td>\n",
       "      <td>Growth capital investor Kennet raises $250M fund, backed by Edmond de Rothschild – TechCrunch</td>\n",
       "      <td>Venture capital is “not the only fruit” for entrepreneurs, as the often quieter ‘Growth Capital’ can also see great returns for entrepreneurs who prefer to retain a lot of ownership and control but are also willing to bootstrap over a longer period in order to reach revenues and profits. With the COVID-19 pandemic pushing millions of people online, tech investors of all classes are now reaping the dividends in this accelerated, Coronavirus-powered transition to digital.</td>\n",
       "      <td>False</td>\n",
       "      <td>Growth capital investor Kennet raises $250M fund, backed by Edmond de Rothschild – TechCrunch Venture capital is “not the only fruit” for entrepreneurs, as the often quieter ‘Growth Capital’ can also see great returns for entrepreneurs who prefer to retain a lot of ownership and control but are also willing to bootstrap over a longer period in order to reach revenues and profits. With the COVID-19 pandemic pushing millions of people online, tech investors of all classes are now reaping the dividends in this accelerated, Coronavirus-powered transition to digital.</td>\n",
       "    </tr>\n",
       "    <tr>\n",
       "      <th>3</th>\n",
       "      <td>http___techcrunch.com_2020_07_02_lets-stop-covid-19-from-undoing-diversity-gains_</td>\n",
       "      <td>Let’s stop COVID-19 from undoing diversity gains – TechCrunch</td>\n",
       "      <td>Any disaster will have its harshest repercussions on people who were already marginalized. This may be the shock to the system that will make business leaders realize that diversity is not an accessory or PR stunt — it is an integral part of the daily lives of each and every member of your team. Today’s consumers and your co-workers demand socially conscious companies, which is why D&amp;I is vital to making any startup a well-rounded business. An important note — helping everyone reach success means giving everyone the resources to do so. How can you change how your industry looks, even in ti...</td>\n",
       "      <td>False</td>\n",
       "      <td>Let’s stop COVID-19 from undoing diversity gains – TechCrunch Any disaster will have its harshest repercussions on people who were already marginalized. This may be the shock to the system that will make business leaders realize that diversity is not an accessory or PR stunt — it is an integral part of the daily lives of each and every member of your team. Today’s consumers and your co-workers demand socially conscious companies, which is why D&amp;I is vital to making any startup a well-rounded business. An important note — helping everyone reach success means giving everyone the resources to...</td>\n",
       "    </tr>\n",
       "    <tr>\n",
       "      <th>4</th>\n",
       "      <td>http___techcrunch.com_2020_07_02_ourpeople_</td>\n",
       "      <td>OurPeople, the team communication and engagement platform, raises $2M – TechCrunch</td>\n",
       "      <td>OurPeople, the U.K. startup that’s built a team communication and engagement platform for deskless workers, has raised $2 million in Series A funding. The startup primarily works in industries with large numbers of deskless workers, such as fitness and leisure. Furthermore, the OurPeople founder says the platform is different because the startup is not attempting to create a workplace social network “where vital information can get lost in all the typical noise.” “</td>\n",
       "      <td>False</td>\n",
       "      <td>OurPeople, the team communication and engagement platform, raises $2M – TechCrunch OurPeople, the U.K. startup that’s built a team communication and engagement platform for deskless workers, has raised $2 million in Series A funding. The startup primarily works in industries with large numbers of deskless workers, such as fitness and leisure. Furthermore, the OurPeople founder says the platform is different because the startup is not attempting to create a workplace social network “where vital information can get lost in all the typical noise.” “</td>\n",
       "    </tr>\n",
       "  </tbody>\n",
       "</table>\n",
       "</div>"
      ],
      "text/plain": [
       "                                                                                                                           id  \\\n",
       "0                             http___techcrunch.com_2017_02_23_website-builder-wix-acquires-art-community-deviantart-for-36m_   \n",
       "1  http___techcrunch.com_2020_07_02_festos-latest-biomimetic-robots-are-a-flying-feathered-bird-and-ball-bottomed-helper-arm_   \n",
       "2            http___techcrunch.com_2020_07_02_growth-capital-investor-kennet-raises-250m-fund-backed-by-edmond-de-rothschild_   \n",
       "3                                           http___techcrunch.com_2020_07_02_lets-stop-covid-19-from-undoing-diversity-gains_   \n",
       "4                                                                                 http___techcrunch.com_2020_07_02_ourpeople_   \n",
       "\n",
       "                                                                                                    title  \\\n",
       "0                             Website builder Wix acquires art community DeviantArt for $36M – TechCrunch   \n",
       "1  Festo’s latest biomimetic robots are a flying feathered bird and ball-bottomed helper arm – TechCrunch   \n",
       "2           Growth capital investor Kennet raises $250M fund, backed by Edmond de Rothschild – TechCrunch   \n",
       "3                                           Let’s stop COVID-19 from undoing diversity gains – TechCrunch   \n",
       "4                      OurPeople, the team communication and engagement platform, raises $2M – TechCrunch   \n",
       "\n",
       "                                                                                                                                                                                                                                                                                                                                                                                                                                                                                                                                                                                                                   summary  \\\n",
       "0                                                                                                                                                Wix .com has made another acquisition to build out the tools that it provides to users to build and administer websites: it has acquired DeviantArt, an online community for artists, designers and art/design enthusiasts with some 325 million individual pieces of original art and more than 40 million registered members, for $36 million in cash, including $3 million of assumed liabilities. Updated detail related to DeviantArt’s valuation prior to its sale.   \n",
       "1                                                                                                                   You could be excused for thinking that German robotics company Festo does nothing but put together fabulous prototype robots built to resemble kangaroos, jellyfish, and other living things. They do in fact actually make real industrial robots, but it’s hard not to marvel at their biomimetic experiments; Case in point, the feathered BionicSwift and absurd BionicMobileAssistant motile arm. Of course, it’s silly to criticize such a machine, which is aspirational rather than practical.   \n",
       "2                                                                                                                               Venture capital is “not the only fruit” for entrepreneurs, as the often quieter ‘Growth Capital’ can also see great returns for entrepreneurs who prefer to retain a lot of ownership and control but are also willing to bootstrap over a longer period in order to reach revenues and profits. With the COVID-19 pandemic pushing millions of people online, tech investors of all classes are now reaping the dividends in this accelerated, Coronavirus-powered transition to digital.   \n",
       "3  Any disaster will have its harshest repercussions on people who were already marginalized. This may be the shock to the system that will make business leaders realize that diversity is not an accessory or PR stunt — it is an integral part of the daily lives of each and every member of your team. Today’s consumers and your co-workers demand socially conscious companies, which is why D&I is vital to making any startup a well-rounded business. An important note — helping everyone reach success means giving everyone the resources to do so. How can you change how your industry looks, even in ti...   \n",
       "4                                                                                                                                    OurPeople, the U.K. startup that’s built a team communication and engagement platform for deskless workers, has raised $2 million in Series A funding. The startup primarily works in industries with large numbers of deskless workers, such as fitness and leisure. Furthermore, the OurPeople founder says the platform is different because the startup is not attempting to create a workplace social network “where vital information can get lost in all the typical noise.” “   \n",
       "\n",
       "   good_tldr  \\\n",
       "0      False   \n",
       "1      False   \n",
       "2      False   \n",
       "3      False   \n",
       "4      False   \n",
       "\n",
       "                                                                                                                                                                                                                                                                                                                                                                                                                                                                                                                                                                                                                  all_text  \n",
       "0                                                                    Website builder Wix acquires art community DeviantArt for $36M – TechCrunch Wix .com has made another acquisition to build out the tools that it provides to users to build and administer websites: it has acquired DeviantArt, an online community for artists, designers and art/design enthusiasts with some 325 million individual pieces of original art and more than 40 million registered members, for $36 million in cash, including $3 million of assumed liabilities. Updated detail related to DeviantArt’s valuation prior to its sale.  \n",
       "1            Festo’s latest biomimetic robots are a flying feathered bird and ball-bottomed helper arm – TechCrunch You could be excused for thinking that German robotics company Festo does nothing but put together fabulous prototype robots built to resemble kangaroos, jellyfish, and other living things. They do in fact actually make real industrial robots, but it’s hard not to marvel at their biomimetic experiments; Case in point, the feathered BionicSwift and absurd BionicMobileAssistant motile arm. Of course, it’s silly to criticize such a machine, which is aspirational rather than practical.  \n",
       "2                                 Growth capital investor Kennet raises $250M fund, backed by Edmond de Rothschild – TechCrunch Venture capital is “not the only fruit” for entrepreneurs, as the often quieter ‘Growth Capital’ can also see great returns for entrepreneurs who prefer to retain a lot of ownership and control but are also willing to bootstrap over a longer period in order to reach revenues and profits. With the COVID-19 pandemic pushing millions of people online, tech investors of all classes are now reaping the dividends in this accelerated, Coronavirus-powered transition to digital.  \n",
       "3  Let’s stop COVID-19 from undoing diversity gains – TechCrunch Any disaster will have its harshest repercussions on people who were already marginalized. This may be the shock to the system that will make business leaders realize that diversity is not an accessory or PR stunt — it is an integral part of the daily lives of each and every member of your team. Today’s consumers and your co-workers demand socially conscious companies, which is why D&I is vital to making any startup a well-rounded business. An important note — helping everyone reach success means giving everyone the resources to...  \n",
       "4                                                 OurPeople, the team communication and engagement platform, raises $2M – TechCrunch OurPeople, the U.K. startup that’s built a team communication and engagement platform for deskless workers, has raised $2 million in Series A funding. The startup primarily works in industries with large numbers of deskless workers, such as fitness and leisure. Furthermore, the OurPeople founder says the platform is different because the startup is not attempting to create a workplace social network “where vital information can get lost in all the typical noise.” “  "
      ]
     },
     "execution_count": 3,
     "metadata": {},
     "output_type": "execute_result"
    }
   ],
   "source": [
    "data['all_text'] = data.title.astype(str).str.cat(data.summary.astype(str), sep=' ')\n",
    "data.head()"
   ]
  },
  {
   "cell_type": "code",
   "execution_count": 4,
   "metadata": {},
   "outputs": [
    {
     "data": {
      "text/html": [
       "<div>\n",
       "<style scoped>\n",
       "    .dataframe tbody tr th:only-of-type {\n",
       "        vertical-align: middle;\n",
       "    }\n",
       "\n",
       "    .dataframe tbody tr th {\n",
       "        vertical-align: top;\n",
       "    }\n",
       "\n",
       "    .dataframe thead th {\n",
       "        text-align: right;\n",
       "    }\n",
       "</style>\n",
       "<table border=\"1\" class=\"dataframe\">\n",
       "  <thead>\n",
       "    <tr style=\"text-align: right;\">\n",
       "      <th></th>\n",
       "      <th>all_text</th>\n",
       "      <th>good_tldr</th>\n",
       "    </tr>\n",
       "  </thead>\n",
       "  <tbody>\n",
       "    <tr>\n",
       "      <th>0</th>\n",
       "      <td>Website builder Wix acquires art community DeviantArt for $36M – TechCrunch Wix .com has made another acquisition to build out the tools that it provides to users to build and administer websites: it has acquired DeviantArt, an online community for artists, designers and art/design enthusiasts with some 325 million individual pieces of original art and more than 40 million registered members, for $36 million in cash, including $3 million of assumed liabilities. Updated detail related to DeviantArt’s valuation prior to its sale.</td>\n",
       "      <td>False</td>\n",
       "    </tr>\n",
       "    <tr>\n",
       "      <th>1</th>\n",
       "      <td>Festo’s latest biomimetic robots are a flying feathered bird and ball-bottomed helper arm – TechCrunch You could be excused for thinking that German robotics company Festo does nothing but put together fabulous prototype robots built to resemble kangaroos, jellyfish, and other living things. They do in fact actually make real industrial robots, but it’s hard not to marvel at their biomimetic experiments; Case in point, the feathered BionicSwift and absurd BionicMobileAssistant motile arm. Of course, it’s silly to criticize such a machine, which is aspirational rather than practical.</td>\n",
       "      <td>False</td>\n",
       "    </tr>\n",
       "    <tr>\n",
       "      <th>2</th>\n",
       "      <td>Growth capital investor Kennet raises $250M fund, backed by Edmond de Rothschild – TechCrunch Venture capital is “not the only fruit” for entrepreneurs, as the often quieter ‘Growth Capital’ can also see great returns for entrepreneurs who prefer to retain a lot of ownership and control but are also willing to bootstrap over a longer period in order to reach revenues and profits. With the COVID-19 pandemic pushing millions of people online, tech investors of all classes are now reaping the dividends in this accelerated, Coronavirus-powered transition to digital.</td>\n",
       "      <td>False</td>\n",
       "    </tr>\n",
       "    <tr>\n",
       "      <th>3</th>\n",
       "      <td>Let’s stop COVID-19 from undoing diversity gains – TechCrunch Any disaster will have its harshest repercussions on people who were already marginalized. This may be the shock to the system that will make business leaders realize that diversity is not an accessory or PR stunt — it is an integral part of the daily lives of each and every member of your team. Today’s consumers and your co-workers demand socially conscious companies, which is why D&amp;I is vital to making any startup a well-rounded business. An important note — helping everyone reach success means giving everyone the resources to...</td>\n",
       "      <td>False</td>\n",
       "    </tr>\n",
       "    <tr>\n",
       "      <th>4</th>\n",
       "      <td>OurPeople, the team communication and engagement platform, raises $2M – TechCrunch OurPeople, the U.K. startup that’s built a team communication and engagement platform for deskless workers, has raised $2 million in Series A funding. The startup primarily works in industries with large numbers of deskless workers, such as fitness and leisure. Furthermore, the OurPeople founder says the platform is different because the startup is not attempting to create a workplace social network “where vital information can get lost in all the typical noise.” “</td>\n",
       "      <td>False</td>\n",
       "    </tr>\n",
       "  </tbody>\n",
       "</table>\n",
       "</div>"
      ],
      "text/plain": [
       "                                                                                                                                                                                                                                                                                                                                                                                                                                                                                                                                                                                                                  all_text  \\\n",
       "0                                                                    Website builder Wix acquires art community DeviantArt for $36M – TechCrunch Wix .com has made another acquisition to build out the tools that it provides to users to build and administer websites: it has acquired DeviantArt, an online community for artists, designers and art/design enthusiasts with some 325 million individual pieces of original art and more than 40 million registered members, for $36 million in cash, including $3 million of assumed liabilities. Updated detail related to DeviantArt’s valuation prior to its sale.   \n",
       "1            Festo’s latest biomimetic robots are a flying feathered bird and ball-bottomed helper arm – TechCrunch You could be excused for thinking that German robotics company Festo does nothing but put together fabulous prototype robots built to resemble kangaroos, jellyfish, and other living things. They do in fact actually make real industrial robots, but it’s hard not to marvel at their biomimetic experiments; Case in point, the feathered BionicSwift and absurd BionicMobileAssistant motile arm. Of course, it’s silly to criticize such a machine, which is aspirational rather than practical.   \n",
       "2                                 Growth capital investor Kennet raises $250M fund, backed by Edmond de Rothschild – TechCrunch Venture capital is “not the only fruit” for entrepreneurs, as the often quieter ‘Growth Capital’ can also see great returns for entrepreneurs who prefer to retain a lot of ownership and control but are also willing to bootstrap over a longer period in order to reach revenues and profits. With the COVID-19 pandemic pushing millions of people online, tech investors of all classes are now reaping the dividends in this accelerated, Coronavirus-powered transition to digital.   \n",
       "3  Let’s stop COVID-19 from undoing diversity gains – TechCrunch Any disaster will have its harshest repercussions on people who were already marginalized. This may be the shock to the system that will make business leaders realize that diversity is not an accessory or PR stunt — it is an integral part of the daily lives of each and every member of your team. Today’s consumers and your co-workers demand socially conscious companies, which is why D&I is vital to making any startup a well-rounded business. An important note — helping everyone reach success means giving everyone the resources to...   \n",
       "4                                                 OurPeople, the team communication and engagement platform, raises $2M – TechCrunch OurPeople, the U.K. startup that’s built a team communication and engagement platform for deskless workers, has raised $2 million in Series A funding. The startup primarily works in industries with large numbers of deskless workers, such as fitness and leisure. Furthermore, the OurPeople founder says the platform is different because the startup is not attempting to create a workplace social network “where vital information can get lost in all the typical noise.” “   \n",
       "\n",
       "   good_tldr  \n",
       "0      False  \n",
       "1      False  \n",
       "2      False  \n",
       "3      False  \n",
       "4      False  "
      ]
     },
     "execution_count": 4,
     "metadata": {},
     "output_type": "execute_result"
    }
   ],
   "source": [
    "combined_text_data = data[['all_text', 'good_tldr']]\n",
    "combined_text_data.head()"
   ]
  },
  {
   "cell_type": "code",
   "execution_count": 5,
   "metadata": {},
   "outputs": [
    {
     "data": {
      "text/html": [
       "<div>\n",
       "<style scoped>\n",
       "    .dataframe tbody tr th:only-of-type {\n",
       "        vertical-align: middle;\n",
       "    }\n",
       "\n",
       "    .dataframe tbody tr th {\n",
       "        vertical-align: top;\n",
       "    }\n",
       "\n",
       "    .dataframe thead th {\n",
       "        text-align: right;\n",
       "    }\n",
       "</style>\n",
       "<table border=\"1\" class=\"dataframe\">\n",
       "  <thead>\n",
       "    <tr style=\"text-align: right;\">\n",
       "      <th></th>\n",
       "      <th>title</th>\n",
       "      <th>good_tldr</th>\n",
       "    </tr>\n",
       "  </thead>\n",
       "  <tbody>\n",
       "    <tr>\n",
       "      <th>0</th>\n",
       "      <td>Website builder Wix acquires art community DeviantArt for $36M – TechCrunch</td>\n",
       "      <td>False</td>\n",
       "    </tr>\n",
       "    <tr>\n",
       "      <th>1</th>\n",
       "      <td>Festo’s latest biomimetic robots are a flying feathered bird and ball-bottomed helper arm – TechCrunch</td>\n",
       "      <td>False</td>\n",
       "    </tr>\n",
       "    <tr>\n",
       "      <th>2</th>\n",
       "      <td>Growth capital investor Kennet raises $250M fund, backed by Edmond de Rothschild – TechCrunch</td>\n",
       "      <td>False</td>\n",
       "    </tr>\n",
       "    <tr>\n",
       "      <th>3</th>\n",
       "      <td>Let’s stop COVID-19 from undoing diversity gains – TechCrunch</td>\n",
       "      <td>False</td>\n",
       "    </tr>\n",
       "    <tr>\n",
       "      <th>4</th>\n",
       "      <td>OurPeople, the team communication and engagement platform, raises $2M – TechCrunch</td>\n",
       "      <td>False</td>\n",
       "    </tr>\n",
       "  </tbody>\n",
       "</table>\n",
       "</div>"
      ],
      "text/plain": [
       "                                                                                                    title  \\\n",
       "0                             Website builder Wix acquires art community DeviantArt for $36M – TechCrunch   \n",
       "1  Festo’s latest biomimetic robots are a flying feathered bird and ball-bottomed helper arm – TechCrunch   \n",
       "2           Growth capital investor Kennet raises $250M fund, backed by Edmond de Rothschild – TechCrunch   \n",
       "3                                           Let’s stop COVID-19 from undoing diversity gains – TechCrunch   \n",
       "4                      OurPeople, the team communication and engagement platform, raises $2M – TechCrunch   \n",
       "\n",
       "   good_tldr  \n",
       "0      False  \n",
       "1      False  \n",
       "2      False  \n",
       "3      False  \n",
       "4      False  "
      ]
     },
     "execution_count": 5,
     "metadata": {},
     "output_type": "execute_result"
    }
   ],
   "source": [
    "title_text_data = data[['title', 'good_tldr']]\n",
    "title_text_data.head()"
   ]
  },
  {
   "cell_type": "code",
   "execution_count": 6,
   "metadata": {},
   "outputs": [
    {
     "data": {
      "text/html": [
       "<div>\n",
       "<style scoped>\n",
       "    .dataframe tbody tr th:only-of-type {\n",
       "        vertical-align: middle;\n",
       "    }\n",
       "\n",
       "    .dataframe tbody tr th {\n",
       "        vertical-align: top;\n",
       "    }\n",
       "\n",
       "    .dataframe thead th {\n",
       "        text-align: right;\n",
       "    }\n",
       "</style>\n",
       "<table border=\"1\" class=\"dataframe\">\n",
       "  <thead>\n",
       "    <tr style=\"text-align: right;\">\n",
       "      <th></th>\n",
       "      <th>summary</th>\n",
       "      <th>good_tldr</th>\n",
       "    </tr>\n",
       "  </thead>\n",
       "  <tbody>\n",
       "    <tr>\n",
       "      <th>0</th>\n",
       "      <td>Wix .com has made another acquisition to build out the tools that it provides to users to build and administer websites: it has acquired DeviantArt, an online community for artists, designers and art/design enthusiasts with some 325 million individual pieces of original art and more than 40 million registered members, for $36 million in cash, including $3 million of assumed liabilities. Updated detail related to DeviantArt’s valuation prior to its sale.</td>\n",
       "      <td>False</td>\n",
       "    </tr>\n",
       "    <tr>\n",
       "      <th>1</th>\n",
       "      <td>You could be excused for thinking that German robotics company Festo does nothing but put together fabulous prototype robots built to resemble kangaroos, jellyfish, and other living things. They do in fact actually make real industrial robots, but it’s hard not to marvel at their biomimetic experiments; Case in point, the feathered BionicSwift and absurd BionicMobileAssistant motile arm. Of course, it’s silly to criticize such a machine, which is aspirational rather than practical.</td>\n",
       "      <td>False</td>\n",
       "    </tr>\n",
       "    <tr>\n",
       "      <th>2</th>\n",
       "      <td>Venture capital is “not the only fruit” for entrepreneurs, as the often quieter ‘Growth Capital’ can also see great returns for entrepreneurs who prefer to retain a lot of ownership and control but are also willing to bootstrap over a longer period in order to reach revenues and profits. With the COVID-19 pandemic pushing millions of people online, tech investors of all classes are now reaping the dividends in this accelerated, Coronavirus-powered transition to digital.</td>\n",
       "      <td>False</td>\n",
       "    </tr>\n",
       "    <tr>\n",
       "      <th>3</th>\n",
       "      <td>Any disaster will have its harshest repercussions on people who were already marginalized. This may be the shock to the system that will make business leaders realize that diversity is not an accessory or PR stunt — it is an integral part of the daily lives of each and every member of your team. Today’s consumers and your co-workers demand socially conscious companies, which is why D&amp;I is vital to making any startup a well-rounded business. An important note — helping everyone reach success means giving everyone the resources to do so. How can you change how your industry looks, even in ti...</td>\n",
       "      <td>False</td>\n",
       "    </tr>\n",
       "    <tr>\n",
       "      <th>4</th>\n",
       "      <td>OurPeople, the U.K. startup that’s built a team communication and engagement platform for deskless workers, has raised $2 million in Series A funding. The startup primarily works in industries with large numbers of deskless workers, such as fitness and leisure. Furthermore, the OurPeople founder says the platform is different because the startup is not attempting to create a workplace social network “where vital information can get lost in all the typical noise.” “</td>\n",
       "      <td>False</td>\n",
       "    </tr>\n",
       "  </tbody>\n",
       "</table>\n",
       "</div>"
      ],
      "text/plain": [
       "                                                                                                                                                                                                                                                                                                                                                                                                                                                                                                                                                                                                                   summary  \\\n",
       "0                                                                                                                                                Wix .com has made another acquisition to build out the tools that it provides to users to build and administer websites: it has acquired DeviantArt, an online community for artists, designers and art/design enthusiasts with some 325 million individual pieces of original art and more than 40 million registered members, for $36 million in cash, including $3 million of assumed liabilities. Updated detail related to DeviantArt’s valuation prior to its sale.   \n",
       "1                                                                                                                   You could be excused for thinking that German robotics company Festo does nothing but put together fabulous prototype robots built to resemble kangaroos, jellyfish, and other living things. They do in fact actually make real industrial robots, but it’s hard not to marvel at their biomimetic experiments; Case in point, the feathered BionicSwift and absurd BionicMobileAssistant motile arm. Of course, it’s silly to criticize such a machine, which is aspirational rather than practical.   \n",
       "2                                                                                                                               Venture capital is “not the only fruit” for entrepreneurs, as the often quieter ‘Growth Capital’ can also see great returns for entrepreneurs who prefer to retain a lot of ownership and control but are also willing to bootstrap over a longer period in order to reach revenues and profits. With the COVID-19 pandemic pushing millions of people online, tech investors of all classes are now reaping the dividends in this accelerated, Coronavirus-powered transition to digital.   \n",
       "3  Any disaster will have its harshest repercussions on people who were already marginalized. This may be the shock to the system that will make business leaders realize that diversity is not an accessory or PR stunt — it is an integral part of the daily lives of each and every member of your team. Today’s consumers and your co-workers demand socially conscious companies, which is why D&I is vital to making any startup a well-rounded business. An important note — helping everyone reach success means giving everyone the resources to do so. How can you change how your industry looks, even in ti...   \n",
       "4                                                                                                                                    OurPeople, the U.K. startup that’s built a team communication and engagement platform for deskless workers, has raised $2 million in Series A funding. The startup primarily works in industries with large numbers of deskless workers, such as fitness and leisure. Furthermore, the OurPeople founder says the platform is different because the startup is not attempting to create a workplace social network “where vital information can get lost in all the typical noise.” “   \n",
       "\n",
       "   good_tldr  \n",
       "0      False  \n",
       "1      False  \n",
       "2      False  \n",
       "3      False  \n",
       "4      False  "
      ]
     },
     "execution_count": 6,
     "metadata": {},
     "output_type": "execute_result"
    }
   ],
   "source": [
    "summary_text_data = data[['summary', 'good_tldr']]\n",
    "summary_text_data.head()"
   ]
  },
  {
   "cell_type": "code",
   "execution_count": 7,
   "metadata": {},
   "outputs": [],
   "source": [
    "def train_language_model(df, name):\n",
    "    dls_lm = TextDataLoaders.from_df(df, is_lm=True, valid_pct=0.1)\n",
    "    dls_lm.show_batch()\n",
    "    \n",
    "    learn = language_model_learner(dls_lm, AWD_LSTM, metrics=[accuracy, Perplexity()], wd=0.1)\n",
    "    \n",
    "    learn.fit_one_cycle(1, 1e-2)\n",
    "    learn.unfreeze()\n",
    "    learn.fit_one_cycle(10, 1e-3)\n",
    "    \n",
    "    learn.save_encoder(name)\n",
    "    \n",
    "    return learn, dls_lm"
   ]
  },
  {
   "cell_type": "code",
   "execution_count": 8,
   "metadata": {},
   "outputs": [],
   "source": [
    "# Building a language model for summary and title combined"
   ]
  },
  {
   "cell_type": "code",
   "execution_count": 9,
   "metadata": {},
   "outputs": [
    {
     "data": {
      "text/html": [],
      "text/plain": [
       "<IPython.core.display.HTML object>"
      ]
     },
     "metadata": {},
     "output_type": "display_data"
    },
    {
     "data": {
      "text/html": [
       "<table border=\"1\" class=\"dataframe\">\n",
       "  <thead>\n",
       "    <tr style=\"text-align: right;\">\n",
       "      <th></th>\n",
       "      <th>text</th>\n",
       "      <th>text_</th>\n",
       "    </tr>\n",
       "  </thead>\n",
       "  <tbody>\n",
       "    <tr>\n",
       "      <th>0</th>\n",
       "      <td>xxbos xxmaj lamborghini ’s xxmaj xxunk xxmaj evo xxup xxunk is made for maximum fun , not lap times xxwrep 8 xxmaj lamborghini \" hang back for a second so i can show you the course , \" xxmaj dean xxunk says over the radio as we approach the xxunk pad in a pair of xxunk ( xxunk ) , xxmaj xxunk - colored xxmaj xxunk . xxmaj although the xxmaj xxunk</td>\n",
       "      <td>xxmaj lamborghini ’s xxmaj xxunk xxmaj evo xxup xxunk is made for maximum fun , not lap times xxwrep 8 xxmaj lamborghini \" hang back for a second so i can show you the course , \" xxmaj dean xxunk says over the radio as we approach the xxunk pad in a pair of xxunk ( xxunk ) , xxmaj xxunk - colored xxmaj xxunk . xxmaj although the xxmaj xxunk has</td>\n",
       "    </tr>\n",
       "    <tr>\n",
       "      <th>1</th>\n",
       "      <td>to make sure they can see the extent of what the gamers can do , xxunk can change teams and mix them up to have the players compete with and against each other . xxbos xxmaj facebook is threatening a massive news - sharing ban on its platforms in xxmaj australia [ updated ] xxmaj social media giant xxmaj facebook has come out against proposed xxmaj australian media laws , xxunk a</td>\n",
       "      <td>make sure they can see the extent of what the gamers can do , xxunk can change teams and mix them up to have the players compete with and against each other . xxbos xxmaj facebook is threatening a massive news - sharing ban on its platforms in xxmaj australia [ updated ] xxmaj social media giant xxmaj facebook has come out against proposed xxmaj australian media laws , xxunk a statement</td>\n",
       "    </tr>\n",
       "    <tr>\n",
       "      <th>2</th>\n",
       "      <td>window , xxmaj microsoft has recently narrowed down the xxmaj xbox xxmaj series x launch to xxmaj november — which ties in nicely with this new xxunk . xxbos xxmaj the best ultraportable laptops you can buy xxmaj what to expect xxmaj the first thing to remember is that the term “ ultraportable ” is xxunk . xxmaj we at xxmaj engadget define an ultraportable laptop as one that weighs less than</td>\n",
       "      <td>, xxmaj microsoft has recently narrowed down the xxmaj xbox xxmaj series x launch to xxmaj november — which ties in nicely with this new xxunk . xxbos xxmaj the best ultraportable laptops you can buy xxmaj what to expect xxmaj the first thing to remember is that the term “ ultraportable ” is xxunk . xxmaj we at xxmaj engadget define an ultraportable laptop as one that weighs less than three</td>\n",
       "    </tr>\n",
       "    <tr>\n",
       "      <th>3</th>\n",
       "      <td>xxmaj india is banning another xxunk apps said to be either based in or linked to xxmaj china . xxup pubg xxmaj mobile , which is made by the xxunk xxmaj chinese tech giant xxmaj tencent , is said to be one of the country ’s biggest games . xxbos viewsonic announces two premium projectors in xxmaj india viewsonic has announced two new premium and advanced lamp - free projectors in xxmaj</td>\n",
       "      <td>india is banning another xxunk apps said to be either based in or linked to xxmaj china . xxup pubg xxmaj mobile , which is made by the xxunk xxmaj chinese tech giant xxmaj tencent , is said to be one of the country ’s biggest games . xxbos viewsonic announces two premium projectors in xxmaj india viewsonic has announced two new premium and advanced lamp - free projectors in xxmaj india</td>\n",
       "    </tr>\n",
       "    <tr>\n",
       "      <th>4</th>\n",
       "      <td>has been in the press lately , after building a hardware solution in mind for today ’s remote workers who need video xxunk . xxbos xxmaj zoom is working again , even if you ’re not xxmaj videoconferencing giant xxmaj zoom experienced widespread outages this morning , with users in the xxup us and xxup uk reporting problems joining video calls , but service has now been restored . https : /</td>\n",
       "      <td>been in the press lately , after building a hardware solution in mind for today ’s remote workers who need video xxunk . xxbos xxmaj zoom is working again , even if you ’re not xxmaj videoconferencing giant xxmaj zoom experienced widespread outages this morning , with users in the xxup us and xxup uk reporting problems joining video calls , but service has now been restored . https : / /</td>\n",
       "    </tr>\n",
       "    <tr>\n",
       "      <th>5</th>\n",
       "      <td>yet to settle terms on the deal . xxmaj right before the proposed xxmaj september 20 deadline for the app bans , xxmaj china ’s xxmaj commerce xxmaj ministry called on the xxup u.s . to “ give up its bullying acts ” towards the video app and messenger or face xxmaj beijing ’s xxunk to “ safeguard the legitimate rights and interests of xxmaj chinese companies . ” xxbos xxmaj intel</td>\n",
       "      <td>to settle terms on the deal . xxmaj right before the proposed xxmaj september 20 deadline for the app bans , xxmaj china ’s xxmaj commerce xxmaj ministry called on the xxup u.s . to “ give up its bullying acts ” towards the video app and messenger or face xxmaj beijing ’s xxunk to “ safeguard the legitimate rights and interests of xxmaj chinese companies . ” xxbos xxmaj intel ’s</td>\n",
       "    </tr>\n",
       "    <tr>\n",
       "      <th>6</th>\n",
       "      <td>straight ( xxunk - xxunk - queen ) . xxmaj postle spent half a minute in quiet xxunk , almost xxunk in his black leather chair . xxbos nan nan xxbos xxmaj instagram 's handling of children 's data xxunk xxup eu investigation “ instagram is a social media platform which is used widely by children in xxmaj ireland and across xxmaj europe , ” said xxup xxunk deputy commissioner xxmaj graham</td>\n",
       "      <td>( xxunk - xxunk - queen ) . xxmaj postle spent half a minute in quiet xxunk , almost xxunk in his black leather chair . xxbos nan nan xxbos xxmaj instagram 's handling of children 's data xxunk xxup eu investigation “ instagram is a social media platform which is used widely by children in xxmaj ireland and across xxmaj europe , ” said xxup xxunk deputy commissioner xxmaj graham xxmaj</td>\n",
       "    </tr>\n",
       "    <tr>\n",
       "      <th>7</th>\n",
       "      <td>include with a tweet , to more users on ios . xxmaj but perhaps more significantly , xxmaj twitter is now saying it plans to add xxunk to voice tweets to improve xxunk , which could help address xxunk from the feature ’s xxmaj june 17th launch . xxbos xxmaj here 's how much money xxmaj google lost as a result of this week 's blackout xxmaj this week saw a massive</td>\n",
       "      <td>with a tweet , to more users on ios . xxmaj but perhaps more significantly , xxmaj twitter is now saying it plans to add xxunk to voice tweets to improve xxunk , which could help address xxunk from the feature ’s xxmaj june 17th launch . xxbos xxmaj here 's how much money xxmaj google lost as a result of this week 's blackout xxmaj this week saw a massive xxmaj</td>\n",
       "    </tr>\n",
       "    <tr>\n",
       "      <th>8</th>\n",
       "      <td>xxmaj lenovo xxmaj mac xxmaj pro killer xxunk its xxmaj apple workstation rival xxmaj lenovo xxunk xxup xxunk - $ xxunk direct ( roughly £ 1,400 ) xxmaj with coupon code xxup xxunk , you can xxunk the price of this mighty xxmaj lenovo workstation . xxbos xxmaj poco xxup x3 confirmed to launch on xxmaj september 7 globally xxmaj poco xxup x3 will be unveiled globally on xxmaj september 7 .</td>\n",
       "      <td>lenovo xxmaj mac xxmaj pro killer xxunk its xxmaj apple workstation rival xxmaj lenovo xxunk xxup xxunk - $ xxunk direct ( roughly £ 1,400 ) xxmaj with coupon code xxup xxunk , you can xxunk the price of this mighty xxmaj lenovo workstation . xxbos xxmaj poco xxup x3 confirmed to launch on xxmaj september 7 globally xxmaj poco xxup x3 will be unveiled globally on xxmaj september 7 . xxmaj</td>\n",
       "    </tr>\n",
       "  </tbody>\n",
       "</table>"
      ],
      "text/plain": [
       "<IPython.core.display.HTML object>"
      ]
     },
     "metadata": {},
     "output_type": "display_data"
    }
   ],
   "source": [
    "learn_all_text, dls_lm_all = train_language_model(combined_text_data, 'all-text-lang-model')"
   ]
  },
  {
   "cell_type": "code",
   "execution_count": 60,
   "metadata": {},
   "outputs": [
    {
     "data": {
      "text/html": [],
      "text/plain": [
       "<IPython.core.display.HTML object>"
      ]
     },
     "metadata": {},
     "output_type": "display_data"
    },
    {
     "data": {
      "text/html": [
       "<table border=\"1\" class=\"dataframe\">\n",
       "  <thead>\n",
       "    <tr style=\"text-align: right;\">\n",
       "      <th></th>\n",
       "      <th>text</th>\n",
       "      <th>text_</th>\n",
       "    </tr>\n",
       "  </thead>\n",
       "  <tbody>\n",
       "    <tr>\n",
       "      <th>0</th>\n",
       "      <td>xxbos xxup xxunk xxmaj actually xxmaj xxunk xxmaj us xxmaj with xxmaj the xxup xxunk xxmaj and xxup xxunk xxmaj xxunk xxbos xxmaj xxunk 's xxmaj gen 5 xxmaj xxunk xxup xxunk xxunk are about to get a major update xxbos xxmaj programming language xxmaj go : xxmaj microsoft hands xxup vs xxmaj code xxmaj go xxunk to xxmaj google 's xxmaj go team xxbos xxmaj xxunk turns your xxunk xxmaj zoom</td>\n",
       "      <td>xxup xxunk xxmaj actually xxmaj xxunk xxmaj us xxmaj with xxmaj the xxup xxunk xxmaj and xxup xxunk xxmaj xxunk xxbos xxmaj xxunk 's xxmaj gen 5 xxmaj xxunk xxup xxunk xxunk are about to get a major update xxbos xxmaj programming language xxmaj go : xxmaj microsoft hands xxup vs xxmaj code xxmaj go xxunk to xxmaj google 's xxmaj go team xxbos xxmaj xxunk turns your xxunk xxmaj zoom call</td>\n",
       "    </tr>\n",
       "    <tr>\n",
       "      <th>1</th>\n",
       "      <td>xxunk xxbos xxmaj the xxmaj xxunk rover is our best xxunk for xxunk life on xxmaj mars xxbos xxmaj xxunk data startup xxmaj xxunk has xxunk filed for an xxup ipo – techcrunch xxbos xxmaj former xxmaj intel xxmaj engineer xxmaj xxunk xxmaj why xxmaj apple xxmaj xxunk to xxup arm xxbos xxmaj horizon xxmaj zero xxmaj dawn xxup pc prices xxunk due to people xxunk xxunk xxbos xxmaj government set to</td>\n",
       "      <td>xxbos xxmaj the xxmaj xxunk rover is our best xxunk for xxunk life on xxmaj mars xxbos xxmaj xxunk data startup xxmaj xxunk has xxunk filed for an xxup ipo – techcrunch xxbos xxmaj former xxmaj intel xxmaj engineer xxmaj xxunk xxmaj why xxmaj apple xxmaj xxunk to xxup arm xxbos xxmaj horizon xxmaj zero xxmaj dawn xxup pc prices xxunk due to people xxunk xxunk xxbos xxmaj government set to ban</td>\n",
       "    </tr>\n",
       "    <tr>\n",
       "      <th>2</th>\n",
       "      <td>to watch next xxbos xxmaj satoshi xxmaj nakaboto : ‘ xxunk xxunk xxmaj bitcoin to rally up to 200 % in the coming xxunk ’ xxbos i xxunk to a xxmaj microsoft xxmaj store and all i xxunk was xxmaj apple xxunk xxbos xxmaj xxunk xxmaj mode xxmaj may xxmaj not xxmaj work the xxmaj way xxmaj you xxmaj think xxmaj it xxmaj does xxbos xxmaj how to xxmaj watch xxup hbo</td>\n",
       "      <td>watch next xxbos xxmaj satoshi xxmaj nakaboto : ‘ xxunk xxunk xxmaj bitcoin to rally up to 200 % in the coming xxunk ’ xxbos i xxunk to a xxmaj microsoft xxmaj store and all i xxunk was xxmaj apple xxunk xxbos xxmaj xxunk xxmaj mode xxmaj may xxmaj not xxmaj work the xxmaj way xxmaj you xxmaj think xxmaj it xxmaj does xxbos xxmaj how to xxmaj watch xxup hbo xxmaj</td>\n",
       "    </tr>\n",
       "    <tr>\n",
       "      <th>3</th>\n",
       "      <td>a xxunk - xxunk xxbos xxmaj show xxup hn : xxmaj i xxunk xxunk ( software ) xxunk xxunk for 5 $ xxbos xxmaj samsung xxmaj galaxy xxmaj xxunk with massive battery to launch on xxmaj july 30 xxbos xxmaj microsoft xxmaj australia xxunk its xxunk - new xxmaj surface xxmaj xxunk 3 for one weekend only xxbos xxmaj elon xxmaj musk ’s xxmaj public xxmaj xxunk xxmaj against xxmaj bill xxmaj</td>\n",
       "      <td>xxunk - xxunk xxbos xxmaj show xxup hn : xxmaj i xxunk xxunk ( software ) xxunk xxunk for 5 $ xxbos xxmaj samsung xxmaj galaxy xxmaj xxunk with massive battery to launch on xxmaj july 30 xxbos xxmaj microsoft xxmaj australia xxunk its xxunk - new xxmaj surface xxmaj xxunk 3 for one weekend only xxbos xxmaj elon xxmaj musk ’s xxmaj public xxmaj xxunk xxmaj against xxmaj bill xxmaj xxunk</td>\n",
       "    </tr>\n",
       "    <tr>\n",
       "      <th>4</th>\n",
       "      <td>$ xxunk m for its xxunk , xxunk xxunk insurance platform – techcrunch xxbos xxmaj ghost of xxmaj tsushima xxmaj game xxmaj xxunk xxmaj xxunk by xxmaj xxunk , xxunk , xxmaj more xxbos xxmaj the xxmaj galaxy xxmaj note 20 xxmaj ultra is xxmaj samsung ’s new xxunk xxunk xxbos xxmaj super xxmaj smash xxmaj bros . xxmaj ultimate xxbos xxmaj silicon xxmaj valley is built on xxunk xxunk – techcrunch</td>\n",
       "      <td>xxunk m for its xxunk , xxunk xxunk insurance platform – techcrunch xxbos xxmaj ghost of xxmaj tsushima xxmaj game xxmaj xxunk xxmaj xxunk by xxmaj xxunk , xxunk , xxmaj more xxbos xxmaj the xxmaj galaxy xxmaj note 20 xxmaj ultra is xxmaj samsung ’s new xxunk xxunk xxbos xxmaj super xxmaj smash xxmaj bros . xxmaj ultimate xxbos xxmaj silicon xxmaj valley is built on xxunk xxunk – techcrunch xxbos</td>\n",
       "    </tr>\n",
       "    <tr>\n",
       "      <th>5</th>\n",
       "      <td>- in xxunk xxbos xxmaj what is xxunk ? xxmaj the new camera xxunk card xxunk xxunk xxbos xxmaj the xxup xxunk will xxunk xxunk xxunk xxunk in xxunk this year xxbos xxmaj apple : ios games need xxunk review , which xxunk cloud gaming apps xxbos xxmaj animal xxmaj crossing fans get real about the xxunk xxunk xxbos xxmaj why xxmaj xxunk xxmaj xxunk to xxmaj stop xxmaj xxunk xxmaj xxunk</td>\n",
       "      <td>in xxunk xxbos xxmaj what is xxunk ? xxmaj the new camera xxunk card xxunk xxunk xxbos xxmaj the xxup xxunk will xxunk xxunk xxunk xxunk in xxunk this year xxbos xxmaj apple : ios games need xxunk review , which xxunk cloud gaming apps xxbos xxmaj animal xxmaj crossing fans get real about the xxunk xxunk xxbos xxmaj why xxmaj xxunk xxmaj xxunk to xxmaj stop xxmaj xxunk xxmaj xxunk a</td>\n",
       "    </tr>\n",
       "    <tr>\n",
       "      <th>6</th>\n",
       "      <td>content xxbos xxmaj intel 's xxmaj first xxmaj graphics xxmaj card xxmaj based on xxmaj xxunk xxup xxunk xxup gpu xxmaj gets xxmaj xxunk xxbos xxmaj show xxup hn : xxunk a weekend “ xxunk ” the xxup ui of whatsapp , xxunk xxunk two xxunk xxbos xxmaj google is xxunk xxunk xxmaj play xxmaj music xxunk into xxmaj play xxmaj store xxunk xxbos xxmaj what xxmaj if xxmaj trump ’s tiktok</td>\n",
       "      <td>xxbos xxmaj intel 's xxmaj first xxmaj graphics xxmaj card xxmaj based on xxmaj xxunk xxup xxunk xxup gpu xxmaj gets xxmaj xxunk xxbos xxmaj show xxup hn : xxunk a weekend “ xxunk ” the xxup ui of whatsapp , xxunk xxunk two xxunk xxbos xxmaj google is xxunk xxunk xxmaj play xxmaj music xxunk into xxmaj play xxmaj store xxunk xxbos xxmaj what xxmaj if xxmaj trump ’s tiktok xxmaj</td>\n",
       "    </tr>\n",
       "    <tr>\n",
       "      <th>7</th>\n",
       "      <td>xxbos xxmaj xxunk introduces the xxunk xxmaj xxunk to replace its xxunk xxmaj xxunk e - xxunk – techcrunch xxbos xxmaj this $ 500 xxmaj xxunk xxmaj xxunk arcade xxunk has 50 built - in games xxbos xxmaj xxunk xxunk startup xxmaj xxunk launches its air - xxunk xxunk alternative – techcrunch xxbos ios game sale offers xxunk on ' xxunk , ' ' xxunk ' and ' xxunk xxmaj country '</td>\n",
       "      <td>xxmaj xxunk introduces the xxunk xxmaj xxunk to replace its xxunk xxmaj xxunk e - xxunk – techcrunch xxbos xxmaj this $ 500 xxmaj xxunk xxmaj xxunk arcade xxunk has 50 built - in games xxbos xxmaj xxunk xxunk startup xxmaj xxunk launches its air - xxunk xxunk alternative – techcrunch xxbos ios game sale offers xxunk on ' xxunk , ' ' xxunk ' and ' xxunk xxmaj country ' xxbos</td>\n",
       "    </tr>\n",
       "    <tr>\n",
       "      <th>8</th>\n",
       "      <td>xxmaj to xxmaj work xxmaj so xxmaj much xxbos xxmaj weekend xxunk : xxmaj do you use an iphone or ipad ? xxbos xxmaj after xxunk years , xxmaj xxunk still xxunk and xxunk it can open xxunk of career xxunk xxbos xxmaj xxunk or no xxunk ? xxmaj xxunk for virtual job xxunk from home xxbos xxmaj rocket xxmaj lab will xxunk launches no xxunk than xxmaj august xxunk xxbos youtube</td>\n",
       "      <td>to xxmaj work xxmaj so xxmaj much xxbos xxmaj weekend xxunk : xxmaj do you use an iphone or ipad ? xxbos xxmaj after xxunk years , xxmaj xxunk still xxunk and xxunk it can open xxunk of career xxunk xxbos xxmaj xxunk or no xxunk ? xxmaj xxunk for virtual job xxunk from home xxbos xxmaj rocket xxmaj lab will xxunk launches no xxunk than xxmaj august xxunk xxbos youtube xxbos</td>\n",
       "    </tr>\n",
       "  </tbody>\n",
       "</table>"
      ],
      "text/plain": [
       "<IPython.core.display.HTML object>"
      ]
     },
     "metadata": {},
     "output_type": "display_data"
    },
    {
     "data": {
      "text/html": [
       "<table border=\"1\" class=\"dataframe\">\n",
       "  <thead>\n",
       "    <tr style=\"text-align: left;\">\n",
       "      <th>epoch</th>\n",
       "      <th>train_loss</th>\n",
       "      <th>valid_loss</th>\n",
       "      <th>accuracy</th>\n",
       "      <th>perplexity</th>\n",
       "      <th>time</th>\n",
       "    </tr>\n",
       "  </thead>\n",
       "  <tbody>\n",
       "    <tr>\n",
       "      <td>0</td>\n",
       "      <td>5.258640</td>\n",
       "      <td>4.625407</td>\n",
       "      <td>0.294118</td>\n",
       "      <td>102.044266</td>\n",
       "      <td>00:37</td>\n",
       "    </tr>\n",
       "  </tbody>\n",
       "</table>"
      ],
      "text/plain": [
       "<IPython.core.display.HTML object>"
      ]
     },
     "metadata": {},
     "output_type": "display_data"
    },
    {
     "data": {
      "text/html": [
       "<table border=\"1\" class=\"dataframe\">\n",
       "  <thead>\n",
       "    <tr style=\"text-align: left;\">\n",
       "      <th>epoch</th>\n",
       "      <th>train_loss</th>\n",
       "      <th>valid_loss</th>\n",
       "      <th>accuracy</th>\n",
       "      <th>perplexity</th>\n",
       "      <th>time</th>\n",
       "    </tr>\n",
       "  </thead>\n",
       "  <tbody>\n",
       "    <tr>\n",
       "      <td>0</td>\n",
       "      <td>4.831838</td>\n",
       "      <td>4.218273</td>\n",
       "      <td>0.302849</td>\n",
       "      <td>67.916107</td>\n",
       "      <td>00:55</td>\n",
       "    </tr>\n",
       "    <tr>\n",
       "      <td>1</td>\n",
       "      <td>4.531395</td>\n",
       "      <td>3.922312</td>\n",
       "      <td>0.339154</td>\n",
       "      <td>50.517132</td>\n",
       "      <td>00:54</td>\n",
       "    </tr>\n",
       "    <tr>\n",
       "      <td>2</td>\n",
       "      <td>4.308033</td>\n",
       "      <td>3.670750</td>\n",
       "      <td>0.350184</td>\n",
       "      <td>39.281372</td>\n",
       "      <td>00:54</td>\n",
       "    </tr>\n",
       "    <tr>\n",
       "      <td>3</td>\n",
       "      <td>4.162401</td>\n",
       "      <td>3.559032</td>\n",
       "      <td>0.359375</td>\n",
       "      <td>35.129173</td>\n",
       "      <td>00:54</td>\n",
       "    </tr>\n",
       "    <tr>\n",
       "      <td>4</td>\n",
       "      <td>4.028769</td>\n",
       "      <td>3.512480</td>\n",
       "      <td>0.366728</td>\n",
       "      <td>33.531338</td>\n",
       "      <td>00:54</td>\n",
       "    </tr>\n",
       "    <tr>\n",
       "      <td>5</td>\n",
       "      <td>3.919740</td>\n",
       "      <td>3.469754</td>\n",
       "      <td>0.372702</td>\n",
       "      <td>32.128822</td>\n",
       "      <td>00:55</td>\n",
       "    </tr>\n",
       "    <tr>\n",
       "      <td>6</td>\n",
       "      <td>3.831796</td>\n",
       "      <td>3.453694</td>\n",
       "      <td>0.369026</td>\n",
       "      <td>31.616959</td>\n",
       "      <td>00:55</td>\n",
       "    </tr>\n",
       "    <tr>\n",
       "      <td>7</td>\n",
       "      <td>3.760375</td>\n",
       "      <td>3.442563</td>\n",
       "      <td>0.373162</td>\n",
       "      <td>31.266994</td>\n",
       "      <td>00:55</td>\n",
       "    </tr>\n",
       "    <tr>\n",
       "      <td>8</td>\n",
       "      <td>3.701711</td>\n",
       "      <td>3.431604</td>\n",
       "      <td>0.376379</td>\n",
       "      <td>30.926220</td>\n",
       "      <td>00:54</td>\n",
       "    </tr>\n",
       "    <tr>\n",
       "      <td>9</td>\n",
       "      <td>3.650841</td>\n",
       "      <td>3.430446</td>\n",
       "      <td>0.375919</td>\n",
       "      <td>30.890408</td>\n",
       "      <td>00:54</td>\n",
       "    </tr>\n",
       "  </tbody>\n",
       "</table>"
      ],
      "text/plain": [
       "<IPython.core.display.HTML object>"
      ]
     },
     "metadata": {},
     "output_type": "display_data"
    }
   ],
   "source": [
    "learn_titles, dls_lm_titles = train_language_model(title_text_data, 'title-text-lang-model')"
   ]
  },
  {
   "cell_type": "code",
   "execution_count": 61,
   "metadata": {},
   "outputs": [
    {
     "data": {
      "text/html": [],
      "text/plain": [
       "<IPython.core.display.HTML object>"
      ]
     },
     "metadata": {},
     "output_type": "display_data"
    },
    {
     "data": {
      "text/html": [
       "<table border=\"1\" class=\"dataframe\">\n",
       "  <thead>\n",
       "    <tr style=\"text-align: right;\">\n",
       "      <th></th>\n",
       "      <th>text</th>\n",
       "      <th>text_</th>\n",
       "    </tr>\n",
       "  </thead>\n",
       "  <tbody>\n",
       "    <tr>\n",
       "      <th>0</th>\n",
       "      <td>xxbos xxmaj google xxmaj play xxmaj music has been given the death xxunk by xxmaj google , and today the company has announced a bit more detail about how its execution will be xxunk out . xxmaj pre - orders and purchases will be shut down . xxmaj september — streaming xxunk down for users in xxmaj new xxmaj zealand and xxmaj south xxmaj xxunk . — youtube xxmaj music seems designed</td>\n",
       "      <td>xxmaj google xxmaj play xxmaj music has been given the death xxunk by xxmaj google , and today the company has announced a bit more detail about how its execution will be xxunk out . xxmaj pre - orders and purchases will be shut down . xxmaj september — streaming xxunk down for users in xxmaj new xxmaj zealand and xxmaj south xxmaj xxunk . — youtube xxmaj music seems designed to</td>\n",
       "    </tr>\n",
       "    <tr>\n",
       "      <th>1</th>\n",
       "      <td>getting my commission . xxbos xxmaj donald xxmaj trump issued an executive order banning tiktok from operating in the xxmaj united xxmaj states within 45 days . xxmaj some of the app ’s biggest stars xxunk they ’ve become the target of xxmaj trump ’s latest xxunk simply because they xxunk him with that epic xxmaj tulsa rally xxunk . xxmaj trump has absolutely no reason to be xxunk at tiktok for</td>\n",
       "      <td>my commission . xxbos xxmaj donald xxmaj trump issued an executive order banning tiktok from operating in the xxmaj united xxmaj states within 45 days . xxmaj some of the app ’s biggest stars xxunk they ’ve become the target of xxmaj trump ’s latest xxunk simply because they xxunk him with that epic xxmaj tulsa rally xxunk . xxmaj trump has absolutely no reason to be xxunk at tiktok for what</td>\n",
       "    </tr>\n",
       "    <tr>\n",
       "      <th>2</th>\n",
       "      <td>in some regions , although price xxunk are unlikely to be xxunk , so the final price might be similar to the $ xxunk / £ xxunk / xxup xxunk original . xxmaj this is an organization that a phone would have to be certified by before being sold in xxmaj china , so the details it has are likely to be correct . xxbos xxmaj on top of being more affordable</td>\n",
       "      <td>some regions , although price xxunk are unlikely to be xxunk , so the final price might be similar to the $ xxunk / £ xxunk / xxup xxunk original . xxmaj this is an organization that a phone would have to be certified by before being sold in xxmaj china , so the details it has are likely to be correct . xxbos xxmaj on top of being more affordable than</td>\n",
       "    </tr>\n",
       "    <tr>\n",
       "      <th>3</th>\n",
       "      <td>xxunk m fine last year ( xxunk in xxmaj june ) — now has an open investigation into the social video app du xxunk , techcrunch has confirmed . xxmaj french data protection law lets children consent to the processing of their data for information social services such as tiktok at xxunk 15 ( or younger with xxunk consent ) . xxmaj the [ tiktok ] investigations could therefore ultimately be the</td>\n",
       "      <td>m fine last year ( xxunk in xxmaj june ) — now has an open investigation into the social video app du xxunk , techcrunch has confirmed . xxmaj french data protection law lets children consent to the processing of their data for information social services such as tiktok at xxunk 15 ( or younger with xxunk consent ) . xxmaj the [ tiktok ] investigations could therefore ultimately be the sole</td>\n",
       "    </tr>\n",
       "    <tr>\n",
       "      <th>4</th>\n",
       "      <td>on its service with a xxunk term like \" main \" to avoid any xxunk references to slavery , its xxup ceo said on xxmaj friday . xxmaj for example , zdnet found that projects like the xxunk encryption software library , automation software xxmaj xxunk , xxmaj microsoft 's xxunk xxunk language , the xxmaj xxunk javascript library , and many others are looking at changing the name of their default</td>\n",
       "      <td>its service with a xxunk term like \" main \" to avoid any xxunk references to slavery , its xxup ceo said on xxmaj friday . xxmaj for example , zdnet found that projects like the xxunk encryption software library , automation software xxmaj xxunk , xxmaj microsoft 's xxunk xxunk language , the xxmaj xxunk javascript library , and many others are looking at changing the name of their default source</td>\n",
       "    </tr>\n",
       "    <tr>\n",
       "      <th>5</th>\n",
       "      <td>star xxmaj market follows the latest trend of xxmaj chinese tech firms trading closer to home as the cities make it easier for high - risk , innovation - driven firms to access funding . xxbos nan xxbos xxmaj this post was originally published on xxmaj july 22nd , 2020 . xxmaj we will update the numbers when we get result for other database types . a new search on xxmaj saturday</td>\n",
       "      <td>xxmaj market follows the latest trend of xxmaj chinese tech firms trading closer to home as the cities make it easier for high - risk , innovation - driven firms to access funding . xxbos nan xxbos xxmaj this post was originally published on xxmaj july 22nd , 2020 . xxmaj we will update the numbers when we get result for other database types . a new search on xxmaj saturday using</td>\n",
       "    </tr>\n",
       "    <tr>\n",
       "      <th>6</th>\n",
       "      <td>in the modern xxunk are , so much of the time , the professional xxunk themselves : xxunk . xxmaj first statement : i love the media . xxmaj not your tiny piece of it , the xxunk xxunk of the xxunk . xxmaj let the entire xxunk , the thing itself , take shape . xxbos xxmaj xxunk xxmaj scott ’s xxmaj raised by xxmaj xxunk was supposed to be a</td>\n",
       "      <td>the modern xxunk are , so much of the time , the professional xxunk themselves : xxunk . xxmaj first statement : i love the media . xxmaj not your tiny piece of it , the xxunk xxunk of the xxunk . xxmaj let the entire xxunk , the thing itself , take shape . xxbos xxmaj xxunk xxmaj scott ’s xxmaj raised by xxmaj xxunk was supposed to be a straight</td>\n",
       "    </tr>\n",
       "    <tr>\n",
       "      <th>7</th>\n",
       "      <td>xxunk in the xxup uk can watch every xxup ufc event around , including the pricey xxunk , for just £ 25 a month with bt 's monthly xxmaj sport xxmaj pass deal . xxmaj things get a bit more complicated when it comes to watching xxup ufc xxunk , such as xxup ufc xxunk , xxup ufc xxunk and so on . xxup xxunk also offers plenty of added value content</td>\n",
       "      <td>in the xxup uk can watch every xxup ufc event around , including the pricey xxunk , for just £ 25 a month with bt 's monthly xxmaj sport xxmaj pass deal . xxmaj things get a bit more complicated when it comes to watching xxup ufc xxunk , such as xxup ufc xxunk , xxup ufc xxunk and so on . xxup xxunk also offers plenty of added value content for</td>\n",
       "    </tr>\n",
       "    <tr>\n",
       "      <th>8</th>\n",
       "      <td>, setting the price of xxup nba 2k21 on xxmaj xbox xxmaj series x and xxup ps5 at an eye - xxunk $ 70 – $ 10 more than its price on xxup ps4 and xxmaj xbox xxmaj one . xxmaj but it looks like 2k xxmaj games is n't the only publisher that will implement a price hike on xxmaj xbox xxmaj series x and xxup ps5 games , as research</td>\n",
       "      <td>setting the price of xxup nba 2k21 on xxmaj xbox xxmaj series x and xxup ps5 at an eye - xxunk $ 70 – $ 10 more than its price on xxup ps4 and xxmaj xbox xxmaj one . xxmaj but it looks like 2k xxmaj games is n't the only publisher that will implement a price hike on xxmaj xbox xxmaj series x and xxup ps5 games , as research company</td>\n",
       "    </tr>\n",
       "  </tbody>\n",
       "</table>"
      ],
      "text/plain": [
       "<IPython.core.display.HTML object>"
      ]
     },
     "metadata": {},
     "output_type": "display_data"
    },
    {
     "data": {
      "text/html": [
       "<table border=\"1\" class=\"dataframe\">\n",
       "  <thead>\n",
       "    <tr style=\"text-align: left;\">\n",
       "      <th>epoch</th>\n",
       "      <th>train_loss</th>\n",
       "      <th>valid_loss</th>\n",
       "      <th>accuracy</th>\n",
       "      <th>perplexity</th>\n",
       "      <th>time</th>\n",
       "    </tr>\n",
       "  </thead>\n",
       "  <tbody>\n",
       "    <tr>\n",
       "      <td>0</td>\n",
       "      <td>4.742500</td>\n",
       "      <td>4.190171</td>\n",
       "      <td>0.262659</td>\n",
       "      <td>66.034096</td>\n",
       "      <td>03:57</td>\n",
       "    </tr>\n",
       "  </tbody>\n",
       "</table>"
      ],
      "text/plain": [
       "<IPython.core.display.HTML object>"
      ]
     },
     "metadata": {},
     "output_type": "display_data"
    },
    {
     "data": {
      "text/html": [
       "<table border=\"1\" class=\"dataframe\">\n",
       "  <thead>\n",
       "    <tr style=\"text-align: left;\">\n",
       "      <th>epoch</th>\n",
       "      <th>train_loss</th>\n",
       "      <th>valid_loss</th>\n",
       "      <th>accuracy</th>\n",
       "      <th>perplexity</th>\n",
       "      <th>time</th>\n",
       "    </tr>\n",
       "  </thead>\n",
       "  <tbody>\n",
       "    <tr>\n",
       "      <td>0</td>\n",
       "      <td>4.415682</td>\n",
       "      <td>4.078748</td>\n",
       "      <td>0.268711</td>\n",
       "      <td>59.071480</td>\n",
       "      <td>05:38</td>\n",
       "    </tr>\n",
       "    <tr>\n",
       "      <td>1</td>\n",
       "      <td>4.308295</td>\n",
       "      <td>3.980779</td>\n",
       "      <td>0.280527</td>\n",
       "      <td>53.558762</td>\n",
       "      <td>05:40</td>\n",
       "    </tr>\n",
       "    <tr>\n",
       "      <td>2</td>\n",
       "      <td>4.194752</td>\n",
       "      <td>3.913415</td>\n",
       "      <td>0.286820</td>\n",
       "      <td>50.069656</td>\n",
       "      <td>05:31</td>\n",
       "    </tr>\n",
       "    <tr>\n",
       "      <td>3</td>\n",
       "      <td>4.075219</td>\n",
       "      <td>3.860670</td>\n",
       "      <td>0.291426</td>\n",
       "      <td>47.497158</td>\n",
       "      <td>05:28</td>\n",
       "    </tr>\n",
       "    <tr>\n",
       "      <td>4</td>\n",
       "      <td>3.938043</td>\n",
       "      <td>3.829345</td>\n",
       "      <td>0.293620</td>\n",
       "      <td>46.032375</td>\n",
       "      <td>05:31</td>\n",
       "    </tr>\n",
       "    <tr>\n",
       "      <td>5</td>\n",
       "      <td>3.816766</td>\n",
       "      <td>3.807616</td>\n",
       "      <td>0.295838</td>\n",
       "      <td>45.042927</td>\n",
       "      <td>05:32</td>\n",
       "    </tr>\n",
       "    <tr>\n",
       "      <td>6</td>\n",
       "      <td>3.707165</td>\n",
       "      <td>3.790590</td>\n",
       "      <td>0.298105</td>\n",
       "      <td>44.282501</td>\n",
       "      <td>05:31</td>\n",
       "    </tr>\n",
       "    <tr>\n",
       "      <td>7</td>\n",
       "      <td>3.616464</td>\n",
       "      <td>3.784854</td>\n",
       "      <td>0.298949</td>\n",
       "      <td>44.029240</td>\n",
       "      <td>05:36</td>\n",
       "    </tr>\n",
       "    <tr>\n",
       "      <td>8</td>\n",
       "      <td>3.547423</td>\n",
       "      <td>3.784477</td>\n",
       "      <td>0.298587</td>\n",
       "      <td>44.012646</td>\n",
       "      <td>05:41</td>\n",
       "    </tr>\n",
       "    <tr>\n",
       "      <td>9</td>\n",
       "      <td>3.497124</td>\n",
       "      <td>3.783341</td>\n",
       "      <td>0.298780</td>\n",
       "      <td>43.962662</td>\n",
       "      <td>05:42</td>\n",
       "    </tr>\n",
       "  </tbody>\n",
       "</table>"
      ],
      "text/plain": [
       "<IPython.core.display.HTML object>"
      ]
     },
     "metadata": {},
     "output_type": "display_data"
    }
   ],
   "source": [
    "learn_summaries, dls_lm_summaries = train_language_model(summary_text_data, 'summary-text-lang-model')"
   ]
  },
  {
   "cell_type": "code",
   "execution_count": 63,
   "metadata": {},
   "outputs": [],
   "source": [
    "def generate_text(learn, init_text, n_words=40, n_sentences=2):\n",
    "    preds = [learn.predict(init_text, n_words, temperature=0.75) \n",
    "         for _ in range(n_sentences)]\n",
    "    \n",
    "    print(\"\\n\".join(preds))"
   ]
  },
  {
   "cell_type": "code",
   "execution_count": 64,
   "metadata": {},
   "outputs": [
    {
     "data": {
      "text/html": [],
      "text/plain": [
       "<IPython.core.display.HTML object>"
      ]
     },
     "metadata": {},
     "output_type": "display_data"
    },
    {
     "data": {
      "text/html": [],
      "text/plain": [
       "<IPython.core.display.HTML object>"
      ]
     },
     "metadata": {},
     "output_type": "display_data"
    },
    {
     "name": "stdout",
     "output_type": "stream",
     "text": [
      "AWS has announced on the recent conference that its latest robot - based web screen would be the most popular PS5 console for the next 30 years . Why is that CEO Tiger Lake is doing a very big job with\n",
      "AWS has announced on the recent conference that it ’s planning to install a new BT smart speaker on most platforms Samsung will be able to introduce a new speaker According to The Verge , CEO and CEO Bill\n"
     ]
    }
   ],
   "source": [
    "generate_text(learn_all_text, 'AWS has announced on the recent conference')"
   ]
  },
  {
   "cell_type": "code",
   "execution_count": 66,
   "metadata": {},
   "outputs": [
    {
     "data": {
      "text/html": [],
      "text/plain": [
       "<IPython.core.display.HTML object>"
      ]
     },
     "metadata": {},
     "output_type": "display_data"
    },
    {
     "data": {
      "text/html": [],
      "text/plain": [
       "<IPython.core.display.HTML object>"
      ]
     },
     "metadata": {},
     "output_type": "display_data"
    },
    {
     "data": {
      "text/html": [],
      "text/plain": [
       "<IPython.core.display.HTML object>"
      ]
     },
     "metadata": {},
     "output_type": "display_data"
    },
    {
     "data": {
      "text/html": [],
      "text/plain": [
       "<IPython.core.display.HTML object>"
      ]
     },
     "metadata": {},
     "output_type": "display_data"
    },
    {
     "name": "stdout",
     "output_type": "stream",
     "text": [
      "Apple is getting a new Samsung Galaxy TV series\n",
      "Apple is making a Facebook and Facebook series that should\n",
      "Apple is getting a new ad - save battery on Amazon\n",
      "Apple is offering a $ 50 million Internet Movie\n"
     ]
    }
   ],
   "source": [
    "generate_text(learn_titles, 'Apple is', 10, 40)"
   ]
  },
  {
   "cell_type": "code",
   "execution_count": 65,
   "metadata": {},
   "outputs": [
    {
     "data": {
      "text/html": [],
      "text/plain": [
       "<IPython.core.display.HTML object>"
      ]
     },
     "metadata": {},
     "output_type": "display_data"
    },
    {
     "data": {
      "text/html": [],
      "text/plain": [
       "<IPython.core.display.HTML object>"
      ]
     },
     "metadata": {},
     "output_type": "display_data"
    },
    {
     "name": "stdout",
     "output_type": "stream",
     "text": [
      "AWS has announced on the recent conference back that it has been introducing a new cloud cloud service for Windows , Mac , OS and Windows X. The Cloud Protection Deal will also be designed to protect customers\n",
      "AWS has announced on the recent conference that it has built an all - new PS4 display , which will include a battery life of a multi - core processor , a graphics processor , a laptop , and a range of gadgets , including a\n"
     ]
    }
   ],
   "source": [
    "generate_text(learn_summaries, 'AWS has announced on the recent conference', 40, )"
   ]
  },
  {
   "cell_type": "code",
   "execution_count": null,
   "metadata": {},
   "outputs": [],
   "source": [
    "from google.cloud import storage\n",
    "    \n",
    "# https://console.cloud.google.com/storage/browser/[bucket-id]/\n",
    "client = storage.Client(project='tldr-news-discovery')\n",
    "bucket = client.get_bucket('tldr-models')\n",
    "\n",
    "def upload(model):\n",
    "    blob = bucket.blob('f{model}.pth')\n",
    "    blob.upload_from_filename(f'models/{model}.pth')\n",
    "\n",
    "upload('summary-text-lang-model')\n",
    "upload('all-text-lang-model')\n",
    "upload('title-text-lang-model')"
   ]
  }
 ],
 "metadata": {
  "environment": {
   "name": "pytorch-gpu.m59",
   "type": "gcloud",
   "uri": "gcr.io/deeplearning-platform-release/pytorch-gpu:m59"
  },
  "kernelspec": {
   "display_name": "Python 3",
   "language": "python",
   "name": "python3"
  },
  "language_info": {
   "codemirror_mode": {
    "name": "ipython",
    "version": 3
   },
   "file_extension": ".py",
   "mimetype": "text/x-python",
   "name": "python",
   "nbconvert_exporter": "python",
   "pygments_lexer": "ipython3",
   "version": "3.7.6"
  }
 },
 "nbformat": 4,
 "nbformat_minor": 4
}
